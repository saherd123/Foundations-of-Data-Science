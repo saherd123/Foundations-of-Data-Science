{
 "cells": [
  {
   "cell_type": "code",
   "execution_count": 1,
   "metadata": {
    "deletable": false,
    "editable": false
   },
   "outputs": [],
   "source": [
    "# Initialize Otter\n",
    "import otter\n",
    "grader = otter.Notebook(\"lab07.ipynb\")"
   ]
  },
  {
   "cell_type": "markdown",
   "metadata": {
    "nbgrader": {
     "grade": false,
     "grade_id": "intro",
     "locked": true,
     "schema_version": 2,
     "solution": false
    }
   },
   "source": [
    "# Lab 07: Gradient Descent and Sklearn\n",
    "\n",
    "In this lab, we will work through the process of:\n",
    "1. Defining loss functions,\n",
    "1. Performing feature engineering,\n",
    "1. Minimizing loss functions using numerical methods and analytical methods,\n",
    "1. Understanding what happens if we use the analytical solution for OLS on a matrix with redundant features,\n",
    "1. Computing a gradient for a nonlinear model, and\n",
    "1. Using gradient descent to optimize the non-linear model.\n",
    "\n",
    "This lab will continue using the toy `tips` calculation dataset used in a prior lab.\n",
    "\n",
    "To receive credit for a lab, answer all questions correctly and submit before the deadline.\n",
    "\n",
    "**The on-time deadline is Tuesday, March 12, 11:59 PM**. Please read the syllabus for the grace period policy. No late submissions beyond the grace period will be accepted. While course staff is happy to help you if you encounter difficulties with submission, we may not be able to respond to late-night requests for assistance (TAs need to sleep, after all!). **We strongly encourage you to plan to submit your work to Gradescope several hours before the stated deadline.** This way, you will have ample time to contact staff for submission support."
   ]
  },
  {
   "cell_type": "markdown",
   "metadata": {},
   "source": [
    "### Lab Walk-Through\n",
    "In addition to the lab notebook, we have also released a prerecorded walk-through video of the lab. We encourage you to reference this video as you work through the lab. Run the cell below to display the video.\n",
    "\n",
    "**Note:** Some parts of the video are recorded in Spring 2022. There may be slight inconsistencies between the version you are viewing and the version used in the recording, but the content is identical."
   ]
  },
  {
   "cell_type": "code",
   "execution_count": 2,
   "metadata": {},
   "outputs": [
    {
     "data": {
      "image/jpeg": "[encoded data removed]",
      "text/html": [
       "\n",
       "        <iframe\n",
       "            width=\"400\"\n",
       "            height=\"300\"\n",
       "            src=\"https://www.youtube.com/embed/LohVOmiulHQ\"\n",
       "            frameborder=\"0\"\n",
       "            allowfullscreen\n",
       "            \n",
       "        ></iframe>\n",
       "        "
      ],
      "text/plain": [
       "<IPython.lib.display.YouTubeVideo at 0x7bb0217766d0>"
      ]
     },
     "execution_count": 2,
     "metadata": {},
     "output_type": "execute_result"
    }
   ],
   "source": [
    "from IPython.display import YouTubeVideo\n",
    "YouTubeVideo(\"LohVOmiulHQ\")"
   ]
  },
  {
   "cell_type": "markdown",
   "metadata": {},
   "source": [
    "\n",
    "### Collaboration Policy\n",
    "\n",
    "Data science is a collaborative activity. While you may talk to others about the labs, we ask that you **write your solutions individually**. If you do discuss the assignments with others, please **include their names** in the following cell:"
   ]
  },
  {
   "cell_type": "markdown",
   "metadata": {},
   "source": [
    "**Collaborators**: *list names here*"
   ]
  },
  {
   "cell_type": "markdown",
   "metadata": {},
   "source": [
    "---\n",
    "### Debugging Guide\n",
    "\n",
    "If you run into any technical issues, we highly recommend checking out the [Data 100 Debugging Guide](https://ds100.org/debugging-guide/). In this guide, you can find general questions about Jupyter notebooks / Datahub, Gradescope, and common `pandas`, RegEx, and visualization errors."
   ]
  },
  {
   "cell_type": "markdown",
   "metadata": {
    "nbgrader": {
     "grade": false,
     "grade_id": "load-data-text",
     "locked": true,
     "schema_version": 2,
     "solution": false
    }
   },
   "source": [
    "<br/>\n",
    "<hr style=\"border: 5px solid #003262;\" />\n",
    "<hr style=\"border: 1px solid #fdb515;\" />\n",
    "\n",
    "# Feature Engineering\n",
    "\n",
    "To begin, let's load the tips dataset from the `seaborn` library.  This dataset contains records of tips, total bill, and information about the person who paid the bill. As earlier, we'll be trying to predict tips from the other data."
   ]
  },
  {
   "cell_type": "code",
   "execution_count": 3,
   "metadata": {
    "nbgrader": {
     "grade": false,
     "grade_id": "imports",
     "locked": true,
     "schema_version": 2,
     "solution": false
    }
   },
   "outputs": [],
   "source": [
    "import pandas as pd\n",
    "import numpy as np\n",
    "import seaborn as sns\n",
    "from sklearn.feature_extraction import DictVectorizer\n",
    "from sklearn.preprocessing import OneHotEncoder\n",
    "import matplotlib.pyplot as plt\n",
    "np.random.seed(42)\n",
    "plt.style.use('fivethirtyeight')\n",
    "sns.set()\n",
    "sns.set_context(\"talk\")\n",
    "%matplotlib inline"
   ]
  },
  {
   "cell_type": "code",
   "execution_count": 4,
   "metadata": {
    "nbgrader": {
     "grade": false,
     "grade_id": "load-data-code",
     "locked": true,
     "schema_version": 2,
     "solution": false
    }
   },
   "outputs": [
    {
     "name": "stdout",
     "output_type": "stream",
     "text": [
      "Number of Records: 244\n"
     ]
    },
    {
     "data": {
      "text/html": [
       "<div>\n",
       "<style scoped>\n",
       "    .dataframe tbody tr th:only-of-type {\n",
       "        vertical-align: middle;\n",
       "    }\n",
       "\n",
       "    .dataframe tbody tr th {\n",
       "        vertical-align: top;\n",
       "    }\n",
       "\n",
       "    .dataframe thead th {\n",
       "        text-align: right;\n",
       "    }\n",
       "</style>\n",
       "<table border=\"1\" class=\"dataframe\">\n",
       "  <thead>\n",
       "    <tr style=\"text-align: right;\">\n",
       "      <th></th>\n",
       "      <th>total_bill</th>\n",
       "      <th>tip</th>\n",
       "      <th>sex</th>\n",
       "      <th>smoker</th>\n",
       "      <th>day</th>\n",
       "      <th>time</th>\n",
       "      <th>size</th>\n",
       "    </tr>\n",
       "  </thead>\n",
       "  <tbody>\n",
       "    <tr>\n",
       "      <th>0</th>\n",
       "      <td>16.99</td>\n",
       "      <td>1.01</td>\n",
       "      <td>Female</td>\n",
       "      <td>No</td>\n",
       "      <td>Sun</td>\n",
       "      <td>Dinner</td>\n",
       "      <td>2</td>\n",
       "    </tr>\n",
       "    <tr>\n",
       "      <th>1</th>\n",
       "      <td>10.34</td>\n",
       "      <td>1.66</td>\n",
       "      <td>Male</td>\n",
       "      <td>No</td>\n",
       "      <td>Sun</td>\n",
       "      <td>Dinner</td>\n",
       "      <td>3</td>\n",
       "    </tr>\n",
       "    <tr>\n",
       "      <th>2</th>\n",
       "      <td>21.01</td>\n",
       "      <td>3.50</td>\n",
       "      <td>Male</td>\n",
       "      <td>No</td>\n",
       "      <td>Sun</td>\n",
       "      <td>Dinner</td>\n",
       "      <td>3</td>\n",
       "    </tr>\n",
       "    <tr>\n",
       "      <th>3</th>\n",
       "      <td>23.68</td>\n",
       "      <td>3.31</td>\n",
       "      <td>Male</td>\n",
       "      <td>No</td>\n",
       "      <td>Sun</td>\n",
       "      <td>Dinner</td>\n",
       "      <td>2</td>\n",
       "    </tr>\n",
       "    <tr>\n",
       "      <th>4</th>\n",
       "      <td>24.59</td>\n",
       "      <td>3.61</td>\n",
       "      <td>Female</td>\n",
       "      <td>No</td>\n",
       "      <td>Sun</td>\n",
       "      <td>Dinner</td>\n",
       "      <td>4</td>\n",
       "    </tr>\n",
       "  </tbody>\n",
       "</table>\n",
       "</div>"
      ],
      "text/plain": [
       "   total_bill   tip     sex smoker  day    time  size\n",
       "0       16.99  1.01  Female     No  Sun  Dinner     2\n",
       "1       10.34  1.66    Male     No  Sun  Dinner     3\n",
       "2       21.01  3.50    Male     No  Sun  Dinner     3\n",
       "3       23.68  3.31    Male     No  Sun  Dinner     2\n",
       "4       24.59  3.61  Female     No  Sun  Dinner     4"
      ]
     },
     "execution_count": 4,
     "metadata": {},
     "output_type": "execute_result"
    }
   ],
   "source": [
    "# Run this cell to load the tips dataset; no further action is needed.\n",
    "data = sns.load_dataset(\"tips\")\n",
    "\n",
    "print(\"Number of Records:\", len(data))\n",
    "data.head()"
   ]
  },
  {
   "cell_type": "markdown",
   "metadata": {},
   "source": [
    "---\n",
    "\n",
    "## Feature Functions\n",
    "\n",
    "So far, we've only considered models of the form $\\hat{y} = f_{\\theta}(x) = \\theta_0 + \\sum_{j=1}^p x_j\\theta_j$, where $\\hat{y}$ is a quantitative continuous variable. \n",
    "\n",
    "We call this a linear model because it is a linear combination of the features $x_1, \\dots, x_p$. However, our features don't need to be numbers: we could have categorical values such as names. Additionally, the true relationship doesn't have to be linear, as we could have a relationship that is quadratic, such as the relationship between the height of a projectile and time.\n",
    "\n",
    "In these cases, we often apply **feature functions**, functions that take in some value and output another value. This might look like converting a string into a number, combining multiple numeric values, or creating a boolean value from some filter.\n",
    "\n",
    "If we use $\\phi$ to represent the feature (_\"phi\"_-ture) function or transformation applied to our data, then our model takes the following form: $$\\hat{y} = f_{\\theta}(x) = \\theta_0 + \\sum_{j=1}^p \\phi(x)_j\\theta_j$$"
   ]
  },
  {
   "cell_type": "markdown",
   "metadata": {},
   "source": [
    "### Example Feature Functions\n",
    "\n",
    "1. **One-hot encoding**\n",
    "    - Converts a single categorical feature into many binary features, each of which represents one of the possible values in the original column.\n",
    "    - Each of the binary feature columns produced contains a 1 for rows that had that column's label in the original column and 0 elsewhere.\n",
    "1. **Polynomial feature**\n",
    "    - Creates polynomial combinations of features.\n",
    "1. **Normalized/Standardized feature**\n",
    "    - Normalizes features so they have a mean of 0 and a standard deviation of 1."
   ]
  },
  {
   "cell_type": "markdown",
   "metadata": {
    "nbgrader": {
     "grade": false,
     "grade_id": "q1",
     "locked": true,
     "schema_version": 2,
     "solution": false
    }
   },
   "source": [
    "<br/>\n",
    "<hr style=\"border: 1px solid #fdb515;\" />\n",
    "\n",
    "## Defining the Model and Engineering Features\n",
    "\n",
    "In Lab 5, we used both a Simple Linear Regression (SLR) model and a constant model on this dataset. Now, let's make a more complicated model that utilizes other features in our dataset. You can imagine that we might want to use the features with an equation that looks as shown below:\n",
    "\n",
    "$$ \\text{Tip} = \\theta_0 + \\theta_1 \\cdot \\text{total}\\_\\text{bill} + \\theta_2 \\cdot \\text{sex} + \\theta_3 \\cdot \\text{smoker} + \\theta_4 \\cdot \\text{day} + \\theta_5 \\cdot \\text{time} + \\theta_6 \\cdot \\text{size} $$\n",
    "\n",
    "Unfortunately, that's not possible because some of these features like \"day\" are not numbers, so it doesn't make sense to multiply by a numerical parameter. Let's start by converting some of these non-numerical values into numerical values.\n",
    "\n",
    "Before we do this, let's separate out the tips and the features into two separate variables, and add a bias term using `pd.insert` ([documentation](https://pandas.pydata.org/docs/reference/api/pandas.DataFrame.insert.html))."
   ]
  },
  {
   "cell_type": "code",
   "execution_count": 5,
   "metadata": {},
   "outputs": [
    {
     "data": {
      "text/html": [
       "<div>\n",
       "<style scoped>\n",
       "    .dataframe tbody tr th:only-of-type {\n",
       "        vertical-align: middle;\n",
       "    }\n",
       "\n",
       "    .dataframe tbody tr th {\n",
       "        vertical-align: top;\n",
       "    }\n",
       "\n",
       "    .dataframe thead th {\n",
       "        text-align: right;\n",
       "    }\n",
       "</style>\n",
       "<table border=\"1\" class=\"dataframe\">\n",
       "  <thead>\n",
       "    <tr style=\"text-align: right;\">\n",
       "      <th></th>\n",
       "      <th>bias</th>\n",
       "      <th>total_bill</th>\n",
       "      <th>sex</th>\n",
       "      <th>smoker</th>\n",
       "      <th>day</th>\n",
       "      <th>time</th>\n",
       "      <th>size</th>\n",
       "    </tr>\n",
       "  </thead>\n",
       "  <tbody>\n",
       "    <tr>\n",
       "      <th>0</th>\n",
       "      <td>1</td>\n",
       "      <td>16.99</td>\n",
       "      <td>Female</td>\n",
       "      <td>No</td>\n",
       "      <td>Sun</td>\n",
       "      <td>Dinner</td>\n",
       "      <td>2</td>\n",
       "    </tr>\n",
       "    <tr>\n",
       "      <th>1</th>\n",
       "      <td>1</td>\n",
       "      <td>10.34</td>\n",
       "      <td>Male</td>\n",
       "      <td>No</td>\n",
       "      <td>Sun</td>\n",
       "      <td>Dinner</td>\n",
       "      <td>3</td>\n",
       "    </tr>\n",
       "    <tr>\n",
       "      <th>2</th>\n",
       "      <td>1</td>\n",
       "      <td>21.01</td>\n",
       "      <td>Male</td>\n",
       "      <td>No</td>\n",
       "      <td>Sun</td>\n",
       "      <td>Dinner</td>\n",
       "      <td>3</td>\n",
       "    </tr>\n",
       "    <tr>\n",
       "      <th>3</th>\n",
       "      <td>1</td>\n",
       "      <td>23.68</td>\n",
       "      <td>Male</td>\n",
       "      <td>No</td>\n",
       "      <td>Sun</td>\n",
       "      <td>Dinner</td>\n",
       "      <td>2</td>\n",
       "    </tr>\n",
       "    <tr>\n",
       "      <th>4</th>\n",
       "      <td>1</td>\n",
       "      <td>24.59</td>\n",
       "      <td>Female</td>\n",
       "      <td>No</td>\n",
       "      <td>Sun</td>\n",
       "      <td>Dinner</td>\n",
       "      <td>4</td>\n",
       "    </tr>\n",
       "  </tbody>\n",
       "</table>\n",
       "</div>"
      ],
      "text/plain": [
       "   bias  total_bill     sex smoker  day    time  size\n",
       "0     1       16.99  Female     No  Sun  Dinner     2\n",
       "1     1       10.34    Male     No  Sun  Dinner     3\n",
       "2     1       21.01    Male     No  Sun  Dinner     3\n",
       "3     1       23.68    Male     No  Sun  Dinner     2\n",
       "4     1       24.59  Female     No  Sun  Dinner     4"
      ]
     },
     "execution_count": 5,
     "metadata": {},
     "output_type": "execute_result"
    }
   ],
   "source": [
    "# Run this cell to create our design matrix X; no further action is needed.\n",
    "tips = data['tip']\n",
    "X = data.drop(columns='tip')\n",
    "X.insert(0, 'bias', 1)\n",
    "X.head()"
   ]
  },
  {
   "cell_type": "markdown",
   "metadata": {
    "deletable": false,
    "editable": false
   },
   "source": [
    "<br/>\n",
    "<hr style=\"border: 1px solid #fdb515;\" />\n",
    "\n",
    "## Question 1: Feature Engineering\n",
    "\n",
    "First, let's convert our features to numerical values. A straightforward approach is to map some of these non-numerical features into numerical ones. \n",
    "\n",
    "For example, we could convert the `day` feature to a numerical value from 1-7. However, one of the disadvantages of directly translating to a numeric value is that we unintentionally assign certain features disproportionate weight. Consider assigning Sunday to the numeric value of 7, and Monday to the numeric value of 1. In our linear model, Sunday will have 7 times the influence of Monday, which can (and likely will) lower the performance of our model.\n",
    "\n",
    "Instead, let's use **one-hot encoding** to better represent these features!  As you learned in the lecture, one-hot encoding is a feature engineering method that represents non-numeric features using boolean vectors (numerical values 0 or 1).\n",
    "\n",
    "In the `tips` dataset, for example, we encode Sunday as the row vector `[0 0 0 1]` because our dataset only contains bills from Thursday through Sunday. This replaces the `day` feature with four boolean features indicating if the record occurred on Thursday, Friday, Saturday, or Sunday. One-hot encoding therefore assigns a more even weight across each category in non-numeric features.\n",
    "\n",
    "Complete the code below to one-hot encode our dataset. This `DataFrame` holds our \"featurized\" data, which is also often denoted by $\\phi$.\n",
    "\n",
    "**Hint 1:** You should use sklearn's `OneHotEncoder` class ([documentation](https://scikit-learn.org/stable/modules/generated/sklearn.preprocessing.OneHotEncoder.html)) when doing your one-hot encoding. Note that `OneHotEncoder` transforms data into a [SciPy sparse matrix](https://docs.scipy.org/doc/scipy/reference/generated/scipy.sparse.csr_matrix.html) to save space; we'll need to convert these back into regular arrays before doing any operations on them. Check out `.toarray()` ([documentation](https://docs.scipy.org/doc/scipy/reference/generated/scipy.sparse.csr_matrix.toarray.html)) for how to convert this to a `NumPy` array.\n",
    "\n",
    "**Hint 2:** Look through the lecture slides and/or course notes for examples of how to use `OneHotEncoder`."
   ]
  },
  {
   "cell_type": "code",
   "execution_count": 6,
   "metadata": {
    "nbgrader": {
     "grade": false,
     "grade_id": "q1a-answer",
     "locked": false,
     "schema_version": 2,
     "solution": true
    },
    "tags": []
   },
   "outputs": [
    {
     "data": {
      "text/html": [
       "<div>\n",
       "<style scoped>\n",
       "    .dataframe tbody tr th:only-of-type {\n",
       "        vertical-align: middle;\n",
       "    }\n",
       "\n",
       "    .dataframe tbody tr th {\n",
       "        vertical-align: top;\n",
       "    }\n",
       "\n",
       "    .dataframe thead th {\n",
       "        text-align: right;\n",
       "    }\n",
       "</style>\n",
       "<table border=\"1\" class=\"dataframe\">\n",
       "  <thead>\n",
       "    <tr style=\"text-align: right;\">\n",
       "      <th></th>\n",
       "      <th>bias</th>\n",
       "      <th>total_bill</th>\n",
       "      <th>size</th>\n",
       "      <th>sex_Female</th>\n",
       "      <th>sex_Male</th>\n",
       "      <th>smoker_No</th>\n",
       "      <th>smoker_Yes</th>\n",
       "      <th>day_Fri</th>\n",
       "      <th>day_Sat</th>\n",
       "      <th>day_Sun</th>\n",
       "      <th>day_Thur</th>\n",
       "      <th>time_Dinner</th>\n",
       "      <th>time_Lunch</th>\n",
       "    </tr>\n",
       "  </thead>\n",
       "  <tbody>\n",
       "    <tr>\n",
       "      <th>0</th>\n",
       "      <td>1</td>\n",
       "      <td>16.99</td>\n",
       "      <td>2</td>\n",
       "      <td>1.0</td>\n",
       "      <td>0.0</td>\n",
       "      <td>1.0</td>\n",
       "      <td>0.0</td>\n",
       "      <td>0.0</td>\n",
       "      <td>0.0</td>\n",
       "      <td>1.0</td>\n",
       "      <td>0.0</td>\n",
       "      <td>1.0</td>\n",
       "      <td>0.0</td>\n",
       "    </tr>\n",
       "    <tr>\n",
       "      <th>1</th>\n",
       "      <td>1</td>\n",
       "      <td>10.34</td>\n",
       "      <td>3</td>\n",
       "      <td>0.0</td>\n",
       "      <td>1.0</td>\n",
       "      <td>1.0</td>\n",
       "      <td>0.0</td>\n",
       "      <td>0.0</td>\n",
       "      <td>0.0</td>\n",
       "      <td>1.0</td>\n",
       "      <td>0.0</td>\n",
       "      <td>1.0</td>\n",
       "      <td>0.0</td>\n",
       "    </tr>\n",
       "    <tr>\n",
       "      <th>2</th>\n",
       "      <td>1</td>\n",
       "      <td>21.01</td>\n",
       "      <td>3</td>\n",
       "      <td>0.0</td>\n",
       "      <td>1.0</td>\n",
       "      <td>1.0</td>\n",
       "      <td>0.0</td>\n",
       "      <td>0.0</td>\n",
       "      <td>0.0</td>\n",
       "      <td>1.0</td>\n",
       "      <td>0.0</td>\n",
       "      <td>1.0</td>\n",
       "      <td>0.0</td>\n",
       "    </tr>\n",
       "    <tr>\n",
       "      <th>3</th>\n",
       "      <td>1</td>\n",
       "      <td>23.68</td>\n",
       "      <td>2</td>\n",
       "      <td>0.0</td>\n",
       "      <td>1.0</td>\n",
       "      <td>1.0</td>\n",
       "      <td>0.0</td>\n",
       "      <td>0.0</td>\n",
       "      <td>0.0</td>\n",
       "      <td>1.0</td>\n",
       "      <td>0.0</td>\n",
       "      <td>1.0</td>\n",
       "      <td>0.0</td>\n",
       "    </tr>\n",
       "    <tr>\n",
       "      <th>4</th>\n",
       "      <td>1</td>\n",
       "      <td>24.59</td>\n",
       "      <td>4</td>\n",
       "      <td>1.0</td>\n",
       "      <td>0.0</td>\n",
       "      <td>1.0</td>\n",
       "      <td>0.0</td>\n",
       "      <td>0.0</td>\n",
       "      <td>0.0</td>\n",
       "      <td>1.0</td>\n",
       "      <td>0.0</td>\n",
       "      <td>1.0</td>\n",
       "      <td>0.0</td>\n",
       "    </tr>\n",
       "  </tbody>\n",
       "</table>\n",
       "</div>"
      ],
      "text/plain": [
       "   bias  total_bill  size  sex_Female  sex_Male  smoker_No  smoker_Yes  \\\n",
       "0     1       16.99     2         1.0       0.0        1.0         0.0   \n",
       "1     1       10.34     3         0.0       1.0        1.0         0.0   \n",
       "2     1       21.01     3         0.0       1.0        1.0         0.0   \n",
       "3     1       23.68     2         0.0       1.0        1.0         0.0   \n",
       "4     1       24.59     4         1.0       0.0        1.0         0.0   \n",
       "\n",
       "   day_Fri  day_Sat  day_Sun  day_Thur  time_Dinner  time_Lunch  \n",
       "0      0.0      0.0      1.0       0.0          1.0         0.0  \n",
       "1      0.0      0.0      1.0       0.0          1.0         0.0  \n",
       "2      0.0      0.0      1.0       0.0          1.0         0.0  \n",
       "3      0.0      0.0      1.0       0.0          1.0         0.0  \n",
       "4      0.0      0.0      1.0       0.0          1.0         0.0  "
      ]
     },
     "execution_count": 6,
     "metadata": {},
     "output_type": "execute_result"
    }
   ],
   "source": [
    "def one_hot_encode(data):\n",
    "    \"\"\"\n",
    "    Return the one-hot encoded DataFrame of our input data.\n",
    "    \n",
    "    Parameters\n",
    "    -----------\n",
    "    data: A DataFrame that may include non-numerical features.\n",
    "    \n",
    "    Returns\n",
    "    -----------\n",
    "    A one-hot encoded DataFrame that only contains numeric features.\n",
    "    \n",
    "    \"\"\"\n",
    "    # data.OneHotEncoder(categories = [\"sex\", \"smoker\", \"day\", \"time\"]).toarray()\n",
    "\n",
    "    # categorical_cols = data.select_dtypes(include=['string']).columns.tolist()\n",
    "    categorical_columns = [\"sex\", \"smoker\", \"day\", \"time\"]\n",
    "    enc = OneHotEncoder()\n",
    "    transformed_data = enc.fit_transform(data[categorical_columns]).toarray()\n",
    "    # enc.transform(categorical_columns).toarray()\n",
    "    data = data.drop(columns=categorical_columns)\n",
    "    # data[categorical_columns]= transformed_data\n",
    "    # data = pd.concat([data, pd.DataFrame(transformed_data, columns=enc.get_feature_names_out(categorical_columns))], axis=1)\n",
    "    df = pd.DataFrame(transformed_data, columns=enc.get_feature_names_out(categorical_columns))\n",
    "    data = pd.concat([data, df], axis=1)\n",
    "    return data\n",
    "\n",
    "    \n",
    "one_hot_X = one_hot_encode(X)\n",
    "one_hot_X.head()\n",
    "# one_hot_X.shape()\n",
    "# X.shape()\n",
    "# X"
   ]
  },
  {
   "cell_type": "code",
   "execution_count": 7,
   "metadata": {
    "deletable": false,
    "editable": false
   },
   "outputs": [
    {
     "data": {
      "text/html": [
       "<p><strong><pre style='display: inline;'>q1</pre></strong> passed! 🍀</p>"
      ],
      "text/plain": [
       "q1 results: All test cases passed!"
      ]
     },
     "execution_count": 7,
     "metadata": {},
     "output_type": "execute_result"
    }
   ],
   "source": [
    "grader.check(\"q1\")"
   ]
  },
  {
   "cell_type": "markdown",
   "metadata": {
    "nbgrader": {
     "grade": false,
     "grade_id": "q1b",
     "locked": true,
     "schema_version": 2,
     "solution": false
    },
    "tags": []
   },
   "source": [
    "<br>\n",
    "\n",
    "### Tutorial: fit()/predict()\n",
    "\n",
    "This tutorial serves to provide you with a blueprint for how to create a model. Now that all of our data is numeric, we can begin to define our model function. Notice that after one-hot encoding our data, we now have 13 features instead of 7 (including bias). Therefore, our linear model is now similar to the below (note the order of thetas below does not necessarily match the order in the `DataFrame`):\n",
    "\n",
    "\\begin{align}\n",
    "\\text{Tip} &= \\theta_0 + \\theta_1 \\cdot \\text{total}\\_\\text{bill} + \\theta_2 \\cdot \\text{size}  \\\\\n",
    "& + \\theta_3 \\cdot \\text{sex}\\_\\text{Female} + \\theta_4 \\cdot \\text{sex}\\_\\text{Male} \\\\\n",
    "& + \\theta_5 \\cdot \\text{smoker}\\_\\text{No} + \\theta_{6} \\cdot \\text{smoker}\\_\\text{Yes} \\\\\n",
    "& + \\theta_7 \\cdot \\text{day}\\_\\text{Fri} + \\theta_8 \\cdot \\text{day}\\_\\text{Sat} + \\theta_9 \\cdot \\text{day}\\_\\text{Sun} + \\theta_{10} \\cdot \\text{day}\\_\\text{Thur} \\\\\n",
    "& + \\theta_{11} \\cdot \\text{time}\\_\\text{Dinner}+ \\theta_{12} \\cdot \\text{time}\\_\\text{Lunch} \n",
    "\\end{align}\n",
    "\n",
    "We can represent the linear combination above as a matrix-vector product. To practice using syntax similar to the `sklearn` pipeline, we introduce a staff-made example called `MyZeroLinearModel`.\n",
    "\n",
    "The `MyZeroLinearModel` has two methods, `predict` and `fit`.\n",
    "* `fit`: Compute parameters theta given data `X` and `Y` and the underlying model.\n",
    "* `predict`: Compute estimate $\\hat{y}$ given `X` and the underlying model.\n",
    "\n",
    "If you are unfamiliar with using `Python` objects, please review [object-oriented programming](https://cs61a.org/study-guide/objects/). \n",
    "\n",
    "**Note:** Practically speaking, this is a pretty bad model: it sets all of its parameters to 0 regardless of the data we fit it to! While this model doesn't really have any practical application, we're using it here to help you build intuition on how `sklearn` pipelines work! "
   ]
  },
  {
   "cell_type": "code",
   "execution_count": 8,
   "metadata": {},
   "outputs": [
    {
     "data": {
      "text/plain": [
       "array([[0.],\n",
       "       [0.],\n",
       "       [0.],\n",
       "       [0.],\n",
       "       [0.],\n",
       "       [0.],\n",
       "       [0.],\n",
       "       [0.],\n",
       "       [0.],\n",
       "       [0.],\n",
       "       [0.],\n",
       "       [0.],\n",
       "       [0.]])"
      ]
     },
     "execution_count": 8,
     "metadata": {},
     "output_type": "execute_result"
    }
   ],
   "source": [
    "# Run this cell to create the MyZeroLinearModel class; no further action is needed.\n",
    "class MyZeroLinearModel():\n",
    "    def __init__(self):\n",
    "        self._thetas = None\n",
    "    def fit(self, X, Y):\n",
    "        number_of_features = X.shape[1]\n",
    "        # For demonstration purposes in this tutorial, we set the values of all the parameters to 0. \n",
    "        self._thetas = np.zeros(shape=(number_of_features, 1))\n",
    "    \n",
    "    def predict(self, X):\n",
    "        return X @ self._thetas\n",
    "\n",
    "# Running the code below produces all-zero thetas\n",
    "model0 = MyZeroLinearModel()\n",
    "model0.fit(one_hot_X, tips)\n",
    "model0._thetas"
   ]
  },
  {
   "cell_type": "markdown",
   "metadata": {},
   "source": [
    "<br/>\n",
    "<hr style=\"border: 1px solid #fdb515;\" />\n",
    "\n",
    "## Question 2: Fitting a Linear Model Using Numerical Methods\n",
    "\n",
    "\n",
    "The best-fit model is determined by our loss function. Recall in Lab 5 and in Lecture 12 we defined multiple loss functions and found the optimal $\\hat{\\theta}$ using the `scipy.optimize.minimize` function. \n",
    "\n",
    "\n",
    "In this question, we'll wrap this function into a method `fit()` in our class `MyScipyLinearModel`.\n",
    "To allow for different loss functions, we create a `loss_function` parameter where the model can be fit accordingly. Example loss functions are given as `l1` and `l2`.\n",
    "\n",
    "**Note:** Just like `MyZeroLinearModel`, the class `MyScipyLinearModel` is a staff-made example to help you understand how `sklearn` works behind the scenes. In practice, when using pre-made `sklearn` models, defining a class like this is unnecessary!"
   ]
  },
  {
   "cell_type": "markdown",
   "metadata": {
    "deletable": false,
    "editable": false,
    "tags": []
   },
   "source": [
    "---\n",
    "\n",
    "### Question 2a: scipy\n",
    "\n",
    "Complete the code below using `scipy.optimize.minimize`. Find and store the optimal $\\hat{\\theta}$ in the instance attribute `self._thetas`.\n",
    "\n",
    "**Hint:**\n",
    "* The `starting_guess` should be some arbitrary array (such as an array of all zeroes) of the correct length. You may find `number_of_features` helpful.\n",
    "\n",
    "**Notes:**\n",
    "* Notice that `l1` and `l2` return term-wise loss and only accept observed value $y$ and predicted value $\\hat{y}$. We added a lambda function to help convert them into the right format for `scipy.optimize.minimize`.\n",
    "* Notice above that we extract the `'x'` entry in the dictionary returned by `minimize`. This entry corresponds to the optimal $\\hat{\\theta}$ estimated by the function, and it is the format that `minimize` uses."
   ]
  },
  {
   "cell_type": "code",
   "execution_count": 9,
   "metadata": {
    "nbgrader": {
     "grade": false,
     "grade_id": "q2-answer",
     "locked": false,
     "schema_version": 2,
     "solution": true
    },
    "tags": []
   },
   "outputs": [
    {
     "name": "stdout",
     "output_type": "stream",
     "text": [
      "L2 loss thetas:\n",
      "[ 0.25497701  0.09448757  0.17597881  0.14370693  0.11127014  0.17070342\n",
      "  0.08427346  0.14102186  0.01962829  0.11559502 -0.02126843  0.0933822\n",
      "  0.16159485]\n",
      "L1 loss thetas:\n",
      "[ 0.25497701  0.09448757  0.17597881  0.14370693  0.11127014  0.17070342\n",
      "  0.08427346  0.14102186  0.01962829  0.11559502 -0.02126843  0.0933822\n",
      "  0.16159485]\n"
     ]
    }
   ],
   "source": [
    "from scipy.optimize import minimize\n",
    "\n",
    "def l1(y, y_hat):\n",
    "    return np.abs(y - y_hat)\n",
    "\n",
    "def l2(y, y_hat):\n",
    "    return (y - y_hat)**2\n",
    "\n",
    "class MyScipyLinearModel():\n",
    "    def __init__(self):\n",
    "        self._thetas = None\n",
    "        \n",
    "    def fit(self, loss_function, X, Y):\n",
    "        \"\"\"\n",
    "        Estimated optimal _thetas for the given loss function, \n",
    "        feature matrix X, and observed values y. Store them in _thetas.\n",
    "\n",
    "        Parameters\n",
    "        -----------\n",
    "        loss_function: A function that takes in observed and predicted y, \n",
    "                       and return the loss calculated for each data point.\n",
    "        X: A 2D DataFrame (or NumPy array) of numeric features.\n",
    "        Y: A 1D NumPy array or Series of the dependent variable.\n",
    "\n",
    "        Returns\n",
    "        -----------\n",
    "        None\n",
    "        \"\"\"\n",
    "        \n",
    "        number_of_features = X.shape[1]\n",
    "        starting_guess = np.zeros(number_of_features)\n",
    "        self._thetas = minimize(lambda theta: np.mean(loss_function(Y, X @ theta)), x0 = starting_guess)['x']        \n",
    "        \n",
    "    def predict(self, X):\n",
    "        return X @ self._thetas\n",
    "        \n",
    "# Create a new model and fit the data using l2 loss, it should produce some non-zero thetas.\n",
    "model = MyScipyLinearModel()\n",
    "model.fit(l2, one_hot_X, tips)\n",
    "print(\"L2 loss thetas:\")\n",
    "print(model._thetas)\n",
    "\n",
    "# Create a new model and fit the data using l1 loss, it should produce some non-zero thetas.\n",
    "model_l1 = MyScipyLinearModel()\n",
    "model_l1.fit(l1, one_hot_X, tips)\n",
    "print(\"L1 loss thetas:\")\n",
    "print(model._thetas)"
   ]
  },
  {
   "cell_type": "code",
   "execution_count": 10,
   "metadata": {
    "deletable": false,
    "editable": false
   },
   "outputs": [
    {
     "data": {
      "text/html": [
       "<p><strong><pre style='display: inline;'>q2a</pre></strong> passed! ✨</p>"
      ],
      "text/plain": [
       "q2a results: All test cases passed!"
      ]
     },
     "execution_count": 10,
     "metadata": {},
     "output_type": "execute_result"
    }
   ],
   "source": [
    "grader.check(\"q2a\")"
   ]
  },
  {
   "cell_type": "markdown",
   "metadata": {},
   "source": [
    "The MSE and MAE for your model above should be just slightly larger than 1:"
   ]
  },
  {
   "cell_type": "code",
   "execution_count": 11,
   "metadata": {
    "tags": []
   },
   "outputs": [
    {
     "name": "stdout",
     "output_type": "stream",
     "text": [
      "L2 loss MSE scipy: 1.010353561627053\n",
      "L1 loss MAE scipy: 1.037205516262452\n"
     ]
    }
   ],
   "source": [
    "# Run this cell to calculate the MSE and MAE of the above model; no further action is needed.\n",
    "from sklearn.metrics import mean_squared_error\n",
    "print(\"L2 loss MSE scipy: \" + str(mean_squared_error(model.predict(one_hot_X), tips)))\n",
    "print(\"L1 loss MAE scipy: \" + str(mean_squared_error(model_l1.predict(one_hot_X), tips)))"
   ]
  },
  {
   "cell_type": "markdown",
   "metadata": {
    "deletable": false,
    "editable": false,
    "tags": []
   },
   "source": [
    "<br>\n",
    "\n",
    "---\n",
    "\n",
    "### Question 2b: sklearn\n",
    "\n",
    "Another way to fit a linear regression model is to use `scikit-learn`/`sklearn` as we have seen in Lab 6.  As a reminder, here are the three steps to use `sklearn`:\n",
    "\n",
    "1. Create a `sklearn` object.\n",
    "1. `fit` the object to data.\n",
    "1. Analyze fit, or call `predict`.\n",
    "\n",
    "\n",
    "The `sklearn` `LinearRegression` object ([documentation](http://scikit-learn.org/stable/modules/generated/sklearn.linear_model.LinearRegression.html)) models the Ordinary Least Squares (OLS) problem, also using numerical methods to estimate $\\hat{\\theta}$. Fill in the code below such that `sklearn_model` **fits** OLS using `sklearn`.\n",
    "\n",
    "**Hint:** Since we have included the bias column in our design matrix explicitly, we need to adjust the `fit_intercept` parameter appropriately when creating the `LinearRegression` model. "
   ]
  },
  {
   "cell_type": "code",
   "execution_count": 12,
   "metadata": {
    "tags": []
   },
   "outputs": [
    {
     "name": "stdout",
     "output_type": "stream",
     "text": [
      "sklearn with bias column thetas:\n",
      "[ 0.25496633  0.09448701  0.175992    0.14370363  0.11126269  0.17068732\n",
      "  0.084279    0.14104114  0.01958276  0.11556048 -0.02121806  0.09341886\n",
      "  0.16154746]\n"
     ]
    }
   ],
   "source": [
    "from sklearn.linear_model import LinearRegression\n",
    "\n",
    "sklearn_model = LinearRegression(fit_intercept=False)\n",
    "sklearn_model.fit(one_hot_X, tips)\n",
    "\n",
    "print(\"sklearn with bias column thetas:\")\n",
    "print(sklearn_model.coef_)"
   ]
  },
  {
   "cell_type": "code",
   "execution_count": 13,
   "metadata": {
    "deletable": false,
    "editable": false
   },
   "outputs": [
    {
     "data": {
      "text/html": [
       "<p><strong><pre style='display: inline;'>q2b</pre></strong> passed! 🚀</p>"
      ],
      "text/plain": [
       "q2b results: All test cases passed!"
      ]
     },
     "execution_count": 13,
     "metadata": {},
     "output_type": "execute_result"
    }
   ],
   "source": [
    "grader.check(\"q2b\")"
   ]
  },
  {
   "cell_type": "markdown",
   "metadata": {
    "deletable": false,
    "editable": false
   },
   "source": [
    "<br>\n",
    " \n",
    "---\n",
    " \n",
    "### Question 2c: sklearn and `fit_intercept`"
   ]
  },
  {
   "cell_type": "markdown",
   "metadata": {
    "deletable": false,
    "editable": false
   },
   "source": [
    "To avoid always explicitly building in a bias column into our design matrix, `sklearn`'s `LinearRegression` object also supports `fit_intercept=True` during instantiation. \n",
    "\n",
    "Fill in the code below by first assigning `one_hot_X_nobias` to the `one_hot_X` design matrix with the bias column dropped, then fit a new `LinearRegression` model, with intercept."
   ]
  },
  {
   "cell_type": "code",
   "execution_count": 14,
   "metadata": {
    "tags": []
   },
   "outputs": [
    {
     "name": "stdout",
     "output_type": "stream",
     "text": [
      "sklearn with intercept thetas:\n",
      "[ 0.70115739  0.09448701  0.175992    0.01622047 -0.01622047  0.04320416\n",
      " -0.04320416  0.07729956 -0.04415882  0.0518189  -0.08495964 -0.0340643\n",
      "  0.0340643 ]\n"
     ]
    }
   ],
   "source": [
    "# one_hot_X\n",
    "one_hot_X_nobias = one_hot_X.drop(columns = \"bias\")\n",
    "\n",
    "sklearn_model_intercept = LinearRegression(fit_intercept=True)\n",
    "sklearn_model_intercept.fit(one_hot_X_nobias, tips)\n",
    "\n",
    "# # Note that sklearn returns intercept (theta_0) and coefficients (other thetas) separately.\n",
    "# # We concatenate the intercept and other thetas before printing for easier comparison with the models above.\n",
    "print(\"sklearn with intercept thetas:\")\n",
    "print(np.concatenate(([sklearn_model_intercept.intercept_], sklearn_model_intercept.coef_)))"
   ]
  },
  {
   "cell_type": "code",
   "execution_count": 15,
   "metadata": {
    "deletable": false,
    "editable": false
   },
   "outputs": [
    {
     "data": {
      "text/html": [
       "<p><strong><pre style='display: inline;'>q2c</pre></strong> passed! ✨</p>"
      ],
      "text/plain": [
       "q2c results: All test cases passed!"
      ]
     },
     "execution_count": 15,
     "metadata": {},
     "output_type": "execute_result"
    }
   ],
   "source": [
    "grader.check(\"q2c\")"
   ]
  },
  {
   "cell_type": "markdown",
   "metadata": {},
   "source": [
    "We printed the MSE for the `SciPy` and both `sklearn` solutions below (all using L2 loss). Notice that while the theta coefficients are different for the two `sklearn` models (with the bias column, vs. with `fit_intercept=True`), all three models have similar MSEs! We will explain this when we explore Gradient Descent later in this lab."
   ]
  },
  {
   "cell_type": "code",
   "execution_count": 16,
   "metadata": {},
   "outputs": [
    {
     "name": "stdout",
     "output_type": "stream",
     "text": [
      "MSE scipy: \t\t\t1.010353561627053\n",
      "MSE sklearn bias column: \t1.010353561225785\n",
      "MSE sklearn intercept model: \t1.010353561225785\n"
     ]
    }
   ],
   "source": [
    "print(\"MSE scipy: \\t\\t\\t\" + str(mean_squared_error(model.predict(one_hot_X), tips)))\n",
    "print(\"MSE sklearn bias column: \\t\" + str(mean_squared_error(sklearn_model.predict(one_hot_X), tips)))\n",
    "print(\"MSE sklearn intercept model: \\t\" + str(mean_squared_error(sklearn_model_intercept.predict(one_hot_X_nobias), tips)))"
   ]
  },
  {
   "cell_type": "markdown",
   "metadata": {
    "nbgrader": {
     "grade": false,
     "grade_id": "q3",
     "locked": true,
     "schema_version": 2,
     "solution": false
    }
   },
   "source": [
    "<br/>\n",
    "<hr style=\"border: 1px solid #fdb515;\" />\n",
    "\n",
    "## Question 3: Fitting the Model Using Analytic Methods\n",
    "\n",
    "Let's also fit our model analytically for the L2 loss function. Recall from lecture that with a linear model, we are solving the following optimization problem for least squares:\n",
    "\n",
    "$$\\min_{\\theta} \\frac{1}{n}||\\Bbb{Y} - \\Bbb{X}\\theta||^2$$\n",
    "\n",
    "We showed in lecture that the optimal $\\hat{\\theta}$ when $\\Bbb{X}^T\\Bbb{X}$ is invertible is given by the equation: $(\\Bbb{X}^T\\Bbb{X})^{-1}\\Bbb{X}^T\\Bbb{Y}$"
   ]
  },
  {
   "cell_type": "markdown",
   "metadata": {
    "deletable": false,
    "editable": false,
    "nbgrader": {
     "grade": false,
     "grade_id": "q3a",
     "locked": true,
     "schema_version": 2,
     "solution": false
    },
    "tags": []
   },
   "source": [
    "<br>\n",
    "\n",
    "---\n",
    "### Question 3a: Analytic Solution Using Explicit Inverses\n",
    "\n",
    "For this problem, implement the analytic solution above using `np.linalg.inv` to compute the inverse of $\\Bbb{X}^T\\Bbb{X}$. As in `q2a`, we provide a class `MyAnalyticallyFitOLSModel` with a `fit` method to wrap this functionality.\n",
    "\n",
    "**Hint**: To compute the transpose of a matrix, you can use `X.T` or `X.transpose()`.\n",
    "\n",
    "**Note**: We want our thetas to always be a `NumPy array` object, even if `Y` is a `Series`. If you are using the `@` `NumPy` operator, make sure you are correctly placing parentheses around expressions where needed to make this happen."
   ]
  },
  {
   "cell_type": "code",
   "execution_count": 17,
   "metadata": {
    "tags": []
   },
   "outputs": [],
   "source": [
    "class MyAnalyticallyFitOLSModel():\n",
    "    def __init__(self):\n",
    "        self._thetas = None\n",
    "        \n",
    "    def fit(self, X, Y):\n",
    "        \"\"\"\n",
    "        Sets _thetas using the analytical solution to the OLS problem.\n",
    "\n",
    "        Parameters\n",
    "        -----------\n",
    "        X: A 2D DataFrame (or NumPy array) of numeric features (one-hot encoded).\n",
    "        Y: A 1D NumPy array or Series of the dependent variable.\n",
    "        \n",
    "        Returns\n",
    "        -----------\n",
    "        None\n",
    "        \"\"\"\n",
    "        Y = np.array(Y)\n",
    "        self._thetas = np.linalg.inv(X.T @ X) @ (X.T @ Y)\n",
    "    \n",
    "    def predict(self, X):\n",
    "        return X @ self._thetas        "
   ]
  },
  {
   "cell_type": "code",
   "execution_count": 18,
   "metadata": {
    "deletable": false,
    "editable": false,
    "scrolled": true
   },
   "outputs": [
    {
     "data": {
      "text/html": [
       "<p><strong><pre style='display: inline;'>q3a</pre></strong> passed! 🍀</p>"
      ],
      "text/plain": [
       "q3a results: All test cases passed!"
      ]
     },
     "execution_count": 18,
     "metadata": {},
     "output_type": "execute_result"
    }
   ],
   "source": [
    "grader.check(\"q3a\")"
   ]
  },
  {
   "cell_type": "markdown",
   "metadata": {},
   "source": [
    "Now, run the cell below to find the analytical solution for the `tips` dataset. Depending on the machine that you run your code on, **you should either see a singular matrix error or end up with some theta values that are nonsensical (magnitudes greater than $10^{15}$).** This is not good!"
   ]
  },
  {
   "cell_type": "code",
   "execution_count": 19,
   "metadata": {},
   "outputs": [
    {
     "name": "stdout",
     "output_type": "stream",
     "text": [
      "[ 3.36217861e+16  6.13021101e-01 -5.99653782e+00 -1.98282328e+16\n",
      " -1.98282328e+16 -1.37935533e+16 -1.37935533e+16  5.17799619e+00\n",
      " -6.54886072e+00  1.29324176e-01 -3.86069304e+00  5.73689025e+00\n",
      "  5.85510776e+00]\n"
     ]
    }
   ],
   "source": [
    "# Run this cell to check the result, no further action needed.\n",
    "# The try-except block suppresses errors during submission\n",
    "import traceback\n",
    "try:\n",
    "    model_analytical = MyAnalyticallyFitOLSModel()\n",
    "    model_analytical.fit(one_hot_X, tips)\n",
    "    analytical_thetas = model_analytical._thetas\n",
    "    print(analytical_thetas)\n",
    "except Exception as e:\n",
    "    print(traceback.format_exc())"
   ]
  },
  {
   "cell_type": "markdown",
   "metadata": {
    "deletable": false,
    "editable": false
   },
   "source": [
    "<!-- BEGIN QUESTION -->\n",
    "\n",
    "<br>\n",
    "\n",
    "---\n",
    "\n",
    "### Question 3b"
   ]
  },
  {
   "cell_type": "markdown",
   "metadata": {
    "deletable": false,
    "editable": false
   },
   "source": [
    "In the cell below, explain why we got the error or nonsensical theta values above when trying to calculate the analytical solution for our one-hot encoded `tips` dataset.\n"
   ]
  },
  {
   "cell_type": "markdown",
   "metadata": {},
   "source": [
    "We got nonsensical values due to multicollinearity. This is the case because the features were linearly depenedent on each other which means (X^TX) was not invertible."
   ]
  },
  {
   "cell_type": "markdown",
   "metadata": {
    "deletable": false,
    "editable": false
   },
   "source": [
    "<!-- END QUESTION -->\n",
    "\n",
    "<br>\n",
    "\n",
    "---\n",
    "### Question 3c: Fixing Our One-Hot Encoding\n",
    "\n",
    "Now, let's modify our one-hot encoding approach from earlier so we don't get the error we saw in the previous part. Complete the code below to one-hot-encode our dataset such that `one_hot_X_revised` has no redundant features. \n",
    "\n",
    "**Hint**: To identify redundancies in one-hot-encoded features, consider the number of boolean values that are required to uniquely express each possible option. For example, we only need one column to express whether an individual it's Lunch or Dinner time: If the value is 0 in the Lunch column, it tells us it must be Dinner time.\n",
    "\n",
    "**Note**: If you are running into a `matrices are not aligned` error, make sure to read the note in question 3a."
   ]
  },
  {
   "cell_type": "code",
   "execution_count": 20,
   "metadata": {
    "tags": []
   },
   "outputs": [
    {
     "data": {
      "text/html": [
       "<div>\n",
       "<style scoped>\n",
       "    .dataframe tbody tr th:only-of-type {\n",
       "        vertical-align: middle;\n",
       "    }\n",
       "\n",
       "    .dataframe tbody tr th {\n",
       "        vertical-align: top;\n",
       "    }\n",
       "\n",
       "    .dataframe thead th {\n",
       "        text-align: right;\n",
       "    }\n",
       "</style>\n",
       "<table border=\"1\" class=\"dataframe\">\n",
       "  <thead>\n",
       "    <tr style=\"text-align: right;\">\n",
       "      <th></th>\n",
       "      <th>bias</th>\n",
       "      <th>total_bill</th>\n",
       "      <th>size</th>\n",
       "      <th>sex_Male</th>\n",
       "      <th>smoker_Yes</th>\n",
       "      <th>day_Sat</th>\n",
       "      <th>day_Sun</th>\n",
       "      <th>day_Thur</th>\n",
       "      <th>time_Lunch</th>\n",
       "    </tr>\n",
       "  </thead>\n",
       "  <tbody>\n",
       "    <tr>\n",
       "      <th>0</th>\n",
       "      <td>1</td>\n",
       "      <td>16.99</td>\n",
       "      <td>2</td>\n",
       "      <td>0.0</td>\n",
       "      <td>0.0</td>\n",
       "      <td>0.0</td>\n",
       "      <td>1.0</td>\n",
       "      <td>0.0</td>\n",
       "      <td>0.0</td>\n",
       "    </tr>\n",
       "    <tr>\n",
       "      <th>1</th>\n",
       "      <td>1</td>\n",
       "      <td>10.34</td>\n",
       "      <td>3</td>\n",
       "      <td>1.0</td>\n",
       "      <td>0.0</td>\n",
       "      <td>0.0</td>\n",
       "      <td>1.0</td>\n",
       "      <td>0.0</td>\n",
       "      <td>0.0</td>\n",
       "    </tr>\n",
       "    <tr>\n",
       "      <th>2</th>\n",
       "      <td>1</td>\n",
       "      <td>21.01</td>\n",
       "      <td>3</td>\n",
       "      <td>1.0</td>\n",
       "      <td>0.0</td>\n",
       "      <td>0.0</td>\n",
       "      <td>1.0</td>\n",
       "      <td>0.0</td>\n",
       "      <td>0.0</td>\n",
       "    </tr>\n",
       "    <tr>\n",
       "      <th>3</th>\n",
       "      <td>1</td>\n",
       "      <td>23.68</td>\n",
       "      <td>2</td>\n",
       "      <td>1.0</td>\n",
       "      <td>0.0</td>\n",
       "      <td>0.0</td>\n",
       "      <td>1.0</td>\n",
       "      <td>0.0</td>\n",
       "      <td>0.0</td>\n",
       "    </tr>\n",
       "    <tr>\n",
       "      <th>4</th>\n",
       "      <td>1</td>\n",
       "      <td>24.59</td>\n",
       "      <td>4</td>\n",
       "      <td>0.0</td>\n",
       "      <td>0.0</td>\n",
       "      <td>0.0</td>\n",
       "      <td>1.0</td>\n",
       "      <td>0.0</td>\n",
       "      <td>0.0</td>\n",
       "    </tr>\n",
       "  </tbody>\n",
       "</table>\n",
       "</div>"
      ],
      "text/plain": [
       "   bias  total_bill  size  sex_Male  smoker_Yes  day_Sat  day_Sun  day_Thur  \\\n",
       "0     1       16.99     2       0.0         0.0      0.0      1.0       0.0   \n",
       "1     1       10.34     3       1.0         0.0      0.0      1.0       0.0   \n",
       "2     1       21.01     3       1.0         0.0      0.0      1.0       0.0   \n",
       "3     1       23.68     2       1.0         0.0      0.0      1.0       0.0   \n",
       "4     1       24.59     4       0.0         0.0      0.0      1.0       0.0   \n",
       "\n",
       "   time_Lunch  \n",
       "0         0.0  \n",
       "1         0.0  \n",
       "2         0.0  \n",
       "3         0.0  \n",
       "4         0.0  "
      ]
     },
     "metadata": {},
     "output_type": "display_data"
    },
    {
     "name": "stdout",
     "output_type": "stream",
     "text": [
      "Our scipy numerical model's loss is:  1.010353561260656\n",
      "Our analytical model's loss is:  1.0103535612257852\n"
     ]
    }
   ],
   "source": [
    "def one_hot_encode_revised(data):\n",
    "    \"\"\"\n",
    "    Return the one-hot encoded DataFrame of our input data, removing redundancies.\n",
    "    \n",
    "    Parameters\n",
    "    -----------\n",
    "    data: A DataFrame that may include non-numerical features.\n",
    "    \n",
    "    Returns\n",
    "    -----------\n",
    "    A one-hot encoded DataFrame that only contains numeric features without any redundancies.\n",
    "    \n",
    "    \"\"\"\n",
    "    categorical_columns = [\"sex\", \"smoker\", \"day\", \"time\"]\n",
    "    enc = OneHotEncoder(drop='first')\n",
    "    transformed_data = enc.fit_transform(data[categorical_columns]).toarray()\n",
    "    encoded_df = pd.DataFrame(transformed_data, columns=enc.get_feature_names_out(categorical_columns))\n",
    "    data = pd.concat([data.drop(columns=categorical_columns), encoded_df], axis=1)\n",
    "    return data\n",
    "\n",
    "one_hot_X_revised = one_hot_encode_revised(X)\n",
    "display(one_hot_X_revised.head())\n",
    "    \n",
    "scipy_model = MyScipyLinearModel()\n",
    "scipy_model.fit(l2, one_hot_X_revised, tips)\n",
    "    \n",
    "analytical_model = MyAnalyticallyFitOLSModel()\n",
    "analytical_model.fit(one_hot_X_revised, tips)\n",
    "\n",
    "print(\"Our scipy numerical model's loss is: \", mean_squared_error(scipy_model.predict(one_hot_X_revised), tips))\n",
    "print(\"Our analytical model's loss is: \", mean_squared_error(analytical_model.predict(one_hot_X_revised), tips))"
   ]
  },
  {
   "cell_type": "code",
   "execution_count": 21,
   "metadata": {
    "deletable": false,
    "editable": false
   },
   "outputs": [
    {
     "data": {
      "text/html": [
       "<p><strong><pre style='display: inline;'>q3c</pre></strong> passed! 🙌</p>"
      ],
      "text/plain": [
       "q3c results: All test cases passed!"
      ]
     },
     "execution_count": 21,
     "metadata": {},
     "output_type": "execute_result"
    }
   ],
   "source": [
    "grader.check(\"q3c\")"
   ]
  },
  {
   "cell_type": "markdown",
   "metadata": {},
   "source": [
    "We can check the rank of the matrix using the `NumPy` function `np.linalg.matrix_rank`. We have printed the rank of the data and number of columns for you below. "
   ]
  },
  {
   "cell_type": "code",
   "execution_count": 22,
   "metadata": {},
   "outputs": [
    {
     "name": "stdout",
     "output_type": "stream",
     "text": [
      "one_hot_X: \n",
      "\t number of columns: 13\trank: 9\n",
      "one_hot_X_revised: \n",
      "\t number of columns: 9\trank: 9\n"
     ]
    }
   ],
   "source": [
    "print(\"one_hot_X: \\n\"\n",
    "      + \"\\t number of columns: \" + str(len(one_hot_X.columns)) \\\n",
    "      + \"\\trank: \" + str(np.linalg.matrix_rank(one_hot_X)))\n",
    "print(\"one_hot_X_revised: \\n\"\n",
    "      + \"\\t number of columns: \" + str(len(one_hot_X_revised.columns)) \\\n",
    "      + \"\\trank: \" + str(np.linalg.matrix_rank(one_hot_X_revised)))"
   ]
  },
  {
   "cell_type": "markdown",
   "metadata": {
    "deletable": false,
    "editable": false
   },
   "source": [
    "<!-- BEGIN QUESTION -->\n",
    "\n",
    "<br>\n",
    "\n",
    "---\n",
    "### Question 3d: Analyzing our new One-Hot Encoding\n",
    "\n",
    "Why did removing redundancies in our one-hot encoding fix the problem we had in 3a?"
   ]
  },
  {
   "cell_type": "markdown",
   "metadata": {},
   "source": [
    "SInce the features are no longger linearly dependent, X^TX is now invertible and we can accurately calculate the ideal theta to minimize the error."
   ]
  },
  {
   "cell_type": "markdown",
   "metadata": {
    "deletable": false,
    "editable": false
   },
   "source": [
    "<!-- END QUESTION -->\n",
    "\n",
    "\n",
    "Having linearly dependent columns means our system of linear equations is underdetermined, i.e. there are multiple solutions. There is no unique solution, hence there is no inverse. An alternate approach is to use `np.linalg.pinv` or `np.linalg.solve` instead of `np.linalg.inv`. They return **a** solution among the many possible solutions. Even with the redundant features, `np.linalg.solve` `np.linalg.pinv`  will work for the example above as a result. However, in general, it's best to drop redundant features for inference purposes and we will explore this further in Homework 7. "
   ]
  },
  {
   "cell_type": "markdown",
   "metadata": {},
   "source": [
    "<br/>\n",
    "<hr style=\"border: 5px solid #003262;\" />\n",
    "<hr style=\"border: 1px solid #fdb515;\" />\n",
    "\n",
    "\n",
    "# Gradient Descent\n",
    "\n",
    "You may be wondering why `scipy.optimize.minimize` or `sklearn.LinearRegression` works as well with redundant features when an analytical solution fails above. This is because `scipy.optimize.minimize` and `sklearn.LinearRegression` use numerical optimization techniques to find **a** solution---it does not require a unique solution through matrix inverses. \n",
    "\n",
    "Consider the models we crafted in `q2b` and `q2c`: even though we fit exactly the same model (Calling `.fit` with `fit_intercept=False` on data with a bias column is equivalent to calling `.fit` with `fit_intercept=True`) and achieved the same minimum MSE, the models arrived at very different coefficients. Below, we explore a numerical optimization method called **gradient descent**. It is a simpler version of the default solver used by `scipy.optimize.minimize` and `sklearn.LinearRegression`. "
   ]
  },
  {
   "cell_type": "markdown",
   "metadata": {},
   "source": [
    "<br/>\n",
    "<hr style=\"border: 1px solid #fdb515;\" />\n",
    "\n",
    "## Question 4: Sinusoidal Data\n"
   ]
  },
  {
   "cell_type": "code",
   "execution_count": 49,
   "metadata": {},
   "outputs": [
    {
     "data": {
      "text/html": [
       "<div>\n",
       "<style scoped>\n",
       "    .dataframe tbody tr th:only-of-type {\n",
       "        vertical-align: middle;\n",
       "    }\n",
       "\n",
       "    .dataframe tbody tr th {\n",
       "        vertical-align: top;\n",
       "    }\n",
       "\n",
       "    .dataframe thead th {\n",
       "        text-align: right;\n",
       "    }\n",
       "</style>\n",
       "<table border=\"1\" class=\"dataframe\">\n",
       "  <thead>\n",
       "    <tr style=\"text-align: right;\">\n",
       "      <th></th>\n",
       "      <th>x</th>\n",
       "      <th>y</th>\n",
       "    </tr>\n",
       "  </thead>\n",
       "  <tbody>\n",
       "    <tr>\n",
       "      <th>0</th>\n",
       "      <td>-5.000000</td>\n",
       "      <td>-7.672309</td>\n",
       "    </tr>\n",
       "    <tr>\n",
       "      <th>1</th>\n",
       "      <td>-4.966555</td>\n",
       "      <td>-7.779735</td>\n",
       "    </tr>\n",
       "    <tr>\n",
       "      <th>2</th>\n",
       "      <td>-4.933110</td>\n",
       "      <td>-7.995938</td>\n",
       "    </tr>\n",
       "    <tr>\n",
       "      <th>3</th>\n",
       "      <td>-4.899666</td>\n",
       "      <td>-8.197059</td>\n",
       "    </tr>\n",
       "    <tr>\n",
       "      <th>4</th>\n",
       "      <td>-4.866221</td>\n",
       "      <td>-8.183883</td>\n",
       "    </tr>\n",
       "  </tbody>\n",
       "</table>\n",
       "</div>"
      ],
      "text/plain": [
       "          x         y\n",
       "0 -5.000000 -7.672309\n",
       "1 -4.966555 -7.779735\n",
       "2 -4.933110 -7.995938\n",
       "3 -4.899666 -8.197059\n",
       "4 -4.866221 -8.183883"
      ]
     },
     "execution_count": 49,
     "metadata": {},
     "output_type": "execute_result"
    }
   ],
   "source": [
    "# Run this cell to load the data for this problem; no further action is needed.\n",
    "df = pd.read_csv(\"data/lab7_data.csv\", index_col=0)\n",
    "df.head()"
   ]
  },
  {
   "cell_type": "markdown",
   "metadata": {},
   "source": [
    "If we plot this data, we see that there is a clear sinusoidal relationship between `x` and `y`. Here we use `plotly` to plot a scatterplot showing the relationship between `x` and `y`. If you hover over points, you will be able to see the details of the data that's attributed to a data point."
   ]
  },
  {
   "cell_type": "code",
   "execution_count": 50,
   "metadata": {},
   "outputs": [
    {
     "data": {
      "application/vnd.plotly.v1+json": {
       "config": {
        "plotlyServerURL": "https://plot.ly"
       },
       "data": [
        {
         "hovertemplate": "x=%{x}<br>y=%{y}<extra></extra>",
         "legendgroup": "",
         "marker": {
          "color": "#636efa",
          "symbol": "circle"
         },
         "mode": "markers",
         "name": "",
         "orientation": "v",
         "showlegend": false,
         "type": "scatter",
         "x": [
          -5,
          -4.966555183946488,
          -4.933110367892977,
          -4.8996655518394645,
          -4.866220735785953,
          -4.832775919732441,
          -4.79933110367893,
          -4.765886287625418,
          -4.7324414715719065,
          -4.698996655518394,
          -4.665551839464883,
          -4.632107023411371,
          -4.59866220735786,
          -4.565217391304348,
          -4.531772575250836,
          -4.498327759197324,
          -4.464882943143813,
          -4.431438127090301,
          -4.39799331103679,
          -4.364548494983278,
          -4.331103678929766,
          -4.297658862876254,
          -4.264214046822742,
          -4.230769230769231,
          -4.19732441471572,
          -4.163879598662208,
          -4.130434782608695,
          -4.096989966555184,
          -4.063545150501672,
          -4.030100334448161,
          -3.9966555183946486,
          -3.963210702341138,
          -3.929765886287625,
          -3.896321070234114,
          -3.862876254180602,
          -3.82943143812709,
          -3.7959866220735785,
          -3.7625418060200673,
          -3.729096989966555,
          -3.695652173913044,
          -3.662207357859532,
          -3.62876254180602,
          -3.5953177257525084,
          -3.5618729096989967,
          -3.528428093645485,
          -3.4949832775919734,
          -3.4615384615384617,
          -3.42809364548495,
          -3.3946488294314383,
          -3.361204013377926,
          -3.327759197324415,
          -3.294314381270903,
          -3.260869565217392,
          -3.2274247491638794,
          -3.193979933110368,
          -3.160535117056856,
          -3.127090301003345,
          -3.0936454849498327,
          -3.060200668896321,
          -3.0267558528428093,
          -2.9933110367892977,
          -2.959866220735786,
          -2.9264214046822743,
          -2.8929765886287626,
          -2.859531772575251,
          -2.8260869565217392,
          -2.792642140468228,
          -2.759197324414716,
          -2.725752508361204,
          -2.6923076923076925,
          -2.658862876254181,
          -2.625418060200669,
          -2.591973244147157,
          -2.558528428093646,
          -2.525083612040134,
          -2.491638795986622,
          -2.4581939799331103,
          -2.4247491638795986,
          -2.391304347826087,
          -2.3578595317725752,
          -2.324414715719064,
          -2.290969899665552,
          -2.25752508361204,
          -2.2240802675585285,
          -2.190635451505017,
          -2.157190635451505,
          -2.123745819397993,
          -2.0903010033444818,
          -2.05685618729097,
          -2.0234113712374584,
          -1.9899665551839467,
          -1.956521739130435,
          -1.9230769230769236,
          -1.889632107023412,
          -1.8561872909699,
          -1.8227424749163883,
          -1.7892976588628766,
          -1.7558528428093645,
          -1.7224080267558528,
          -1.6889632107023411,
          -1.6555183946488294,
          -1.6220735785953178,
          -1.588628762541806,
          -1.5551839464882944,
          -1.5217391304347827,
          -1.488294314381271,
          -1.4548494983277591,
          -1.4214046822742477,
          -1.387959866220736,
          -1.3545150501672245,
          -1.3210702341137126,
          -1.287625418060201,
          -1.2541806020066892,
          -1.2207357859531776,
          -1.187290969899666,
          -1.1538461538461542,
          -1.1204013377926425,
          -1.0869565217391308,
          -1.0535117056856187,
          -1.020066889632107,
          -0.9866220735785952,
          -0.953177257525084,
          -0.919732441471572,
          -0.8862876254180607,
          -0.8528428093645486,
          -0.8193979933110374,
          -0.7859531772575252,
          -0.752508361204014,
          -0.7190635451505019,
          -0.6856187290969897,
          -0.6521739130434785,
          -0.6187290969899664,
          -0.5852842809364551,
          -0.551839464882943,
          -0.5183946488294318,
          -0.4849498327759196,
          -0.4515050167224084,
          -0.4180602006688962,
          -0.384615384615385,
          -0.3511705685618729,
          -0.3177257525083616,
          -0.2842809364548495,
          -0.2508361204013383,
          -0.2173913043478261,
          -0.1839464882943149,
          -0.1505016722408028,
          -0.1170568561872915,
          -0.0836120401337794,
          -0.0501672240802681,
          -0.016722408026756,
          0.016722408026756,
          0.0501672240802673,
          0.0836120401337794,
          0.1170568561872906,
          0.1505016722408028,
          0.183946488294314,
          0.2173913043478261,
          0.2508361204013374,
          0.2842809364548495,
          0.3177257525083607,
          0.3511705685618729,
          0.3846153846153841,
          0.4180602006688962,
          0.4515050167224075,
          0.4849498327759196,
          0.5183946488294309,
          0.551839464882943,
          0.5852842809364542,
          0.6187290969899664,
          0.6521739130434776,
          0.6856187290969897,
          0.7190635451505019,
          0.7525083612040131,
          0.7859531772575252,
          0.8193979933110365,
          0.8528428093645486,
          0.8862876254180598,
          0.919732441471572,
          0.9531772575250832,
          0.9866220735785952,
          1.0200668896321066,
          1.0535117056856187,
          1.08695652173913,
          1.120401337792642,
          1.1538461538461533,
          1.1872909698996654,
          1.2207357859531769,
          1.2541806020066888,
          1.2876254180602,
          1.3210702341137122,
          1.3545150501672234,
          1.3879598662207355,
          1.4214046822742468,
          1.454849498327759,
          1.488294314381271,
          1.5217391304347825,
          1.5551839464882944,
          1.5886287625418056,
          1.6220735785953178,
          1.655518394648829,
          1.6889632107023411,
          1.7224080267558524,
          1.7558528428093645,
          1.7892976588628755,
          1.822742474916388,
          1.856187290969899,
          1.8896321070234112,
          1.9230769230769225,
          1.9565217391304344,
          1.9899665551839456,
          2.023411371237458,
          2.056856187290969,
          2.0903010033444813,
          2.123745819397993,
          2.1571906354515047,
          2.190635451505017,
          2.224080267558528,
          2.25752508361204,
          2.2909698996655514,
          2.324414715719064,
          2.357859531772575,
          2.391304347826087,
          2.424749163879598,
          2.4581939799331103,
          2.491638795986621,
          2.5250836120401337,
          2.558528428093645,
          2.591973244147157,
          2.6254180602006683,
          2.6588628762541804,
          2.692307692307692,
          2.725752508361204,
          2.759197324414715,
          2.792642140468227,
          2.8260869565217384,
          2.8595317725752505,
          2.8929765886287626,
          2.926421404682274,
          2.959866220735786,
          2.993311036789297,
          3.0267558528428093,
          3.060200668896321,
          3.093645484949832,
          3.127090301003344,
          3.160535117056856,
          3.193979933110368,
          3.2274247491638786,
          3.2608695652173907,
          3.294314381270903,
          3.327759197324415,
          3.3612040133779253,
          3.3946488294314374,
          3.428093645484949,
          3.4615384615384617,
          3.494983277591972,
          3.528428093645484,
          3.5618729096989963,
          3.5953177257525084,
          3.628762541806021,
          3.662207357859531,
          3.695652173913043,
          3.729096989966555,
          3.7625418060200673,
          3.7959866220735776,
          3.8294314381270897,
          3.862876254180602,
          3.896321070234114,
          3.929765886287624,
          3.963210702341137,
          3.9966555183946486,
          4.030100334448161,
          4.063545150501671,
          4.096989966555183,
          4.130434782608695,
          4.163879598662208,
          4.197324414715718,
          4.23076923076923,
          4.264214046822742,
          4.297658862876254,
          4.331103678929766,
          4.364548494983277,
          4.397993311036789,
          4.431438127090301,
          4.464882943143813,
          4.498327759197323,
          4.531772575250836,
          4.565217391304348,
          4.59866220735786,
          4.63210702341137,
          4.665551839464882,
          4.698996655518394,
          4.7324414715719065,
          4.765886287625417,
          4.799331103678929,
          4.832775919732441,
          4.866220735785953,
          4.899665551839464,
          4.933110367892976,
          4.966555183946488,
          5
         ],
         "xaxis": "x",
         "y": [
          -7.672309213774009,
          -7.779734517785404,
          -7.995938349837362,
          -8.197058502287891,
          -8.183883447872761,
          -8.294583870428044,
          -8.789108619905587,
          -8.131185000490298,
          -8.367926232188761,
          -8.449548670279784,
          -7.686395062809118,
          -7.884779111713495,
          -7.40758370858694,
          -8.149296368695282,
          -7.698753306457693,
          -7.209703841645482,
          -7.693224736041597,
          -7.005247350337088,
          -7.35998974810165,
          -6.750680240727842,
          -7.424931134387076,
          -5.717106515468041,
          -5.827572739109059,
          -7.022723259587224,
          -6.477762669231767,
          -6.53792094309406,
          -6.199351168608523,
          -5.4012444332555765,
          -5.183321367758454,
          -4.94806613595341,
          -5.9588670139285576,
          -5.055988335965847,
          -6.163280337718589,
          -5.260652226427859,
          -4.461189588769009,
          -4.250469942862925,
          -5.188735791213787,
          -5.509146146562051,
          -4.97235048877106,
          -5.333269655765433,
          -3.9572248387125937,
          -4.149055664493958,
          -4.955874457859213,
          -4.030243685843214,
          -4.332176030245413,
          -4.817008349132875,
          -4.564804163660334,
          -5.401765804464134,
          -4.520446071854519,
          -4.27990572791023,
          -4.675812677586517,
          -4.393284560723114,
          -5.277742639388693,
          -4.664473786357007,
          -4.807266064507394,
          -5.159392872069294,
          -4.309277719586534,
          -4.471369501600405,
          -4.708165528460132,
          -4.929656467128833,
          -5.615534766039346,
          -5.160540519430589,
          -4.776761441232219,
          -5.120531985395963,
          -4.913984192307944,
          -3.865417505752173,
          -4.966301571707113,
          -5.4181562216860994,
          -5.604518870906897,
          -4.549535794045196,
          -6.037714671062444,
          -5.637273709249072,
          -4.805312244471921,
          -5.369504407253398,
          -4.437171109196206,
          -5.074797374667527,
          -4.401868897942774,
          -3.870948037042624,
          -3.73656975378285,
          -3.410294574388121,
          -5.009897240248489,
          -4.329097343769474,
          -3.693665318257521,
          -4.40187841033484,
          -2.85933921633624,
          -4.104011167303041,
          -4.204385884659721,
          -2.1637722289643784,
          -2.9906338204849816,
          -2.758585168375083,
          -2.2545644043728204,
          -2.8846913733782547,
          -2.984782294930396,
          -2.5929994205605147,
          -2.77927772322337,
          -2.71500722878401,
          -2.010241067993213,
          -1.656310417608073,
          -0.7787045703792018,
          -1.269951865892921,
          -1.792748804012821,
          -1.9537146428903247,
          -1.1788960734769738,
          -1.5277154372456878,
          -1.1807087726330094,
          -1.568517660472828,
          -1.3506035893989303,
          -1.391697769760479,
          -1.047282746349446,
          -1.5772821642656252,
          -1.570785251369731,
          -2.41943797541992,
          -1.185078881556551,
          -1.914408856085967,
          -1.0601700787657118,
          -1.2815944343706038,
          -1.519087507875585,
          -1.4238067886295132,
          -1.6438780349509858,
          -1.6223090507647782,
          -1.087078686084135,
          -1.5173404698624795,
          -1.5562788624728698,
          -2.141827830142496,
          -1.9259234491491928,
          -2.4156167655487257,
          -1.3251559408775493,
          -1.6793890261642763,
          -2.0297116584088037,
          -1.4923405710697517,
          -1.632846009613218,
          -2.021118449630693,
          -2.217881831090392,
          -1.3434477416665287,
          -1.7481642321152326,
          -1.4218297444923564,
          -0.9642400092872936,
          -1.70266315254424,
          -1.829807953156089,
          -1.8367241904226752,
          -1.4706344679958103,
          -1.4433084677515662,
          -1.7518816168986122,
          -1.4509022323444576,
          -1.4237708901966324,
          -1.0520683358219507,
          -0.667107565897173,
          -0.5886674953043197,
          -0.6775625952018157,
          0.984683650961996,
          0.4517802664309152,
          0.5006010640927224,
          -0.1842110064761587,
          0.3787570984061928,
          1.1836477922281108,
          0.3964239987822318,
          0.7124193586625436,
          1.182384197477731,
          0.6713989809047876,
          1.274450951826059,
          1.553143722667457,
          1.6995591203361309,
          2.023466974732528,
          1.9457019612332904,
          2.360545691627678,
          1.5906123866048576,
          1.859388827635383,
          1.7401020511193372,
          1.6162257782761629,
          1.2606821159072197,
          2.0430388764224645,
          1.662330670627664,
          2.4611406877256683,
          1.253465329713654,
          2.602333158981674,
          1.6141211682630343,
          1.9364307898997648,
          2.030599961694973,
          1.5494988196309636,
          1.0758074888131886,
          1.552207339783204,
          1.604919429177967,
          1.3333485513235692,
          1.8945712789194569,
          1.2566138414330137,
          1.5406524404853896,
          0.5330736677012181,
          1.2606873376969794,
          0.9355046257550714,
          1.3128779872238985,
          1.2874848106399044,
          1.6031251662584318,
          1.543072748025539,
          0.913605638569292,
          0.612453777025363,
          1.0997520967804328,
          1.9012860881991824,
          1.1485754340483532,
          1.182335352296918,
          3.0169882275133157,
          1.734916616051607,
          1.4755744291073905,
          1.0420459334182426,
          2.4507017557143023,
          1.8611867314605468,
          2.182766771758988,
          2.388071446532565,
          2.608817389506666,
          2.6211165439148685,
          2.1780311793948126,
          2.8536503165000946,
          2.9411228690611684,
          3.4831597253719,
          4.183737623378804,
          4.5578448014735065,
          3.4886458739686605,
          3.681304139466065,
          4.310766278752113,
          3.59450365339081,
          3.9825236292003225,
          3.830213475022972,
          5.078307699143146,
          4.143829465853275,
          3.716069871102355,
          4.02996653723164,
          5.45493886582055,
          5.182681971943008,
          5.17348565231972,
          4.87477879523013,
          4.690408384606235,
          6.639340931336671,
          5.112897749542114,
          4.947203785190758,
          4.530416700222474,
          5.513651518454388,
          5.442692650922263,
          4.963096760905224,
          4.241634389279237,
          5.139646117289144,
          5.18015105108955,
          5.27063280895599,
          4.761049843968934,
          5.179895453080157,
          4.965352381386266,
          4.768604010450766,
          4.325603132362003,
          4.833247769037616,
          4.965001813623925,
          4.236454731729646,
          4.2087163693574725,
          3.822595174084512,
          3.388416719809559,
          5.05696645106742,
          4.761756934740643,
          4.861548761494364,
          4.614557121605502,
          4.936091262417548,
          4.408254404277195,
          4.312879506437206,
          4.295432037476273,
          4.557371279896795,
          4.040390885252911,
          4.692542998436527,
          5.17447103318766,
          5.735624901448761,
          5.83169364315838,
          5.098716575694279,
          5.757807223192957,
          6.08636225308439,
          5.033503496010061,
          5.031456052475531,
          5.920430610451941,
          6.202758312938776,
          6.141915269649664,
          5.568159510857342,
          6.870091033079695,
          6.612020089918684,
          5.769394173124921,
          6.5472339544915625,
          6.801129477791633,
          7.115814326994783,
          7.314097300906174,
          7.487299400104616,
          6.907759933614441,
          8.138754857688127,
          7.573584031360379,
          7.852216707944286,
          8.67279663803172,
          6.938632740546129,
          8.543895611158147,
          8.684529212060736,
          8.059800504661863,
          8.60945170862109,
          8.232467731487317,
          7.411797223660793,
          9.195919508646542,
          7.903161289593162,
          7.935815930850479,
          8.809675031622321,
          8.01053214752323
         ],
         "yaxis": "y"
        }
       ],
       "layout": {
        "height": 600,
        "legend": {
         "tracegroupgap": 0
        },
        "margin": {
         "t": 60
        },
        "template": {
         "data": {
          "bar": [
           {
            "error_x": {
             "color": "#2a3f5f"
            },
            "error_y": {
             "color": "#2a3f5f"
            },
            "marker": {
             "line": {
              "color": "#E5ECF6",
              "width": 0.5
             },
             "pattern": {
              "fillmode": "overlay",
              "size": 10,
              "solidity": 0.2
             }
            },
            "type": "bar"
           }
          ],
          "barpolar": [
           {
            "marker": {
             "line": {
              "color": "#E5ECF6",
              "width": 0.5
             },
             "pattern": {
              "fillmode": "overlay",
              "size": 10,
              "solidity": 0.2
             }
            },
            "type": "barpolar"
           }
          ],
          "carpet": [
           {
            "aaxis": {
             "endlinecolor": "#2a3f5f",
             "gridcolor": "white",
             "linecolor": "white",
             "minorgridcolor": "white",
             "startlinecolor": "#2a3f5f"
            },
            "baxis": {
             "endlinecolor": "#2a3f5f",
             "gridcolor": "white",
             "linecolor": "white",
             "minorgridcolor": "white",
             "startlinecolor": "#2a3f5f"
            },
            "type": "carpet"
           }
          ],
          "choropleth": [
           {
            "colorbar": {
             "outlinewidth": 0,
             "ticks": ""
            },
            "type": "choropleth"
           }
          ],
          "contour": [
           {
            "colorbar": {
             "outlinewidth": 0,
             "ticks": ""
            },
            "colorscale": [
             [
              0,
              "#0d0887"
             ],
             [
              0.1111111111111111,
              "#46039f"
             ],
             [
              0.2222222222222222,
              "#7201a8"
             ],
             [
              0.3333333333333333,
              "#9c179e"
             ],
             [
              0.4444444444444444,
              "#bd3786"
             ],
             [
              0.5555555555555556,
              "#d8576b"
             ],
             [
              0.6666666666666666,
              "#ed7953"
             ],
             [
              0.7777777777777778,
              "#fb9f3a"
             ],
             [
              0.8888888888888888,
              "#fdca26"
             ],
             [
              1,
              "#f0f921"
             ]
            ],
            "type": "contour"
           }
          ],
          "contourcarpet": [
           {
            "colorbar": {
             "outlinewidth": 0,
             "ticks": ""
            },
            "type": "contourcarpet"
           }
          ],
          "heatmap": [
           {
            "colorbar": {
             "outlinewidth": 0,
             "ticks": ""
            },
            "colorscale": [
             [
              0,
              "#0d0887"
             ],
             [
              0.1111111111111111,
              "#46039f"
             ],
             [
              0.2222222222222222,
              "#7201a8"
             ],
             [
              0.3333333333333333,
              "#9c179e"
             ],
             [
              0.4444444444444444,
              "#bd3786"
             ],
             [
              0.5555555555555556,
              "#d8576b"
             ],
             [
              0.6666666666666666,
              "#ed7953"
             ],
             [
              0.7777777777777778,
              "#fb9f3a"
             ],
             [
              0.8888888888888888,
              "#fdca26"
             ],
             [
              1,
              "#f0f921"
             ]
            ],
            "type": "heatmap"
           }
          ],
          "heatmapgl": [
           {
            "colorbar": {
             "outlinewidth": 0,
             "ticks": ""
            },
            "colorscale": [
             [
              0,
              "#0d0887"
             ],
             [
              0.1111111111111111,
              "#46039f"
             ],
             [
              0.2222222222222222,
              "#7201a8"
             ],
             [
              0.3333333333333333,
              "#9c179e"
             ],
             [
              0.4444444444444444,
              "#bd3786"
             ],
             [
              0.5555555555555556,
              "#d8576b"
             ],
             [
              0.6666666666666666,
              "#ed7953"
             ],
             [
              0.7777777777777778,
              "#fb9f3a"
             ],
             [
              0.8888888888888888,
              "#fdca26"
             ],
             [
              1,
              "#f0f921"
             ]
            ],
            "type": "heatmapgl"
           }
          ],
          "histogram": [
           {
            "marker": {
             "pattern": {
              "fillmode": "overlay",
              "size": 10,
              "solidity": 0.2
             }
            },
            "type": "histogram"
           }
          ],
          "histogram2d": [
           {
            "colorbar": {
             "outlinewidth": 0,
             "ticks": ""
            },
            "colorscale": [
             [
              0,
              "#0d0887"
             ],
             [
              0.1111111111111111,
              "#46039f"
             ],
             [
              0.2222222222222222,
              "#7201a8"
             ],
             [
              0.3333333333333333,
              "#9c179e"
             ],
             [
              0.4444444444444444,
              "#bd3786"
             ],
             [
              0.5555555555555556,
              "#d8576b"
             ],
             [
              0.6666666666666666,
              "#ed7953"
             ],
             [
              0.7777777777777778,
              "#fb9f3a"
             ],
             [
              0.8888888888888888,
              "#fdca26"
             ],
             [
              1,
              "#f0f921"
             ]
            ],
            "type": "histogram2d"
           }
          ],
          "histogram2dcontour": [
           {
            "colorbar": {
             "outlinewidth": 0,
             "ticks": ""
            },
            "colorscale": [
             [
              0,
              "#0d0887"
             ],
             [
              0.1111111111111111,
              "#46039f"
             ],
             [
              0.2222222222222222,
              "#7201a8"
             ],
             [
              0.3333333333333333,
              "#9c179e"
             ],
             [
              0.4444444444444444,
              "#bd3786"
             ],
             [
              0.5555555555555556,
              "#d8576b"
             ],
             [
              0.6666666666666666,
              "#ed7953"
             ],
             [
              0.7777777777777778,
              "#fb9f3a"
             ],
             [
              0.8888888888888888,
              "#fdca26"
             ],
             [
              1,
              "#f0f921"
             ]
            ],
            "type": "histogram2dcontour"
           }
          ],
          "mesh3d": [
           {
            "colorbar": {
             "outlinewidth": 0,
             "ticks": ""
            },
            "type": "mesh3d"
           }
          ],
          "parcoords": [
           {
            "line": {
             "colorbar": {
              "outlinewidth": 0,
              "ticks": ""
             }
            },
            "type": "parcoords"
           }
          ],
          "pie": [
           {
            "automargin": true,
            "type": "pie"
           }
          ],
          "scatter": [
           {
            "fillpattern": {
             "fillmode": "overlay",
             "size": 10,
             "solidity": 0.2
            },
            "type": "scatter"
           }
          ],
          "scatter3d": [
           {
            "line": {
             "colorbar": {
              "outlinewidth": 0,
              "ticks": ""
             }
            },
            "marker": {
             "colorbar": {
              "outlinewidth": 0,
              "ticks": ""
             }
            },
            "type": "scatter3d"
           }
          ],
          "scattercarpet": [
           {
            "marker": {
             "colorbar": {
              "outlinewidth": 0,
              "ticks": ""
             }
            },
            "type": "scattercarpet"
           }
          ],
          "scattergeo": [
           {
            "marker": {
             "colorbar": {
              "outlinewidth": 0,
              "ticks": ""
             }
            },
            "type": "scattergeo"
           }
          ],
          "scattergl": [
           {
            "marker": {
             "colorbar": {
              "outlinewidth": 0,
              "ticks": ""
             }
            },
            "type": "scattergl"
           }
          ],
          "scattermapbox": [
           {
            "marker": {
             "colorbar": {
              "outlinewidth": 0,
              "ticks": ""
             }
            },
            "type": "scattermapbox"
           }
          ],
          "scatterpolar": [
           {
            "marker": {
             "colorbar": {
              "outlinewidth": 0,
              "ticks": ""
             }
            },
            "type": "scatterpolar"
           }
          ],
          "scatterpolargl": [
           {
            "marker": {
             "colorbar": {
              "outlinewidth": 0,
              "ticks": ""
             }
            },
            "type": "scatterpolargl"
           }
          ],
          "scatterternary": [
           {
            "marker": {
             "colorbar": {
              "outlinewidth": 0,
              "ticks": ""
             }
            },
            "type": "scatterternary"
           }
          ],
          "surface": [
           {
            "colorbar": {
             "outlinewidth": 0,
             "ticks": ""
            },
            "colorscale": [
             [
              0,
              "#0d0887"
             ],
             [
              0.1111111111111111,
              "#46039f"
             ],
             [
              0.2222222222222222,
              "#7201a8"
             ],
             [
              0.3333333333333333,
              "#9c179e"
             ],
             [
              0.4444444444444444,
              "#bd3786"
             ],
             [
              0.5555555555555556,
              "#d8576b"
             ],
             [
              0.6666666666666666,
              "#ed7953"
             ],
             [
              0.7777777777777778,
              "#fb9f3a"
             ],
             [
              0.8888888888888888,
              "#fdca26"
             ],
             [
              1,
              "#f0f921"
             ]
            ],
            "type": "surface"
           }
          ],
          "table": [
           {
            "cells": {
             "fill": {
              "color": "#EBF0F8"
             },
             "line": {
              "color": "white"
             }
            },
            "header": {
             "fill": {
              "color": "#C8D4E3"
             },
             "line": {
              "color": "white"
             }
            },
            "type": "table"
           }
          ]
         },
         "layout": {
          "annotationdefaults": {
           "arrowcolor": "#2a3f5f",
           "arrowhead": 0,
           "arrowwidth": 1
          },
          "autotypenumbers": "strict",
          "coloraxis": {
           "colorbar": {
            "outlinewidth": 0,
            "ticks": ""
           }
          },
          "colorscale": {
           "diverging": [
            [
             0,
             "#8e0152"
            ],
            [
             0.1,
             "#c51b7d"
            ],
            [
             0.2,
             "#de77ae"
            ],
            [
             0.3,
             "#f1b6da"
            ],
            [
             0.4,
             "#fde0ef"
            ],
            [
             0.5,
             "#f7f7f7"
            ],
            [
             0.6,
             "#e6f5d0"
            ],
            [
             0.7,
             "#b8e186"
            ],
            [
             0.8,
             "#7fbc41"
            ],
            [
             0.9,
             "#4d9221"
            ],
            [
             1,
             "#276419"
            ]
           ],
           "sequential": [
            [
             0,
             "#0d0887"
            ],
            [
             0.1111111111111111,
             "#46039f"
            ],
            [
             0.2222222222222222,
             "#7201a8"
            ],
            [
             0.3333333333333333,
             "#9c179e"
            ],
            [
             0.4444444444444444,
             "#bd3786"
            ],
            [
             0.5555555555555556,
             "#d8576b"
            ],
            [
             0.6666666666666666,
             "#ed7953"
            ],
            [
             0.7777777777777778,
             "#fb9f3a"
            ],
            [
             0.8888888888888888,
             "#fdca26"
            ],
            [
             1,
             "#f0f921"
            ]
           ],
           "sequentialminus": [
            [
             0,
             "#0d0887"
            ],
            [
             0.1111111111111111,
             "#46039f"
            ],
            [
             0.2222222222222222,
             "#7201a8"
            ],
            [
             0.3333333333333333,
             "#9c179e"
            ],
            [
             0.4444444444444444,
             "#bd3786"
            ],
            [
             0.5555555555555556,
             "#d8576b"
            ],
            [
             0.6666666666666666,
             "#ed7953"
            ],
            [
             0.7777777777777778,
             "#fb9f3a"
            ],
            [
             0.8888888888888888,
             "#fdca26"
            ],
            [
             1,
             "#f0f921"
            ]
           ]
          },
          "colorway": [
           "#636efa",
           "#EF553B",
           "#00cc96",
           "#ab63fa",
           "#FFA15A",
           "#19d3f3",
           "#FF6692",
           "#B6E880",
           "#FF97FF",
           "#FECB52"
          ],
          "font": {
           "color": "#2a3f5f"
          },
          "geo": {
           "bgcolor": "white",
           "lakecolor": "white",
           "landcolor": "#E5ECF6",
           "showlakes": true,
           "showland": true,
           "subunitcolor": "white"
          },
          "hoverlabel": {
           "align": "left"
          },
          "hovermode": "closest",
          "mapbox": {
           "style": "light"
          },
          "paper_bgcolor": "white",
          "plot_bgcolor": "#E5ECF6",
          "polar": {
           "angularaxis": {
            "gridcolor": "white",
            "linecolor": "white",
            "ticks": ""
           },
           "bgcolor": "#E5ECF6",
           "radialaxis": {
            "gridcolor": "white",
            "linecolor": "white",
            "ticks": ""
           }
          },
          "scene": {
           "xaxis": {
            "backgroundcolor": "#E5ECF6",
            "gridcolor": "white",
            "gridwidth": 2,
            "linecolor": "white",
            "showbackground": true,
            "ticks": "",
            "zerolinecolor": "white"
           },
           "yaxis": {
            "backgroundcolor": "#E5ECF6",
            "gridcolor": "white",
            "gridwidth": 2,
            "linecolor": "white",
            "showbackground": true,
            "ticks": "",
            "zerolinecolor": "white"
           },
           "zaxis": {
            "backgroundcolor": "#E5ECF6",
            "gridcolor": "white",
            "gridwidth": 2,
            "linecolor": "white",
            "showbackground": true,
            "ticks": "",
            "zerolinecolor": "white"
           }
          },
          "shapedefaults": {
           "line": {
            "color": "#2a3f5f"
           }
          },
          "ternary": {
           "aaxis": {
            "gridcolor": "white",
            "linecolor": "white",
            "ticks": ""
           },
           "baxis": {
            "gridcolor": "white",
            "linecolor": "white",
            "ticks": ""
           },
           "bgcolor": "#E5ECF6",
           "caxis": {
            "gridcolor": "white",
            "linecolor": "white",
            "ticks": ""
           }
          },
          "title": {
           "x": 0.05
          },
          "xaxis": {
           "automargin": true,
           "gridcolor": "white",
           "linecolor": "white",
           "ticks": "",
           "title": {
            "standoff": 15
           },
           "zerolinecolor": "white",
           "zerolinewidth": 2
          },
          "yaxis": {
           "automargin": true,
           "gridcolor": "white",
           "linecolor": "white",
           "ticks": "",
           "title": {
            "standoff": 15
           },
           "zerolinecolor": "white",
           "zerolinewidth": 2
          }
         }
        },
        "width": 800,
        "xaxis": {
         "anchor": "y",
         "autorange": true,
         "domain": [
          0,
          1
         ],
         "range": [
          -5.628847845206685,
          5.628847845206685
         ],
         "title": {
          "text": "x"
         },
         "type": "linear"
        },
        "yaxis": {
         "anchor": "x",
         "autorange": true,
         "domain": [
          0,
          1
         ],
         "range": [
          -9.972625231071072,
          10.379436119812027
         ],
         "title": {
          "text": "y"
         },
         "type": "linear"
        }
       }
      },
      "image/png": "[encoded data removed]",
      "text/html": [
       "<div>                            <div id=\"86a7424e-d832-4aa9-ae11-d10b046cffbd\" class=\"plotly-graph-div\" style=\"height:600px; width:800px;\"></div>            <script type=\"text/javascript\">                require([\"plotly\"], function(Plotly) {                    window.PLOTLYENV=window.PLOTLYENV || {};                                    if (document.getElementById(\"86a7424e-d832-4aa9-ae11-d10b046cffbd\")) {                    Plotly.newPlot(                        \"86a7424e-d832-4aa9-ae11-d10b046cffbd\",                        [{\"hovertemplate\":\"x=%{x}<br>y=%{y}<extra></extra>\",\"legendgroup\":\"\",\"marker\":{\"color\":\"#636efa\",\"symbol\":\"circle\"},\"mode\":\"markers\",\"name\":\"\",\"orientation\":\"v\",\"showlegend\":false,\"x\":[-5.0,-4.966555183946488,-4.933110367892977,-4.8996655518394645,-4.866220735785953,-4.832775919732441,-4.79933110367893,-4.765886287625418,-4.7324414715719065,-4.698996655518394,-4.665551839464883,-4.632107023411371,-4.59866220735786,-4.565217391304348,-4.531772575250836,-4.498327759197324,-4.464882943143813,-4.431438127090301,-4.39799331103679,-4.364548494983278,-4.331103678929766,-4.297658862876254,-4.264214046822742,-4.230769230769231,-4.19732441471572,-4.163879598662208,-4.130434782608695,-4.096989966555184,-4.063545150501672,-4.030100334448161,-3.9966555183946486,-3.963210702341138,-3.929765886287625,-3.896321070234114,-3.862876254180602,-3.82943143812709,-3.7959866220735785,-3.7625418060200673,-3.729096989966555,-3.695652173913044,-3.662207357859532,-3.62876254180602,-3.5953177257525084,-3.5618729096989967,-3.528428093645485,-3.4949832775919734,-3.4615384615384617,-3.42809364548495,-3.3946488294314383,-3.361204013377926,-3.327759197324415,-3.294314381270903,-3.260869565217392,-3.2274247491638794,-3.193979933110368,-3.160535117056856,-3.127090301003345,-3.0936454849498327,-3.060200668896321,-3.0267558528428093,-2.9933110367892977,-2.959866220735786,-2.9264214046822743,-2.8929765886287626,-2.859531772575251,-2.8260869565217392,-2.792642140468228,-2.759197324414716,-2.725752508361204,-2.6923076923076925,-2.658862876254181,-2.625418060200669,-2.591973244147157,-2.558528428093646,-2.525083612040134,-2.491638795986622,-2.4581939799331103,-2.4247491638795986,-2.391304347826087,-2.3578595317725752,-2.324414715719064,-2.290969899665552,-2.25752508361204,-2.2240802675585285,-2.190635451505017,-2.157190635451505,-2.123745819397993,-2.0903010033444818,-2.05685618729097,-2.0234113712374584,-1.9899665551839467,-1.956521739130435,-1.9230769230769236,-1.889632107023412,-1.8561872909699,-1.8227424749163883,-1.7892976588628766,-1.7558528428093645,-1.7224080267558528,-1.6889632107023411,-1.6555183946488294,-1.6220735785953178,-1.588628762541806,-1.5551839464882944,-1.5217391304347827,-1.488294314381271,-1.4548494983277591,-1.4214046822742477,-1.387959866220736,-1.3545150501672245,-1.3210702341137126,-1.287625418060201,-1.2541806020066892,-1.2207357859531776,-1.187290969899666,-1.1538461538461542,-1.1204013377926425,-1.0869565217391308,-1.0535117056856187,-1.020066889632107,-0.9866220735785952,-0.953177257525084,-0.919732441471572,-0.8862876254180607,-0.8528428093645486,-0.8193979933110374,-0.7859531772575252,-0.752508361204014,-0.7190635451505019,-0.6856187290969897,-0.6521739130434785,-0.6187290969899664,-0.5852842809364551,-0.551839464882943,-0.5183946488294318,-0.4849498327759196,-0.4515050167224084,-0.4180602006688962,-0.384615384615385,-0.3511705685618729,-0.3177257525083616,-0.2842809364548495,-0.2508361204013383,-0.2173913043478261,-0.1839464882943149,-0.1505016722408028,-0.1170568561872915,-0.0836120401337794,-0.0501672240802681,-0.016722408026756,0.016722408026756,0.0501672240802673,0.0836120401337794,0.1170568561872906,0.1505016722408028,0.183946488294314,0.2173913043478261,0.2508361204013374,0.2842809364548495,0.3177257525083607,0.3511705685618729,0.3846153846153841,0.4180602006688962,0.4515050167224075,0.4849498327759196,0.5183946488294309,0.551839464882943,0.5852842809364542,0.6187290969899664,0.6521739130434776,0.6856187290969897,0.7190635451505019,0.7525083612040131,0.7859531772575252,0.8193979933110365,0.8528428093645486,0.8862876254180598,0.919732441471572,0.9531772575250832,0.9866220735785952,1.0200668896321066,1.0535117056856187,1.08695652173913,1.120401337792642,1.1538461538461533,1.1872909698996654,1.2207357859531769,1.2541806020066888,1.2876254180602,1.3210702341137122,1.3545150501672234,1.3879598662207355,1.4214046822742468,1.454849498327759,1.488294314381271,1.5217391304347825,1.5551839464882944,1.5886287625418056,1.6220735785953178,1.655518394648829,1.6889632107023411,1.7224080267558524,1.7558528428093645,1.7892976588628755,1.822742474916388,1.856187290969899,1.8896321070234112,1.9230769230769225,1.9565217391304344,1.9899665551839456,2.023411371237458,2.056856187290969,2.0903010033444813,2.123745819397993,2.1571906354515047,2.190635451505017,2.224080267558528,2.25752508361204,2.2909698996655514,2.324414715719064,2.357859531772575,2.391304347826087,2.424749163879598,2.4581939799331103,2.491638795986621,2.5250836120401337,2.558528428093645,2.591973244147157,2.6254180602006683,2.6588628762541804,2.692307692307692,2.725752508361204,2.759197324414715,2.792642140468227,2.8260869565217384,2.8595317725752505,2.8929765886287626,2.926421404682274,2.959866220735786,2.993311036789297,3.0267558528428093,3.060200668896321,3.093645484949832,3.127090301003344,3.160535117056856,3.193979933110368,3.2274247491638786,3.2608695652173907,3.294314381270903,3.327759197324415,3.3612040133779253,3.3946488294314374,3.428093645484949,3.4615384615384617,3.494983277591972,3.528428093645484,3.5618729096989963,3.5953177257525084,3.628762541806021,3.662207357859531,3.695652173913043,3.729096989966555,3.7625418060200673,3.7959866220735776,3.8294314381270897,3.862876254180602,3.896321070234114,3.929765886287624,3.963210702341137,3.9966555183946486,4.030100334448161,4.063545150501671,4.096989966555183,4.130434782608695,4.163879598662208,4.197324414715718,4.23076923076923,4.264214046822742,4.297658862876254,4.331103678929766,4.364548494983277,4.397993311036789,4.431438127090301,4.464882943143813,4.498327759197323,4.531772575250836,4.565217391304348,4.59866220735786,4.63210702341137,4.665551839464882,4.698996655518394,4.7324414715719065,4.765886287625417,4.799331103678929,4.832775919732441,4.866220735785953,4.899665551839464,4.933110367892976,4.966555183946488,5.0],\"xaxis\":\"x\",\"y\":[-7.672309213774009,-7.779734517785404,-7.995938349837362,-8.197058502287891,-8.183883447872761,-8.294583870428044,-8.789108619905587,-8.131185000490298,-8.367926232188761,-8.449548670279784,-7.686395062809118,-7.884779111713495,-7.40758370858694,-8.149296368695282,-7.698753306457693,-7.209703841645482,-7.693224736041597,-7.005247350337088,-7.35998974810165,-6.750680240727842,-7.424931134387076,-5.717106515468041,-5.827572739109059,-7.022723259587224,-6.477762669231767,-6.53792094309406,-6.199351168608523,-5.4012444332555765,-5.183321367758454,-4.94806613595341,-5.9588670139285576,-5.055988335965847,-6.163280337718589,-5.260652226427859,-4.461189588769009,-4.250469942862925,-5.188735791213787,-5.509146146562051,-4.97235048877106,-5.333269655765433,-3.9572248387125937,-4.149055664493958,-4.955874457859213,-4.030243685843214,-4.332176030245413,-4.817008349132875,-4.564804163660334,-5.401765804464134,-4.520446071854519,-4.27990572791023,-4.675812677586517,-4.393284560723114,-5.277742639388693,-4.664473786357007,-4.807266064507394,-5.159392872069294,-4.309277719586534,-4.471369501600405,-4.708165528460132,-4.929656467128833,-5.615534766039346,-5.160540519430589,-4.776761441232219,-5.120531985395963,-4.913984192307944,-3.865417505752173,-4.966301571707113,-5.4181562216860994,-5.604518870906897,-4.549535794045196,-6.037714671062444,-5.637273709249072,-4.805312244471921,-5.369504407253398,-4.437171109196206,-5.074797374667527,-4.401868897942774,-3.870948037042624,-3.73656975378285,-3.410294574388121,-5.009897240248489,-4.329097343769474,-3.693665318257521,-4.40187841033484,-2.85933921633624,-4.104011167303041,-4.204385884659721,-2.1637722289643784,-2.9906338204849816,-2.758585168375083,-2.2545644043728204,-2.8846913733782547,-2.984782294930396,-2.5929994205605147,-2.77927772322337,-2.71500722878401,-2.010241067993213,-1.656310417608073,-0.7787045703792018,-1.269951865892921,-1.792748804012821,-1.9537146428903247,-1.1788960734769738,-1.5277154372456878,-1.1807087726330094,-1.568517660472828,-1.3506035893989303,-1.391697769760479,-1.047282746349446,-1.5772821642656252,-1.570785251369731,-2.41943797541992,-1.185078881556551,-1.914408856085967,-1.0601700787657118,-1.2815944343706038,-1.519087507875585,-1.4238067886295132,-1.6438780349509858,-1.6223090507647782,-1.087078686084135,-1.5173404698624795,-1.5562788624728698,-2.141827830142496,-1.9259234491491928,-2.4156167655487257,-1.3251559408775493,-1.6793890261642763,-2.0297116584088037,-1.4923405710697517,-1.632846009613218,-2.021118449630693,-2.217881831090392,-1.3434477416665287,-1.7481642321152326,-1.4218297444923564,-0.9642400092872936,-1.70266315254424,-1.829807953156089,-1.8367241904226752,-1.4706344679958103,-1.4433084677515662,-1.7518816168986122,-1.4509022323444576,-1.4237708901966324,-1.0520683358219507,-0.667107565897173,-0.5886674953043197,-0.6775625952018157,0.984683650961996,0.4517802664309152,0.5006010640927224,-0.1842110064761587,0.3787570984061928,1.1836477922281108,0.3964239987822318,0.7124193586625436,1.182384197477731,0.6713989809047876,1.274450951826059,1.553143722667457,1.6995591203361309,2.023466974732528,1.9457019612332904,2.360545691627678,1.5906123866048576,1.859388827635383,1.7401020511193372,1.6162257782761629,1.2606821159072197,2.0430388764224645,1.662330670627664,2.4611406877256683,1.253465329713654,2.602333158981674,1.6141211682630343,1.9364307898997648,2.030599961694973,1.5494988196309636,1.0758074888131886,1.552207339783204,1.604919429177967,1.3333485513235692,1.8945712789194569,1.2566138414330137,1.5406524404853896,0.5330736677012181,1.2606873376969794,0.9355046257550714,1.3128779872238985,1.2874848106399044,1.6031251662584318,1.543072748025539,0.913605638569292,0.612453777025363,1.0997520967804328,1.9012860881991824,1.1485754340483532,1.182335352296918,3.0169882275133157,1.734916616051607,1.4755744291073905,1.0420459334182426,2.4507017557143023,1.8611867314605468,2.182766771758988,2.388071446532565,2.608817389506666,2.6211165439148685,2.1780311793948126,2.8536503165000946,2.9411228690611684,3.4831597253719,4.183737623378804,4.5578448014735065,3.4886458739686605,3.681304139466065,4.310766278752113,3.59450365339081,3.9825236292003225,3.830213475022972,5.078307699143146,4.143829465853275,3.716069871102355,4.02996653723164,5.45493886582055,5.182681971943008,5.17348565231972,4.87477879523013,4.690408384606235,6.639340931336671,5.112897749542114,4.947203785190758,4.530416700222474,5.513651518454388,5.442692650922263,4.963096760905224,4.241634389279237,5.139646117289144,5.18015105108955,5.27063280895599,4.761049843968934,5.179895453080157,4.965352381386266,4.768604010450766,4.325603132362003,4.833247769037616,4.965001813623925,4.236454731729646,4.2087163693574725,3.822595174084512,3.388416719809559,5.05696645106742,4.761756934740643,4.861548761494364,4.614557121605502,4.936091262417548,4.408254404277195,4.312879506437206,4.295432037476273,4.557371279896795,4.040390885252911,4.692542998436527,5.17447103318766,5.735624901448761,5.83169364315838,5.098716575694279,5.757807223192957,6.08636225308439,5.033503496010061,5.031456052475531,5.920430610451941,6.202758312938776,6.141915269649664,5.568159510857342,6.870091033079695,6.612020089918684,5.769394173124921,6.5472339544915625,6.801129477791633,7.115814326994783,7.314097300906174,7.487299400104616,6.907759933614441,8.138754857688127,7.573584031360379,7.852216707944286,8.67279663803172,6.938632740546129,8.543895611158147,8.684529212060736,8.059800504661863,8.60945170862109,8.232467731487317,7.411797223660793,9.195919508646542,7.903161289593162,7.935815930850479,8.809675031622321,8.01053214752323],\"yaxis\":\"y\",\"type\":\"scatter\"}],                        {\"template\":{\"data\":{\"histogram2dcontour\":[{\"type\":\"histogram2dcontour\",\"colorbar\":{\"outlinewidth\":0,\"ticks\":\"\"},\"colorscale\":[[0.0,\"#0d0887\"],[0.1111111111111111,\"#46039f\"],[0.2222222222222222,\"#7201a8\"],[0.3333333333333333,\"#9c179e\"],[0.4444444444444444,\"#bd3786\"],[0.5555555555555556,\"#d8576b\"],[0.6666666666666666,\"#ed7953\"],[0.7777777777777778,\"#fb9f3a\"],[0.8888888888888888,\"#fdca26\"],[1.0,\"#f0f921\"]]}],\"choropleth\":[{\"type\":\"choropleth\",\"colorbar\":{\"outlinewidth\":0,\"ticks\":\"\"}}],\"histogram2d\":[{\"type\":\"histogram2d\",\"colorbar\":{\"outlinewidth\":0,\"ticks\":\"\"},\"colorscale\":[[0.0,\"#0d0887\"],[0.1111111111111111,\"#46039f\"],[0.2222222222222222,\"#7201a8\"],[0.3333333333333333,\"#9c179e\"],[0.4444444444444444,\"#bd3786\"],[0.5555555555555556,\"#d8576b\"],[0.6666666666666666,\"#ed7953\"],[0.7777777777777778,\"#fb9f3a\"],[0.8888888888888888,\"#fdca26\"],[1.0,\"#f0f921\"]]}],\"heatmap\":[{\"type\":\"heatmap\",\"colorbar\":{\"outlinewidth\":0,\"ticks\":\"\"},\"colorscale\":[[0.0,\"#0d0887\"],[0.1111111111111111,\"#46039f\"],[0.2222222222222222,\"#7201a8\"],[0.3333333333333333,\"#9c179e\"],[0.4444444444444444,\"#bd3786\"],[0.5555555555555556,\"#d8576b\"],[0.6666666666666666,\"#ed7953\"],[0.7777777777777778,\"#fb9f3a\"],[0.8888888888888888,\"#fdca26\"],[1.0,\"#f0f921\"]]}],\"heatmapgl\":[{\"type\":\"heatmapgl\",\"colorbar\":{\"outlinewidth\":0,\"ticks\":\"\"},\"colorscale\":[[0.0,\"#0d0887\"],[0.1111111111111111,\"#46039f\"],[0.2222222222222222,\"#7201a8\"],[0.3333333333333333,\"#9c179e\"],[0.4444444444444444,\"#bd3786\"],[0.5555555555555556,\"#d8576b\"],[0.6666666666666666,\"#ed7953\"],[0.7777777777777778,\"#fb9f3a\"],[0.8888888888888888,\"#fdca26\"],[1.0,\"#f0f921\"]]}],\"contourcarpet\":[{\"type\":\"contourcarpet\",\"colorbar\":{\"outlinewidth\":0,\"ticks\":\"\"}}],\"contour\":[{\"type\":\"contour\",\"colorbar\":{\"outlinewidth\":0,\"ticks\":\"\"},\"colorscale\":[[0.0,\"#0d0887\"],[0.1111111111111111,\"#46039f\"],[0.2222222222222222,\"#7201a8\"],[0.3333333333333333,\"#9c179e\"],[0.4444444444444444,\"#bd3786\"],[0.5555555555555556,\"#d8576b\"],[0.6666666666666666,\"#ed7953\"],[0.7777777777777778,\"#fb9f3a\"],[0.8888888888888888,\"#fdca26\"],[1.0,\"#f0f921\"]]}],\"surface\":[{\"type\":\"surface\",\"colorbar\":{\"outlinewidth\":0,\"ticks\":\"\"},\"colorscale\":[[0.0,\"#0d0887\"],[0.1111111111111111,\"#46039f\"],[0.2222222222222222,\"#7201a8\"],[0.3333333333333333,\"#9c179e\"],[0.4444444444444444,\"#bd3786\"],[0.5555555555555556,\"#d8576b\"],[0.6666666666666666,\"#ed7953\"],[0.7777777777777778,\"#fb9f3a\"],[0.8888888888888888,\"#fdca26\"],[1.0,\"#f0f921\"]]}],\"mesh3d\":[{\"type\":\"mesh3d\",\"colorbar\":{\"outlinewidth\":0,\"ticks\":\"\"}}],\"scatter\":[{\"fillpattern\":{\"fillmode\":\"overlay\",\"size\":10,\"solidity\":0.2},\"type\":\"scatter\"}],\"parcoords\":[{\"type\":\"parcoords\",\"line\":{\"colorbar\":{\"outlinewidth\":0,\"ticks\":\"\"}}}],\"scatterpolargl\":[{\"type\":\"scatterpolargl\",\"marker\":{\"colorbar\":{\"outlinewidth\":0,\"ticks\":\"\"}}}],\"bar\":[{\"error_x\":{\"color\":\"#2a3f5f\"},\"error_y\":{\"color\":\"#2a3f5f\"},\"marker\":{\"line\":{\"color\":\"#E5ECF6\",\"width\":0.5},\"pattern\":{\"fillmode\":\"overlay\",\"size\":10,\"solidity\":0.2}},\"type\":\"bar\"}],\"scattergeo\":[{\"type\":\"scattergeo\",\"marker\":{\"colorbar\":{\"outlinewidth\":0,\"ticks\":\"\"}}}],\"scatterpolar\":[{\"type\":\"scatterpolar\",\"marker\":{\"colorbar\":{\"outlinewidth\":0,\"ticks\":\"\"}}}],\"histogram\":[{\"marker\":{\"pattern\":{\"fillmode\":\"overlay\",\"size\":10,\"solidity\":0.2}},\"type\":\"histogram\"}],\"scattergl\":[{\"type\":\"scattergl\",\"marker\":{\"colorbar\":{\"outlinewidth\":0,\"ticks\":\"\"}}}],\"scatter3d\":[{\"type\":\"scatter3d\",\"line\":{\"colorbar\":{\"outlinewidth\":0,\"ticks\":\"\"}},\"marker\":{\"colorbar\":{\"outlinewidth\":0,\"ticks\":\"\"}}}],\"scattermapbox\":[{\"type\":\"scattermapbox\",\"marker\":{\"colorbar\":{\"outlinewidth\":0,\"ticks\":\"\"}}}],\"scatterternary\":[{\"type\":\"scatterternary\",\"marker\":{\"colorbar\":{\"outlinewidth\":0,\"ticks\":\"\"}}}],\"scattercarpet\":[{\"type\":\"scattercarpet\",\"marker\":{\"colorbar\":{\"outlinewidth\":0,\"ticks\":\"\"}}}],\"carpet\":[{\"aaxis\":{\"endlinecolor\":\"#2a3f5f\",\"gridcolor\":\"white\",\"linecolor\":\"white\",\"minorgridcolor\":\"white\",\"startlinecolor\":\"#2a3f5f\"},\"baxis\":{\"endlinecolor\":\"#2a3f5f\",\"gridcolor\":\"white\",\"linecolor\":\"white\",\"minorgridcolor\":\"white\",\"startlinecolor\":\"#2a3f5f\"},\"type\":\"carpet\"}],\"table\":[{\"cells\":{\"fill\":{\"color\":\"#EBF0F8\"},\"line\":{\"color\":\"white\"}},\"header\":{\"fill\":{\"color\":\"#C8D4E3\"},\"line\":{\"color\":\"white\"}},\"type\":\"table\"}],\"barpolar\":[{\"marker\":{\"line\":{\"color\":\"#E5ECF6\",\"width\":0.5},\"pattern\":{\"fillmode\":\"overlay\",\"size\":10,\"solidity\":0.2}},\"type\":\"barpolar\"}],\"pie\":[{\"automargin\":true,\"type\":\"pie\"}]},\"layout\":{\"autotypenumbers\":\"strict\",\"colorway\":[\"#636efa\",\"#EF553B\",\"#00cc96\",\"#ab63fa\",\"#FFA15A\",\"#19d3f3\",\"#FF6692\",\"#B6E880\",\"#FF97FF\",\"#FECB52\"],\"font\":{\"color\":\"#2a3f5f\"},\"hovermode\":\"closest\",\"hoverlabel\":{\"align\":\"left\"},\"paper_bgcolor\":\"white\",\"plot_bgcolor\":\"#E5ECF6\",\"polar\":{\"bgcolor\":\"#E5ECF6\",\"angularaxis\":{\"gridcolor\":\"white\",\"linecolor\":\"white\",\"ticks\":\"\"},\"radialaxis\":{\"gridcolor\":\"white\",\"linecolor\":\"white\",\"ticks\":\"\"}},\"ternary\":{\"bgcolor\":\"#E5ECF6\",\"aaxis\":{\"gridcolor\":\"white\",\"linecolor\":\"white\",\"ticks\":\"\"},\"baxis\":{\"gridcolor\":\"white\",\"linecolor\":\"white\",\"ticks\":\"\"},\"caxis\":{\"gridcolor\":\"white\",\"linecolor\":\"white\",\"ticks\":\"\"}},\"coloraxis\":{\"colorbar\":{\"outlinewidth\":0,\"ticks\":\"\"}},\"colorscale\":{\"sequential\":[[0.0,\"#0d0887\"],[0.1111111111111111,\"#46039f\"],[0.2222222222222222,\"#7201a8\"],[0.3333333333333333,\"#9c179e\"],[0.4444444444444444,\"#bd3786\"],[0.5555555555555556,\"#d8576b\"],[0.6666666666666666,\"#ed7953\"],[0.7777777777777778,\"#fb9f3a\"],[0.8888888888888888,\"#fdca26\"],[1.0,\"#f0f921\"]],\"sequentialminus\":[[0.0,\"#0d0887\"],[0.1111111111111111,\"#46039f\"],[0.2222222222222222,\"#7201a8\"],[0.3333333333333333,\"#9c179e\"],[0.4444444444444444,\"#bd3786\"],[0.5555555555555556,\"#d8576b\"],[0.6666666666666666,\"#ed7953\"],[0.7777777777777778,\"#fb9f3a\"],[0.8888888888888888,\"#fdca26\"],[1.0,\"#f0f921\"]],\"diverging\":[[0,\"#8e0152\"],[0.1,\"#c51b7d\"],[0.2,\"#de77ae\"],[0.3,\"#f1b6da\"],[0.4,\"#fde0ef\"],[0.5,\"#f7f7f7\"],[0.6,\"#e6f5d0\"],[0.7,\"#b8e186\"],[0.8,\"#7fbc41\"],[0.9,\"#4d9221\"],[1,\"#276419\"]]},\"xaxis\":{\"gridcolor\":\"white\",\"linecolor\":\"white\",\"ticks\":\"\",\"title\":{\"standoff\":15},\"zerolinecolor\":\"white\",\"automargin\":true,\"zerolinewidth\":2},\"yaxis\":{\"gridcolor\":\"white\",\"linecolor\":\"white\",\"ticks\":\"\",\"title\":{\"standoff\":15},\"zerolinecolor\":\"white\",\"automargin\":true,\"zerolinewidth\":2},\"scene\":{\"xaxis\":{\"backgroundcolor\":\"#E5ECF6\",\"gridcolor\":\"white\",\"linecolor\":\"white\",\"showbackground\":true,\"ticks\":\"\",\"zerolinecolor\":\"white\",\"gridwidth\":2},\"yaxis\":{\"backgroundcolor\":\"#E5ECF6\",\"gridcolor\":\"white\",\"linecolor\":\"white\",\"showbackground\":true,\"ticks\":\"\",\"zerolinecolor\":\"white\",\"gridwidth\":2},\"zaxis\":{\"backgroundcolor\":\"#E5ECF6\",\"gridcolor\":\"white\",\"linecolor\":\"white\",\"showbackground\":true,\"ticks\":\"\",\"zerolinecolor\":\"white\",\"gridwidth\":2}},\"shapedefaults\":{\"line\":{\"color\":\"#2a3f5f\"}},\"annotationdefaults\":{\"arrowcolor\":\"#2a3f5f\",\"arrowhead\":0,\"arrowwidth\":1},\"geo\":{\"bgcolor\":\"white\",\"landcolor\":\"#E5ECF6\",\"subunitcolor\":\"white\",\"showland\":true,\"showlakes\":true,\"lakecolor\":\"white\"},\"title\":{\"x\":0.05},\"mapbox\":{\"style\":\"light\"}}},\"xaxis\":{\"anchor\":\"y\",\"domain\":[0.0,1.0],\"title\":{\"text\":\"x\"}},\"yaxis\":{\"anchor\":\"x\",\"domain\":[0.0,1.0],\"title\":{\"text\":\"y\"}},\"legend\":{\"tracegroupgap\":0},\"margin\":{\"t\":60},\"height\":600,\"width\":800},                        {\"responsive\": true}                    ).then(function(){\n",
       "                            \n",
       "var gd = document.getElementById('86a7424e-d832-4aa9-ae11-d10b046cffbd');\n",
       "var x = new MutationObserver(function (mutations, observer) {{\n",
       "        var display = window.getComputedStyle(gd).display;\n",
       "        if (!display || display === 'none') {{\n",
       "            console.log([gd, 'removed!']);\n",
       "            Plotly.purge(gd);\n",
       "            observer.disconnect();\n",
       "        }}\n",
       "}});\n",
       "\n",
       "// Listen for the removal of the full notebook cells\n",
       "var notebookContainer = gd.closest('#notebook-container');\n",
       "if (notebookContainer) {{\n",
       "    x.observe(notebookContainer, {childList: true});\n",
       "}}\n",
       "\n",
       "// Listen for the clearing of the current output cell\n",
       "var outputEl = gd.closest('.output');\n",
       "if (outputEl) {{\n",
       "    x.observe(outputEl, {childList: true});\n",
       "}}\n",
       "\n",
       "                        })                };                });            </script>        </div>"
      ]
     },
     "metadata": {},
     "output_type": "display_data"
    }
   ],
   "source": [
    "# Run this cell to plot the data; no further action is needed.\n",
    "import plotly.express as px\n",
    "px.scatter(df, x=\"x\", y=\"y\", width=800, height=600)"
   ]
  },
  {
   "cell_type": "markdown",
   "metadata": {},
   "source": [
    "In this exercise, we'll show gradient descent is so powerful it can even optimize a non-linear model (when the analytical solution is hard to derive). Specifically, we're going to model the relationship of our data by:\n",
    "\n",
    "$$\\Large{\n",
    "\\hat{y}_\\theta(x) = \\theta_1x + \\sin(\\theta_2x)\n",
    "}$$"
   ]
  },
  {
   "cell_type": "markdown",
   "metadata": {},
   "source": [
    "Our model is parameterized by $\\theta = \\begin{bmatrix} \\theta_1 \\\\ \\theta_2 \\end{bmatrix}$.\n",
    "\n",
    "Note that a general `sin` function $a\\sin(bx+c)$ has three parameters: amplitude scaling parameter $a$, frequency parameter $b$, and phase shifting parameter $c$. \n",
    "Here, we're assuming the amplitude $a$ is around 1, and the phase shifting parameter $c$ is around zero. We do not attempt to justify this assumption and you're welcome to see what happens if you ignore this assumption at the end of this lab."
   ]
  },
  {
   "cell_type": "markdown",
   "metadata": {
    "nbgrader": {
     "grade": false,
     "grade_id": "q3a",
     "locked": true,
     "schema_version": 2,
     "solution": false
    }
   },
   "source": [
    "We define the `sin_model` function below that outputs predictions $\\hat{\\mathbb{Y}}$ for the $y$-values $\\mathbb{Y}$ using $\\mathbb{X}$ (the $x$-values) based on our new equation."
   ]
  },
  {
   "cell_type": "code",
   "execution_count": 51,
   "metadata": {
    "nbgrader": {
     "grade": false,
     "grade_id": "q3a-answer",
     "locked": false,
     "schema_version": 2,
     "solution": true
    }
   },
   "outputs": [],
   "source": [
    "# Run this cell to define the model; no further action is needed.\n",
    "def sin_model(X, theta):\n",
    "    \"\"\"\n",
    "    Outputs predictions (Y-hat) given X, theta_1, theta_2.\n",
    "\n",
    "    Keyword arguments:\n",
    "    x -- The vector of values x.\n",
    "    theta -- A vector of length 2, where theta[0] = theta_1 and theta[1] = theta_2.\n",
    "    \"\"\"\n",
    "    theta_1 = theta[0]\n",
    "    theta_2 = theta[1]\n",
    "    return theta_1 * X + np.sin(theta_2 * X)"
   ]
  },
  {
   "cell_type": "markdown",
   "metadata": {},
   "source": [
    "You might ask - Why we don't just represent this as a linear model with a sinusoidal feature, just like we did earlier? The issue is that the theta is INSIDE the `sin` function, and hence this formulation is **not linear in theta**. In other words, linear models use their parameters to adjust the scale of each feature, but $\\theta_2$ in this model adjusts the frequency of the feature. There are tricks we could play to use our linear model framework here, but we won't attempt this in our lab."
   ]
  },
  {
   "cell_type": "markdown",
   "metadata": {},
   "source": [
    "### Terminology: Loss\n",
    "\n",
    "We use the word \"loss\" in two different (but very related) contexts in this course.\n",
    "* In general, the loss is the cost function that measures how far off a model's prediction(s) is(are) from the actual value(s).\n",
    "    * **Per-datapoint loss** is a cost function that measures the cost of $y$ vs $\\hat{y}$ for a particular datapoint. For example, $L(y, \\hat{y}) = (y - \\hat{y})^2$ is the L2 loss of the observed and predicted pair ($y$, $\\hat{y}$).\n",
    "    * **Loss** (without any adjectives) is generally a cost function measured across all data points. We often use this term interchangeably with **empirical risk** to denote the average per-datapoint loss. For example, MSE can be denoted as $MSE(\\theta) = L(\\theta) = R(\\theta) = \\frac{1}{n}\\sum_{i=1}^{n} (y_i - \\hat{y_i})^2$\n",
    "* If we're being particular about notation, we usually prioritize using the latter definition, because we don't particularly look at a given data point's loss when optimizing a model. In other words, the dataset-level loss is the **objective function** that we'd like to minimize.\n",
    "    * Example: \"gradient of L2 loss\" means gradient of Mean Squared Error, not per-datapoint L2 loss.\n",
    "* In this particular lab, however, we'll stick to using $L(\\theta)$ for consistency with the lecture. In future work, we will be clearer about the distinction."
   ]
  },
  {
   "cell_type": "markdown",
   "metadata": {
    "deletable": false,
    "editable": false
   },
   "source": [
    "<br>\n",
    "\n",
    "---\n",
    "### Question 4a: Computing the Gradient of the MSE With Respect to Theta on the Sine Model"
   ]
  },
  {
   "cell_type": "markdown",
   "metadata": {
    "deletable": false,
    "editable": false
   },
   "source": [
    "Recall $\\hat{\\theta}$ is the value of $\\theta$ that minimizes our loss function. One way to solve for $\\hat{\\theta}$ is by computing the gradient of our loss function with respect to $\\theta$, like we did in Lecture 13. Recall that the gradient is a column vector of partial derivatives (one partial derivative per parameter).\n",
    "\n",
    "**Task**: Write/derive the expressions for the following values and use them to fill in the functions below. Working out the partial derivatives on paper is a great starting point for implementing `sin_MSE_dt1` and `sin_MSE_dt2`!\n",
    "\n",
    "* $L(\\theta)$ as `sin_mse`: Our cost function, mean squared error, where `theta` represents $\\theta = \\begin{bmatrix} \\theta_1 \\\\ \\theta_2 \\end{bmatrix}$. \n",
    "Recall that $$L(\\vec{\\theta}, \\mathbb{X}, \\mathbb{Y}) = \\frac{1}{n} \\sum_{i=1}^{n} (y_i - \\hat{y}_i)^2.$$\n",
    "* $\\frac{\\partial L }{\\partial \\theta_1}$ as `sin_MSE_dt1`: The partial derivative of $L$ with respect to $\\theta_1$.\n",
    "* $\\frac{\\partial L }{\\partial \\theta_2}$ as `sin_MSE_dt2`: The partial derivative of $L$ with respect to $\\theta_2$.\n",
    "* We have completed for you `sin_MSE_gradient`, which computes $\\nabla_\\vec{\\theta} L(\\vec{\\theta}, \\mathbb{X}, \\mathbb{Y})$  by calling `dt1` and `dt2` and returns the gradient `dt`.\n",
    "\n",
    "**Notes:**\n",
    "* We are still working with the `DataFrame` `df`.\n",
    "* To keep our code more concise, use `np.mean` instead of taking `np.sum` and then dividing by the length of the `NumPy` array.\n",
    "* Another way to keep your code more concise is to use the function `sin_model` we defined which computes the output of the model.\n",
    "* Review the \"Terminology: Loss\" section above."
   ]
  },
  {
   "cell_type": "code",
   "execution_count": 52,
   "metadata": {
    "tags": []
   },
   "outputs": [],
   "source": [
    "def sin_MSE(theta, X, Y):\n",
    "    \"\"\"\n",
    "    Returns the numerical value of the l2 loss of our sinusoidal model given theta.\n",
    "\n",
    "    Keyword arguments:\n",
    "    theta -- The vector of values theta.\n",
    "    X     -- The vector of x values - note that sin_model only needs a vector of X values and handles the transformations.\n",
    "    Y     -- The vector of y values.\n",
    "    \"\"\"\n",
    "    return 1/len(X) * np.sum((sin_model(X, theta) - Y)**2)\n",
    "\n",
    "def sin_MSE_dt1(theta, X, Y):\n",
    "    \"\"\"\n",
    "    Returns the numerical value of the partial derivative of l2 loss with respect to theta_1.\n",
    "\n",
    "    Keyword arguments:\n",
    "    theta -- The vector of values theta.\n",
    "    X     -- The vector of x values.\n",
    "    Y     -- The vector of y values.\n",
    "    \"\"\"\n",
    "    theta_1 = theta[0]\n",
    "    theta_2 = theta[1]\n",
    "    # return -2/len(X) * np.sum(X*Y - theta_1*X**2 - np.sin(theta_2*x))\n",
    "    \n",
    "    # return -2/len(X) * np.sum((Y - sin_model(X, theta)) * X * np.sin(theta[1] * X))\n",
    "    # return -2/len(X) * np.sum(X*Y - (sin_model(X, theta) - theta*X + theta*x**2))\n",
    "    # return -2/len(X) * np.sum((Y - sin_model(X, theta)) * X * np.sin(theta[1] * X))\n",
    "\n",
    "    # return -2/len(X) * np.sum((Y - sin_model(X, theta)) * X * np.sin(theta_2 * X))\n",
    "\n",
    "    return -2/len(X) * np.sum((Y - sin_model(X, theta)) * X)\n",
    "\n",
    "\n",
    "def sin_MSE_dt2(theta, X, Y):\n",
    "    \"\"\"\n",
    "    Returns the numerical value of the partial of l2 loss with respect to theta_2.\n",
    "\n",
    "    Keyword arguments:\n",
    "    theta -- The vector of values theta.\n",
    "    X     -- The vector of x values.\n",
    "    Y     -- The vector of y values.\n",
    "    \"\"\"\n",
    "    theta_1 = theta[0]\n",
    "    theta_2 = theta[1]\n",
    "    # return -2/len(X) * np.sum((Y - sin_model(X, theta)) * X * theta[0] * np.cos(theta[1] * X))\n",
    "    # return 2/len(X) * np.sum(X*Y*np.cos(theta_2*X) - sin_model(X, theta)*X*np.cos(theta_2*X))\n",
    "\n",
    "    # return -2/len(X) * np.sum((Y - sin_model(X, theta)) * X * theta[0] * np.cos(theta[1] * X))\n",
    "\n",
    "    # return -2/len(X) * np.sum((Y - sin_model(X, theta)) * X * theta_1 * np.cos(theta * X))\n",
    "\n",
    "    return -2/len(X) * np.sum((Y - sin_model(X, theta)) * X * np.cos(theta[1] * X))\n",
    "\n",
    "    \n",
    "# This function calls dt1 and dt2 and returns the gradient dt.\n",
    "# It is already implemented for you.\n",
    "def sin_MSE_gradient(theta, X, Y):\n",
    "    \"\"\"\n",
    "    Returns the gradient of l2 loss with respect to vector theta.\n",
    "\n",
    "    Keyword arguments:\n",
    "    theta -- The vector of values theta.\n",
    "    X     -- The vector of x values.\n",
    "    Y     -- The vector of y values.\n",
    "    \"\"\"\n",
    "    return np.array([sin_MSE_dt1(theta, X, Y), sin_MSE_dt2(theta, X, Y)])"
   ]
  },
  {
   "cell_type": "code",
   "execution_count": 53,
   "metadata": {
    "deletable": false,
    "editable": false
   },
   "outputs": [
    {
     "data": {
      "text/html": [
       "<p><strong><pre style='display: inline;'>q4a</pre></strong> passed! 💯</p>"
      ],
      "text/plain": [
       "q4a results: All test cases passed!"
      ]
     },
     "execution_count": 53,
     "metadata": {},
     "output_type": "execute_result"
    }
   ],
   "source": [
    "grader.check(\"q4a\")"
   ]
  },
  {
   "cell_type": "markdown",
   "metadata": {
    "deletable": false,
    "editable": false
   },
   "source": [
    "<br>\n",
    "\n",
    "---\n",
    "### Question 4b: Implementing Gradient Descent and Using It to Optimize the Sine Model"
   ]
  },
  {
   "cell_type": "markdown",
   "metadata": {
    "deletable": false,
    "editable": false
   },
   "source": [
    "Let's now implement gradient descent. \n",
    "\n",
    "Recall that the gradient descent update function follows the form:\n",
    "\n",
    "$$\\large\n",
    "\\vec{\\theta}^{(t+1)} \\leftarrow \\vec{\\theta}^{(t)} - \\alpha \\left (\\nabla_\\vec{\\theta} L(\\vec{\\theta}, \\mathbb{X}, \\mathbb{Y}) \\right )\n",
    "$$\n",
    "where \n",
    "\n",
    "- $\\vec{\\theta}^{(t+1)}$: Our new coefficients after making an update.\n",
    "- $\\vec{\\theta}^{(t)}$: Our current coefficients.\n",
    "- $\\alpha$: Our step size or learning rate.\n",
    "- $\\nabla_\\vec{\\theta} L(\\vec{\\theta}, \\mathbb{X}, \\mathbb{Y})$: The gradient of our loss.\n",
    "\n",
    "At each time step, use the gradient and `alpha` to update your current `theta`. Save the current `theta` in `theta_history`, along with the average squared loss (computed with the current `theta`) in `loss_history`.\n",
    "\n",
    "After completing the function, the cell will output the trajectory from running gradient descent over time.\n",
    "\n",
    "\n",
    "Note that the function you're implementing here is somewhat different than the gradient descent function we created in the lecture. The version in the lecture was `gradient_descent(df, initial_guess, alpha, n)`, where `df` was the gradient of the function we are minimizing and `initial_guess` are the starting parameters for that function. Here our signature is a bit different (described below in docstring) than the `gradient_descent` implementation from the lecture.\n",
    "\n",
    "**Hints:**\n",
    "- Write out the gradient update equation (1 step). What variables will you need for each gradient update? Of these variables, which ones do you already have, and which ones will you need to recompute at each time step?\n",
    "- You may need a loop here to update `theta` several times. Take a look at `num_iter`.\n",
    "- Be sure to include the initial theta and loss into the trajectory because the test checks for this.\n",
    "- Don't forget that `sin_MSE` and `sin_MSE_gradient` require the $x$ and $y$ values to be supplied."
   ]
  },
  {
   "cell_type": "code",
   "execution_count": 54,
   "metadata": {
    "tags": []
   },
   "outputs": [
    {
     "name": "stdout",
     "output_type": "stream",
     "text": [
      "theta: [1.51625373 2.99448441], Loss: 20.859191416422238\n",
      "theta: [1.51625373 2.99448441], Loss: 9.285008173048666\n",
      "theta: [1.51625373 2.99448441], Loss: 4.680169273815361\n",
      "theta: [1.51625373 2.99448441], Loss: 2.6242517936325833\n",
      "theta: [1.51625373 2.99448441], Loss: 1.4765157174727777\n",
      "theta: [1.51625373 2.99448441], Loss: 0.9073271435862448\n",
      "theta: [1.51625373 2.99448441], Loss: 0.5415316432911281\n",
      "theta: [1.51625373 2.99448441], Loss: 0.37758411424694793\n",
      "theta: [1.51625373 2.99448441], Loss: 0.2969750688130759\n",
      "theta: [1.51625373 2.99448441], Loss: 0.2590425421375732\n",
      "theta: [1.51625373 2.99448441], Loss: 0.23973439443291836\n",
      "theta: [1.51625373 2.99448441], Loss: 0.23034782416254634\n",
      "theta: [1.51625373 2.99448441], Loss: 0.2255775832667724\n",
      "theta: [1.51625373 2.99448441], Loss: 0.2232177219190407\n",
      "theta: [1.51625373 2.99448441], Loss: 0.22202363967204047\n",
      "theta: [1.51625373 2.99448441], Loss: 0.221428115002624\n",
      "theta: [1.51625373 2.99448441], Loss: 0.22112776381775168\n",
      "theta: [1.51625373 2.99448441], Loss: 0.22097741373654578\n",
      "theta: [1.51625373 2.99448441], Loss: 0.2209017318568304\n",
      "theta: [1.51625373 2.99448441], Loss: 0.2208637810584589\n",
      "theta: [1.51625373 2.99448441], Loss: 0.2208446977760149\n"
     ]
    }
   ],
   "source": [
    "def init_theta():\n",
    "    \"\"\"Creates an initial theta [0, 0] of shape (2,) as a starting point for gradient descent.\"\"\"\n",
    "    return np.array([0.0, 0.0])\n",
    "\n",
    "def grad_desc(loss_f, gradient_loss_f, theta, data, num_iter=20, alpha=0.1):\n",
    "    \"\"\"\n",
    "    Run gradient descent update for a finite number of iterations and static learning rate.\n",
    "\n",
    "    Keyword arguments:\n",
    "    loss_f -- The loss function to be minimized (used for computing loss_history).\n",
    "    gradient_loss_f -- The gradient of the loss function to be minimized.\n",
    "    theta -- The vector of values theta to use at the first iteration.\n",
    "    data -- The data used in the model. \n",
    "    num_iter -- The max number of iterations.\n",
    "    alpha -- The learning rate (also called the step size).\n",
    "    \n",
    "    Return:\n",
    "    theta -- The optimal value of theta after num_iter of gradient descent.\n",
    "    theta_history -- The list of theta values over each iteration of gradient descent.\n",
    "    loss_history -- The list of loss values over each iteration of gradient descent.\n",
    "    \"\"\"\n",
    "    theta_history = [theta]\n",
    "    loss_history = [loss_f(theta, data[\"x\"], data[\"y\"])]\n",
    "\n",
    "    for i in range(num_iter):\n",
    "        gradient = gradient_loss_f(theta, data['x'], data['y'])\n",
    "        theta -= alpha * gradient\n",
    "        theta_history.append(theta)\n",
    "        loss = loss_f(theta, data['x'], data['y'])\n",
    "        loss_history.append(loss)\n",
    "    return theta, theta_history, loss_history\n",
    "\n",
    "theta_start = init_theta()\n",
    "theta_hat, thetas_used, losses_calculated = grad_desc(\n",
    "    sin_MSE, sin_MSE_gradient, theta_start, df, num_iter=20, alpha=0.1\n",
    ")\n",
    "for b, l in zip(thetas_used, losses_calculated):\n",
    "    print(f\"theta: {b}, Loss: {l}\")"
   ]
  },
  {
   "cell_type": "code",
   "execution_count": 55,
   "metadata": {
    "deletable": false,
    "editable": false
   },
   "outputs": [
    {
     "data": {
      "text/html": [
       "<p><strong style='color: red;'><pre style='display: inline;'>q4b</pre> results:</strong></p><p><strong><pre style='display: inline;'>q4b - 1</pre> result:</strong></p><pre>    ✅ Test case passed</pre><p><strong><pre style='display: inline;'>q4b - 2</pre> result:</strong></p><pre>    ❌ Test case failed\n",
       "    Trying:\n",
       "        np.isclose(np.round(thetas_used[1][0], 8), 2.60105745) and np.isclose(np.round(thetas_used[1][1], 8), 2.60105745)\n",
       "    Expecting:\n",
       "        True\n",
       "    **********************************************************************\n",
       "    Line 1, in q4b 1\n",
       "    Failed example:\n",
       "        np.isclose(np.round(thetas_used[1][0], 8), 2.60105745) and np.isclose(np.round(thetas_used[1][1], 8), 2.60105745)\n",
       "    Expected:\n",
       "        True\n",
       "    Got:\n",
       "        False\n",
       "</pre><p><strong><pre style='display: inline;'>q4b - 3</pre> result:</strong></p><pre>    ❌ Test case failed\n",
       "    Trying:\n",
       "        np.isclose(np.round(thetas_used[3][0], 8), 2.05633644) and np.isclose(np.round(thetas_used[3][1], 7), 2.9631291)\n",
       "    Expecting:\n",
       "        True\n",
       "    **********************************************************************\n",
       "    Line 1, in q4b 2\n",
       "    Failed example:\n",
       "        np.isclose(np.round(thetas_used[3][0], 8), 2.05633644) and np.isclose(np.round(thetas_used[3][1], 7), 2.9631291)\n",
       "    Expected:\n",
       "        True\n",
       "    Got:\n",
       "        False\n",
       "</pre><p><strong><pre style='display: inline;'>q4b - 4</pre> result:</strong></p><pre>    ✅ Test case passed</pre>"
      ],
      "text/plain": [
       "q4b results:\n",
       "    q4b - 1 result:\n",
       "        ✅ Test case passed\n",
       "\n",
       "    q4b - 2 result:\n",
       "        ❌ Test case failed\n",
       "        Trying:\n",
       "            np.isclose(np.round(thetas_used[1][0], 8), 2.60105745) and np.isclose(np.round(thetas_used[1][1], 8), 2.60105745)\n",
       "        Expecting:\n",
       "            True\n",
       "        **********************************************************************\n",
       "        Line 1, in q4b 1\n",
       "        Failed example:\n",
       "            np.isclose(np.round(thetas_used[1][0], 8), 2.60105745) and np.isclose(np.round(thetas_used[1][1], 8), 2.60105745)\n",
       "        Expected:\n",
       "            True\n",
       "        Got:\n",
       "            False\n",
       "\n",
       "    q4b - 3 result:\n",
       "        ❌ Test case failed\n",
       "        Trying:\n",
       "            np.isclose(np.round(thetas_used[3][0], 8), 2.05633644) and np.isclose(np.round(thetas_used[3][1], 7), 2.9631291)\n",
       "        Expecting:\n",
       "            True\n",
       "        **********************************************************************\n",
       "        Line 1, in q4b 2\n",
       "        Failed example:\n",
       "            np.isclose(np.round(thetas_used[3][0], 8), 2.05633644) and np.isclose(np.round(thetas_used[3][1], 7), 2.9631291)\n",
       "        Expected:\n",
       "            True\n",
       "        Got:\n",
       "            False\n",
       "\n",
       "    q4b - 4 result:\n",
       "        ✅ Test case passed"
      ]
     },
     "execution_count": 55,
     "metadata": {},
     "output_type": "execute_result"
    }
   ],
   "source": [
    "grader.check(\"q4b\")"
   ]
  },
  {
   "cell_type": "markdown",
   "metadata": {},
   "source": [
    "Let's visually inspect our results of running gradient descent to optimize $\\vec{\\theta}$. The code below plots our $x$-values with our model's predicted $\\hat{y}$-values over the original scatter plot. You should notice that gradient descent successfully optimized $\\vec{\\theta}$."
   ]
  },
  {
   "cell_type": "code",
   "execution_count": 56,
   "metadata": {},
   "outputs": [],
   "source": [
    "theta_init = init_theta()\n",
    "theta_est, thetas, loss = grad_desc(sin_MSE, sin_MSE_gradient, theta_init, df)"
   ]
  },
  {
   "cell_type": "markdown",
   "metadata": {},
   "source": [
    "Plotting our model output over our observations shows that gradient descent did  a great job finding both the overall increase (slope) of the data, as well as the oscillation frequency."
   ]
  },
  {
   "cell_type": "code",
   "execution_count": 31,
   "metadata": {},
   "outputs": [
    {
     "data": {
      "image/png": "[encoded data removed]",
      "text/plain": [
       "<Figure size 640x480 with 1 Axes>"
      ]
     },
     "metadata": {},
     "output_type": "display_data"
    }
   ],
   "source": [
    "X, Y = df['x'], df['y']\n",
    "Y_pred = sin_model(X, theta_est)\n",
    "\n",
    "plt.plot(X, Y_pred, label='Model ($\\hat{y}$)')\n",
    "plt.scatter(X, Y, alpha=0.5, label='Observation ($y$)', color='gold')\n",
    "plt.legend();"
   ]
  },
  {
   "cell_type": "markdown",
   "metadata": {},
   "source": [
    "## Visualizing Loss\n",
    "\n",
    "Let's visualize our loss functions and gain some insight as to how gradient descent optimizes our model parameters.\n",
    "\n",
    "In the previous plot, we saw the loss decrease with each iteration. In this part, we'll see the trajectory of the algorithm as it travels the loss surface. Run the following cells to see a visualization of this trajectory. "
   ]
  },
  {
   "cell_type": "code",
   "execution_count": 32,
   "metadata": {},
   "outputs": [
    {
     "data": {
      "text/plain": [
       "array([[0.09322166, 3.44600851],\n",
       "       [0.09322166, 3.44600851],\n",
       "       [0.09322166, 3.44600851],\n",
       "       [0.09322166, 3.44600851],\n",
       "       [0.09322166, 3.44600851],\n",
       "       [0.09322166, 3.44600851],\n",
       "       [0.09322166, 3.44600851],\n",
       "       [0.09322166, 3.44600851],\n",
       "       [0.09322166, 3.44600851],\n",
       "       [0.09322166, 3.44600851],\n",
       "       [0.09322166, 3.44600851],\n",
       "       [0.09322166, 3.44600851],\n",
       "       [0.09322166, 3.44600851],\n",
       "       [0.09322166, 3.44600851],\n",
       "       [0.09322166, 3.44600851],\n",
       "       [0.09322166, 3.44600851],\n",
       "       [0.09322166, 3.44600851],\n",
       "       [0.09322166, 3.44600851],\n",
       "       [0.09322166, 3.44600851],\n",
       "       [0.09322166, 3.44600851]])"
      ]
     },
     "execution_count": 32,
     "metadata": {},
     "output_type": "execute_result"
    }
   ],
   "source": [
    "thetas = np.array(thetas).squeeze()\n",
    "loss = np.array(loss)\n",
    "thetas"
   ]
  },
  {
   "cell_type": "code",
   "execution_count": 33,
   "metadata": {},
   "outputs": [
    {
     "data": {
      "text/html": [
       "        <script type=\"text/javascript\">\n",
       "        window.PlotlyConfig = {MathJaxConfig: 'local'};\n",
       "        if (window.MathJax && window.MathJax.Hub && window.MathJax.Hub.Config) {window.MathJax.Hub.Config({SVG: {font: \"STIX-Web\"}});}\n",
       "        if (typeof require !== 'undefined') {\n",
       "        require.undef(\"plotly\");\n",
       "        requirejs.config({\n",
       "            paths: {\n",
       "                'plotly': ['https://cdn.plot.ly/plotly-2.18.2.min']\n",
       "            }\n",
       "        });\n",
       "        require(['plotly'], function(Plotly) {\n",
       "            window._Plotly = Plotly;\n",
       "        });\n",
       "        }\n",
       "        </script>\n",
       "        "
      ]
     },
     "metadata": {},
     "output_type": "display_data"
    },
    {
     "data": {
      "application/vnd.plotly.v1+json": {
       "config": {
        "linkText": "Export to plot.ly",
        "plotlyServerURL": "https://plot.ly",
        "showLink": false
       },
       "data": [
        {
         "line": {
          "color": "rgb(50,170, 140)",
          "width": 3
         },
         "marker": {
          "color": [
           -21.884955730509212,
           -19.74240664939738,
           -20.00685190171002,
           -20.849977965738823,
           -20.070961359993927,
           -20.714379546950934,
           -19.611465881574734,
           -20.37409883479723,
           -19.445490189252418,
           -20.126955301055915,
           -19.151089415082506,
           -19.832147752956683,
           -18.927531872645385,
           -19.56114444344511,
           -18.6765748061431,
           -19.28314060798665,
           -18.43928274289871,
           -19.009823008318353,
           -18.200299534299738,
           -18.73746912232362
          ],
          "colorscale": [
           [
            0,
            "#440154"
           ],
           [
            0.1111111111111111,
            "#482878"
           ],
           [
            0.2222222222222222,
            "#3e4989"
           ],
           [
            0.3333333333333333,
            "#31688e"
           ],
           [
            0.4444444444444444,
            "#26828e"
           ],
           [
            0.5555555555555556,
            "#1f9e89"
           ],
           [
            0.6666666666666666,
            "#35b779"
           ],
           [
            0.7777777777777778,
            "#6ece58"
           ],
           [
            0.8888888888888888,
            "#b5de2b"
           ],
           [
            1,
            "#fde725"
           ]
          ],
          "size": 4
         },
         "type": "scatter3d",
         "x": [
          0.09322165999935324,
          0.09322165999935324,
          0.09322165999935324,
          0.09322165999935324,
          0.09322165999935324,
          0.09322165999935324,
          0.09322165999935324,
          0.09322165999935324,
          0.09322165999935324,
          0.09322165999935324,
          0.09322165999935324,
          0.09322165999935324,
          0.09322165999935324,
          0.09322165999935324,
          0.09322165999935324,
          0.09322165999935324,
          0.09322165999935324,
          0.09322165999935324,
          0.09322165999935324,
          0.09322165999935324
         ],
         "y": [
          3.446008507857708,
          3.446008507857708,
          3.446008507857708,
          3.446008507857708,
          3.446008507857708,
          3.446008507857708,
          3.446008507857708,
          3.446008507857708,
          3.446008507857708,
          3.446008507857708,
          3.446008507857708,
          3.446008507857708,
          3.446008507857708,
          3.446008507857708,
          3.446008507857708,
          3.446008507857708,
          3.446008507857708,
          3.446008507857708,
          3.446008507857708,
          3.446008507857708
         ],
         "z": [
          21.884955730509212,
          19.74240664939738,
          20.00685190171002,
          20.849977965738823,
          20.070961359993927,
          20.714379546950934,
          19.611465881574734,
          20.37409883479723,
          19.445490189252418,
          20.126955301055915,
          19.151089415082506,
          19.832147752956683,
          18.927531872645385,
          19.56114444344511,
          18.6765748061431,
          19.28314060798665,
          18.43928274289871,
          19.009823008318353,
          18.200299534299738,
          18.73746912232362
         ]
        },
        {
         "type": "surface",
         "x": [
          -0.006778340000646768,
          -0.0026967073475855433,
          0.0013849253054756816,
          0.0054665579585369065,
          0.009548190611598131,
          0.013629823264659356,
          0.01771145591772058,
          0.021793088570781806,
          0.02587472122384303,
          0.029956353876904256,
          0.03403798652996548,
          0.038119619183026705,
          0.04220125183608793,
          0.046282884489149155,
          0.05036451714221038,
          0.054446149795271605,
          0.05852778244833283,
          0.06260941510139405,
          0.06669104775445528,
          0.07077268040751651,
          0.07485431306057773,
          0.07893594571363895,
          0.08301757836670018,
          0.08709921101976141,
          0.09118084367282263,
          0.09526247632588385,
          0.09934410897894508,
          0.10342574163200631,
          0.10750737428506753,
          0.11158900693812875,
          0.11567063959118998,
          0.11975227224425121,
          0.12383390489731243,
          0.12791553755037366,
          0.13199717020343488,
          0.1360788028564961,
          0.1401604355095573,
          0.14424206816261853,
          0.1483237008156798,
          0.15240533346874102,
          0.15648696612180224,
          0.16056859877486346,
          0.16465023142792468,
          0.1687318640809859,
          0.1728134967340471,
          0.17689512938710833,
          0.1809767620401696,
          0.18505839469323082,
          0.18914002734629204,
          0.19322165999935326
         ],
         "y": [
          3.3460085078577078,
          3.350090140510769,
          3.3541717731638303,
          3.3582534058168916,
          3.362335038469953,
          3.3664166711230137,
          3.370498303776075,
          3.3745799364291362,
          3.3786615690821975,
          3.3827432017352588,
          3.38682483438832,
          3.3909064670413813,
          3.3949880996944426,
          3.399069732347504,
          3.403151365000565,
          3.407232997653626,
          3.4113146303066872,
          3.4153962629597485,
          3.41947789561281,
          3.423559528265871,
          3.4276411609189323,
          3.4317227935719936,
          3.435804426225055,
          3.439886058878116,
          3.4439676915311774,
          3.4480493241842383,
          3.4521309568372995,
          3.456212589490361,
          3.460294222143422,
          3.4643758547964834,
          3.4684574874495446,
          3.472539120102606,
          3.476620752755667,
          3.4807023854087284,
          3.4847840180617897,
          3.4888656507148506,
          3.492947283367912,
          3.497028916020973,
          3.5011105486740344,
          3.5051921813270956,
          3.509273813980157,
          3.513355446633218,
          3.5174370792862795,
          3.5215187119393407,
          3.5256003445924016,
          3.529681977245463,
          3.533763609898524,
          3.5378452425515854,
          3.5419268752046467,
          3.546008507857708
         ],
         "z": [
          [
           20.599264280391253,
           20.49380098505531,
           20.38861720907608,
           20.283712952453563,
           20.17908821518776,
           20.074742997278676,
           19.970677298726308,
           19.866891119530653,
           19.763384459691718,
           19.660157319209496,
           19.55720969808399,
           19.4545415963152,
           19.352153013903123,
           19.25004395084776,
           19.14821440714912,
           19.046664382807187,
           18.945393877821974,
           18.84440289219347,
           18.743691425921693,
           18.643259479006623,
           18.54310705144827,
           18.443234143246634,
           18.34364075440171,
           18.24432688491351,
           18.145292534782016,
           18.046537704007243,
           17.948062392589183,
           17.84986660052784,
           17.751950327823206,
           17.654313574475292,
           17.556956340484096,
           17.459878625849615,
           17.363080430571852,
           17.266561754650795,
           17.170322598086457,
           17.07436296087884,
           16.978682843027936,
           16.88328224453375,
           16.788161165396268,
           16.693319605615514,
           16.59875756519147,
           16.504475044124142,
           16.41047204241353,
           16.316748560059636,
           16.223304597062448,
           16.130140153421987,
           16.037255229138232,
           15.944649824211199,
           15.852323938640875,
           15.760277572427272
          ],
          [
           20.625802578829187,
           20.520292591983306,
           20.415062124494142,
           20.31011117636169,
           20.205439747585956,
           20.101047838166938,
           19.996935448104633,
           19.893102577399045,
           19.789549226050173,
           19.686275394058022,
           19.58328108142258,
           19.480566288143848,
           19.378131014221843,
           19.275975259656548,
           19.174099024447965,
           19.072502308596096,
           18.97118511210095,
           18.87014743496252,
           18.7693892771808,
           18.668910638755797,
           18.56871151968751,
           18.46879191997594,
           18.369151839621082,
           18.269791278622943,
           18.17071023698152,
           18.071908714696807,
           17.97338671176881,
           17.875144228197534,
           17.777181263982968,
           17.67949781912512,
           17.582093893623988,
           17.484969487479574,
           17.38812460069187,
           17.29155923326088,
           17.195273385186617,
           17.09926705646906,
           17.00354024710822,
           16.908092957104095,
           16.812925186456688,
           16.71803693516599,
           16.623428203232017,
           16.529098990654752,
           16.435049297434205,
           16.341279123570374,
           16.247788469063256,
           16.154577333912858,
           16.061645718119166,
           15.968993621682202,
           15.876621044601949,
           15.784527986878407
          ],
          [
           20.652490755789913,
           20.546933783455813,
           20.441656330478423,
           20.336658396857754,
           20.231939982593794,
           20.127501087686554,
           20.023341712136027,
           19.919461855942213,
           19.815861519105123,
           19.712540701624743,
           19.60949940350108,
           19.50673762473413,
           19.4042553653239,
           19.302052625270385,
           19.20012940457358,
           19.098485703233493,
           18.99712152125012,
           18.896036858623464,
           18.795231715353523,
           18.6947060914403,
           18.594459986883788,
           18.494493401684,
           18.39480633584092,
           18.295398789354554,
           18.19627076222491,
           18.097422254451978,
           17.99885326603576,
           17.90056379697626,
           17.802553847273472,
           17.704823416927404,
           17.60737250593805,
           17.51020111430541,
           17.413309242029488,
           17.316696889110275,
           17.220364055547787,
           17.124310741342008,
           17.028536946492945,
           16.933042671000596,
           16.837827914864967,
           16.742892678086058,
           16.64823696066385,
           16.553860762598365,
           16.4597640838896,
           16.365946924537546,
           16.272409284542206,
           16.179151163903583,
           16.086172562621673,
           15.993473480696485,
           15.901053918128007,
           15.808913874916247
          ],
          [
           20.679318457020962,
           20.57371422532458,
           20.46838951298491,
           20.36334432000196,
           20.25857864637572,
           20.154092492106198,
           20.04988585719339,
           19.945958741637302,
           19.842311145437932,
           19.738943068595272,
           19.63585451110933,
           19.533045472980096,
           19.430515954207586,
           19.328265954791792,
           19.22629547473271,
           19.12460451403034,
           19.02319307268469,
           18.922061150695754,
           18.821208748063533,
           18.72063586478803,
           18.620342500869242,
           18.52032865630716,
           18.420594331101807,
           18.321139525253166,
           18.22196423876124,
           18.12306847162603,
           18.02445222384753,
           17.926115495425748,
           17.828058286360687,
           17.73028059665233,
           17.632782426300697,
           17.535563775305782,
           17.438624643667577,
           17.341965031386085,
           17.245584938461317,
           17.149484364893258,
           17.053663310681912,
           16.958121775827287,
           16.86285976032938,
           16.767877264188183,
           16.6731742874037,
           16.578750829975938,
           16.484606891904885,
           16.390742473190553,
           16.297157573832934,
           16.20385219383203,
           16.110826333187845,
           16.018079991900375,
           15.925613169969614,
           15.833425867395574
          ],
          [
           20.70627527598924,
           20.60062353122522,
           20.495251305817927,
           20.390158599767343,
           20.285345413073475,
           20.180811745736325,
           20.07655759775589,
           19.97258296913217,
           19.86888785986516,
           19.76547226995487,
           19.662336199401295,
           19.55947964820444,
           19.456902616364296,
           19.354605103880868,
           19.252587110754153,
           19.150848636984154,
           19.049389682570876,
           18.948210247514307,
           18.847310331814455,
           18.746689935471323,
           18.646349058484898,
           18.5462877008552,
           18.44650586258221,
           18.347003543665934,
           18.247780744106375,
           18.148837463903533,
           18.050173703057407,
           17.951789461567994,
           17.853684739435298,
           17.755859536659315,
           17.658313853240053,
           17.561047689177496,
           17.464061044471666,
           17.36735391912255,
           17.270926313130143,
           17.174778226494453,
           17.078909659215483,
           16.983320611293227,
           16.88801108272768,
           16.792981073518852,
           16.698230583666742,
           16.60375961317135,
           16.50956816203267,
           16.415656230250708,
           16.32202381782546,
           16.228670924756923,
           16.1355975510451,
           16.04280369669,
           15.950289361691611,
           15.85805454604994
          ],
          [
           20.733350758910163,
           20.627651267598,
           20.522231295642545,
           20.417090843043805,
           20.312229909801786,
           20.207648495916477,
           20.103346601387887,
           19.99932422621601,
           19.89558137040085,
           19.792118033942405,
           19.68893421684067,
           19.586029919095658,
           19.483405140707365,
           19.381059881675778,
           19.278994142000908,
           19.17720792168276,
           19.075701220721324,
           18.9744740391166,
           18.873526376868593,
           18.772858233977306,
           18.67246961044273,
           18.572360506264868,
           18.472530921443724,
           18.372980855979293,
           18.273710309871582,
           18.174719283120584,
           18.076007775726307,
           17.977575787688735,
           17.879423319007888,
           17.781550369683757,
           17.683956939716328,
           17.586643029105623,
           17.489608637851635,
           17.39285376595436,
           17.296378413413805,
           17.20018258022996,
           17.104266266402835,
           17.00862947193242,
           16.91327219681872,
           16.818194441061742,
           16.723396204661476,
           16.628877487617924,
           16.534638289931088,
           16.44067861160097,
           16.346998452627563,
           16.253597813010874,
           16.1604766927509,
           16.06763509184764,
           15.9750730103011,
           15.882790448111276
          ],
          [
           20.76053440982054,
           20.65478695875228,
           20.549319027040728,
           20.444130614685896,
           20.339221721687778,
           20.234592348046384,
           20.130242493761695,
           20.026172158833724,
           19.922381343262472,
           19.81887004704793,
           19.715638270190112,
           19.612686012689,
           19.510013274544608,
           19.40762005575693,
           19.305506356325967,
           19.203672176251725,
           19.102117515534196,
           19.000842374173377,
           18.89984675216928,
           18.799130649521896,
           18.698694066231226,
           18.59853700229727,
           18.498659457720034,
           18.39906143249951,
           18.299742926635705,
           18.200703940128616,
           18.101944472978243,
           18.00346452518458,
           17.905264096747633,
           17.807343187667406,
           17.70970179794389,
           17.61233992757709,
           17.515257576567006,
           17.41845474491364,
           17.32193143261699,
           17.225687639677048,
           17.129723366093828,
           17.03403861186732,
           16.938633376997533,
           16.843507661484455,
           16.748661465328095,
           16.654094788528454,
           16.559807631085523,
           16.465799992999308,
           16.372071874269814,
           16.27862327489703,
           16.18545419488096,
           16.09256463422161,
           15.999954592918975,
           15.907624070973052
          ],
          [
           20.787815695691304,
           20.68202009197099,
           20.576504007607394,
           20.471267442600514,
           20.366310396950347,
           20.261632870656896,
           20.15723486372016,
           20.053116376140142,
           19.949277407916835,
           19.845717959050248,
           19.74243802954037,
           19.639437619387216,
           19.536716728590772,
           19.434275357151048,
           19.332113505068033,
           19.230231172341735,
           19.12862835897216,
           19.027305064959293,
           18.92626129030314,
           18.82549703500371,
           18.725012299060992,
           18.624807082474987,
           18.5248813852457,
           18.425235207373127,
           18.32586854885727,
           18.22678140969813,
           18.1279737898957,
           18.029445689449993,
           17.931197108361,
           17.83322804662871,
           17.735538504253153,
           17.6381284812343,
           17.54099797757217,
           17.444146993266752,
           17.347575528318046,
           17.25128358272606,
           17.15527115649079,
           17.059538249612235,
           16.964084862090395,
           16.86891099392527,
           16.77401664511686,
           16.679401815665162,
           16.585066505570186,
           16.491010714831926,
           16.397234443450376,
           16.303737691425546,
           16.210520458757426,
           16.117582745446022,
           16.02492455149134,
           15.93254587689337
          ],
          [
           20.815184051576548,
           20.709340122651252,
           20.603775713082662,
           20.4984908228708,
           20.393485452015646,
           20.28875960051721,
           20.184313268375487,
           20.080146455590487,
           19.976259162162197,
           19.872651388090617,
           19.769323133375757,
           19.666274398017617,
           19.563505182016186,
           19.46101548537147,
           19.358805308083472,
           19.25687465015219,
           19.155223511577624,
           19.053851892359774,
           18.952759792498636,
           18.85194721199422,
           18.75141415084651,
           18.65116060905552,
           18.55118658662125,
           18.451492083543688,
           18.35207709982285,
           18.25294163545872,
           18.154085690451307,
           18.05550926480061,
           17.957212358506627,
           17.859194971569366,
           17.761457103988814,
           17.663998755764982,
           17.56681992689786,
           17.469920617387455,
           17.373300827233763,
           17.276960556436787,
           17.180899804996532,
           17.085118572912993,
           16.98961686018616,
           16.89439466681605,
           16.79945199280266,
           16.704788838145976,
           16.610405202846014,
           16.51630108690276,
           16.422476490316228,
           16.328931413086412,
           16.23566585521331,
           16.142679816696923,
           16.049973297537242,
           15.957546297734286
          ],
          [
           20.84262888579475,
           20.736736479477234,
           20.63112359251643,
           20.52579022491235,
           20.42073637666498,
           20.315962047774324,
           20.211467238240388,
           20.107251948063166,
           20.003316177242656,
           19.89965992577887,
           19.796283193671787,
           19.69318598092143,
           19.59036828752778,
           19.487830113490855,
           19.385571458810638,
           19.28359232348714,
           19.18189270752036,
           19.080472610910288,
           18.979332033656938,
           18.878470975760294,
           18.777889437220377,
           18.67758741803717,
           18.577564918210676,
           18.4778219377409,
           18.37835847662784,
           18.2791745348715,
           18.18027011247187,
           18.081645209428956,
           17.983299825742755,
           17.885233961413274,
           17.787447616440506,
           17.689940790824455,
           17.59271348456512,
           17.4957656976625,
           17.399097430116594,
           17.302708681927403,
           17.20659945309493,
           17.110769743619166,
           17.015219553500124,
           16.9199488827378,
           16.824957731332184,
           16.730246099283285,
           16.635813986591106,
           16.54166139325564,
           16.44778831927689,
           16.354194764654856,
           16.26088072938953,
           16.167846213480928,
           16.07509121692904,
           15.982615739733864
          ],
          [
           20.870139585138418,
           20.764198569621506,
           20.658537073461307,
           20.55315509665782,
           20.44805263921105,
           20.343229701121,
           20.23868628238766,
           20.134422383011035,
           20.03043800299113,
           19.926733142327937,
           19.82330780102146,
           19.7201619790717,
           19.617295676478655,
           19.514708893242325,
           19.412401629362716,
           19.310373884839816,
           19.20862565967363,
           19.10715695386416,
           19.00596776741141,
           18.90505810031537,
           18.80442795257605,
           18.70407732419344,
           18.604006215167555,
           18.50421462549838,
           18.40470255518592,
           18.30547000423017,
           18.206516972631146,
           18.107843460388835,
           18.009449467503234,
           17.911334993974354,
           17.813500039802182,
           17.71594460498673,
           17.618668689527997,
           17.521672293425976,
           17.42495541668067,
           17.32851805929208,
           17.232360221260205,
           17.136481902585047,
           17.040883103266605,
           16.945563823304877,
           16.850524062699865,
           16.755763821451566,
           16.661283099559988,
           16.567081897025123,
           16.473160213846967,
           16.37951805002553,
           16.286155405560816,
           16.19307228045281,
           16.10026867470152,
           16.00774458830695
          ],
          [
           20.897705520108204,
           20.791715783970766,
           20.686005567190037,
           20.58057486976603,
           20.475423691698744,
           20.37055203298816,
           20.265959893634303,
           20.161647273637154,
           20.057614172996722,
           19.95386059171301,
           19.85038652978601,
           19.747191987215725,
           19.644276964002156,
           19.541641460145303,
           19.439285475645168,
           19.337209010501745,
           19.23541206471504,
           19.133894638285046,
           19.03265673121177,
           18.93169834349521,
           18.831019475135363,
           18.730620126132234,
           18.63050029648582,
           18.53065998619612,
           18.431099195263137,
           18.33181792368687,
           18.232816171467316,
           18.13409393860448,
           18.035651225098363,
           17.93748803094896,
           17.83960435615626,
           17.742000200720287,
           17.644675564641027,
           17.547630447918486,
           17.45086485055266,
           17.354378772543544,
           17.258172213891147,
           17.162245174595466,
           17.066597654656498,
           16.971229654074243,
           16.87614117284871,
           16.78133221097989,
           16.686802768467782,
           16.59255284531239,
           16.498582441513722,
           16.404891557071764,
           16.31148019198652,
           16.21834834625799,
           16.12549601988618,
           16.032923212871083
          ],
          [
           20.925316050167392,
           20.81927750237206,
           20.713518473933444,
           20.60803896485155,
           20.50283897512637,
           20.3979185047579,
           20.293277553746144,
           20.18891612209111,
           20.08483420979279,
           19.98103181685119,
           19.877508943266296,
           19.774265589038123,
           19.671301754166663,
           19.56861743865192,
           19.466212642493897,
           19.364087365692583,
           19.26224160824798,
           19.160675370160103,
           19.05938865142894,
           18.958381452054486,
           18.85765377203675,
           18.75720561137573,
           18.657036970071427,
           18.55714784812384,
           18.457538245532966,
           18.35820816229881,
           18.259157598421364,
           18.160386553900636,
           18.06189502873663,
           17.96368302292933,
           17.865750536478746,
           17.76809756938489,
           17.67072412164774,
           17.573630193267302,
           17.47681578424358,
           17.38028089457658,
           17.284025524266294,
           17.18804967331272,
           17.092353341715864,
           16.99693652947572,
           16.901799236592293,
           16.806941463065584,
           16.712363208895585,
           16.618064474082313,
           16.524045258625748,
           16.430305562525902,
           16.336845385782762,
           16.24366472839635,
           16.150763590366644,
           16.058141971693658
          ],
          [
           20.95296052901286,
           20.84687309889543,
           20.74106518813472,
           20.635536796730726,
           20.530287924683446,
           20.425318571992886,
           20.320628738659035,
           20.2162184246819,
           20.112087630061488,
           20.008236354797784,
           19.904664598890797,
           19.801372362340526,
           19.698359645146976,
           19.59562644731013,
           19.493172768830007,
           19.3909986097066,
           19.289103969939905,
           19.187488849529927,
           19.086153248476663,
           18.98509716678012,
           18.884320604440287,
           18.783823561457172,
           18.68360603783077,
           18.583668033561086,
           18.484009548648114,
           18.384630583091862,
           18.28553113689232,
           18.186711210049495,
           18.08817080256339,
           17.989909914433998,
           17.891928545661322,
           17.794226696245357,
           17.69680436618611,
           17.599661555483582,
           17.502798264137763,
           17.406214492148663,
           17.30991023951628,
           17.21388550624061,
           17.11814029232166,
           17.02267459775942,
           16.9274884225539,
           16.832581766705093,
           16.737954630213,
           16.643607013077624,
           16.549538915298964,
           16.45575033687702,
           16.362241277811787,
           16.269011738103274,
           16.176061717751477,
           16.08339121675639
          ],
          [
           20.98062830985833,
           20.87449194710889,
           20.768635103716168,
           20.663057779680166,
           20.557759975000874,
           20.452741689678298,
           20.34800292371244,
           20.243543677103293,
           20.139363949850864,
           20.035463741955148,
           19.931843053416152,
           19.828501884233866,
           19.7254402344083,
           19.622658103939447,
           19.520155492827314,
           19.417932401071894,
           19.315988828673188,
           19.214324775631198,
           19.11294024194592,
           19.011835227617365,
           18.911009732645518,
           18.810463757030394,
           18.71019730077198,
           18.610210363870284,
           18.510502946325303,
           18.41107504813703,
           18.311926669305485,
           18.213057809830648,
           18.114468469712527,
           18.016158648951127,
           17.918128347546432,
           17.820377565498458,
           17.722906302807203,
           17.62571455947266,
           17.52880233549483,
           17.43216963087372,
           17.335816445609325,
           17.239742779701647,
           17.143948633150675,
           17.048434005956427,
           16.95319889811889,
           16.858243309638073,
           16.763567240513968,
           16.66917069074658,
           16.57505366033591,
           16.481216149281956,
           16.387658157584706,
           16.294379685244184,
           16.201380732260372,
           16.108661298633276
          ],
          [
           21.008308750725902,
           20.902123425361708,
           20.79621761935424,
           20.69059133270348,
           20.585244565409447,
           20.480177317472116,
           20.375389588891505,
           20.270881379667607,
           20.166652689800426,
           20.062703519289965,
           19.959033868136217,
           19.855643736339182,
           19.752533123898864,
           19.64970203081526,
           19.547150457088378,
           19.444878402718203,
           19.342885867704748,
           19.24117285204801,
           19.13973935574798,
           19.038585378804672,
           18.937710921218077,
           18.8371159829882,
           18.736800564115033,
           18.636764664598587,
           18.53700828443885,
           18.43753142363584,
           18.338334082189537,
           18.23941626009995,
           18.14077795736708,
           18.042419173990922,
           17.944339909971482,
           17.84654016530876,
           17.74901994000275,
           17.651779234053457,
           17.55481804746088,
           17.458136380225017,
           17.36173423234587,
           17.26561160382344,
           17.16976849465772,
           17.07420490484872,
           16.978920834396437,
           16.88391628330087,
           16.789191251562013,
           16.694745739179872,
           16.60057974615445,
           16.50669327248574,
           16.41308631817375,
           16.31975888321847,
           16.226710967619912,
           16.133942571378064
          ],
          [
           21.035991219741693,
           20.929756922071864,
           20.823802143758748,
           20.71812688480235,
           20.612731145202662,
           20.50761492495969,
           20.40277822407344,
           20.2982210425439,
           20.193943380371078,
           20.08994523755497,
           19.986226614095575,
           19.8827875099929,
           19.77962792524694,
           19.676747859857695,
           19.57414731382516,
           19.471826287149344,
           19.369784779830244,
           19.26802279186786,
           19.16654032326219,
           19.06533737401324,
           18.964413944121,
           18.86377003358548,
           18.76340564240667,
           18.663320770584576,
           18.563515418119206,
           18.463989585010545,
           18.364743271258597,
           18.26577647686337,
           18.167089201824854,
           18.068681446143056,
           17.97055320981797,
           17.8727044928496,
           17.77513529523795,
           17.677845616983014,
           17.580835458084795,
           17.484104818543287,
           17.3876536983585,
           17.291482097530423,
           17.195590016059057,
           17.09997745394442,
           17.00464441118649,
           16.909590887785278,
           16.81481688374078,
           16.72032239905299,
           16.626107433721923,
           16.532171987747574,
           16.43851606112994,
           16.345139653869015,
           16.252042765964813,
           16.159225397417323
          ],
          [
           21.06366510043152,
           20.957381841013486,
           20.851378100952157,
           20.745653880247556,
           20.640209178899664,
           20.535043996908485,
           20.430158334274033,
           20.325552190996284,
           20.221225567075255,
           20.117178462510942,
           20.013410877303347,
           19.90992281145246,
           19.806714264958295,
           19.703785237820842,
           19.60113573004011,
           19.498765741616083,
           19.396675272548784,
           19.29486432283819,
           19.193332892484317,
           19.092080981487157,
           18.991108589846714,
           18.890415717562984,
           18.79000236463597,
           18.689868531065677,
           18.59001421685209,
           18.490439421995227,
           18.391144146495076,
           18.29212839035164,
           18.193392153564915,
           18.094935436134914,
           17.996758238061627,
           17.89886055934505,
           17.801242399985192,
           17.70390375998205,
           17.606844639335627,
           17.510065038045912,
           17.41356495611292,
           17.317344393536636,
           17.22140335031707,
           17.12574182645422,
           17.030359821948082,
           16.935257336798664,
           16.840434371005962,
           16.745890924569977,
           16.651626997490702,
           16.557642589768143,
           16.463937701402305,
           16.370512332393176,
           16.277366482740767,
           16.18450015244507
          ],
          [
           21.091319797012392,
           20.984987606600257,
           20.878934935544834,
           20.773161783846128,
           20.667668151504138,
           20.56245403851886,
           20.457519444890305,
           20.352864370618455,
           20.248488815703332,
           20.144392780144916,
           20.040576263943215,
           19.93703926709824,
           19.83378178960997,
           19.73080383147842,
           19.62810539270358,
           19.52568647328546,
           19.423547073224057,
           19.321687192519367,
           19.220106831171393,
           19.118805989180135,
           19.01778466654559,
           18.917042863267763,
           18.816580579346653,
           18.716397814782255,
           18.61649456957457,
           18.516870843723606,
           18.417526637229358,
           18.318461950091823,
           18.219676782310998,
           18.121171133886897,
           18.02294500481951,
           17.924998395108833,
           17.827331304754875,
           17.729943733757633,
           17.632835682117108,
           17.5360071498333,
           17.439458136906197,
           17.34318864333582,
           17.247198669122152,
           17.151488214265207,
           17.05605727876497,
           16.960905862621452,
           16.86603396583465,
           16.771441588404564,
           16.67712873033119,
           16.58309539161453,
           16.489341572254588,
           16.39586727225137,
           16.30267249160485,
           16.20975723031506
          ],
          [
           21.118944739675783,
           21.01256366916055,
           20.90646211800203,
           20.800640086200225,
           20.695097573755138,
           20.589834580666764,
           20.484851106935107,
           20.380147152560166,
           20.275722717541942,
           20.17157780188043,
           20.067712405575634,
           19.964126528627556,
           19.86082017103619,
           19.757793332801544,
           19.65504601392361,
           19.552578214402388,
           19.45038993423789,
           19.348481173430102,
           19.24685193197903,
           19.145502209884675,
           19.04443200714703,
           18.943641323766105,
           18.843130159741897,
           18.742898515074405,
           18.642946389763623,
           18.54327378380956,
           18.443880697212215,
           18.344767129971583,
           18.245933082087664,
           18.147378553560465,
           18.049103544389975,
           17.951108054576203,
           17.85339208411915,
           17.755955633018807,
           17.658798701275185,
           17.56192128888828,
           17.465323395858082,
           17.369005022184606,
           17.272966167867843,
           17.177206832907796,
           17.081727017304463,
           16.986526721057846,
           16.891605944167942,
           16.796964686634762,
           16.702602948458292,
           16.60852072963854,
           16.5147180301755,
           16.421194850069174,
           16.327951189319563,
           16.234987047926673
          ],
          [
           21.14652938985843,
           21.040099510200154,
           20.9339491498986,
           20.82807830895376,
           20.722486987365635,
           20.617175185134226,
           20.512142902259534,
           20.40739013874155,
           20.302916894580285,
           20.198723169775736,
           20.094808964327903,
           19.991174278236784,
           19.88781911150238,
           19.784743464124695,
           19.681947336103725,
           19.579430727439473,
           19.477193638131926,
           19.375236068181103,
           19.273558017586996,
           19.1721594863496,
           19.071040474468926,
           18.970200981944956,
           18.86964100877771,
           18.769360554967175,
           18.66935962051336,
           18.56963820541626,
           18.470196309675874,
           18.371033933292203,
           18.27215107626525,
           18.173547738595012,
           18.075223920281488,
           17.97717962132468,
           17.879414841724586,
           17.781929581481204,
           17.684723840594547,
           17.5877976190646,
           17.491150916891364,
           17.39478373407485,
           17.298696070615048,
           17.202887926511963,
           17.107359301765594,
           17.012110196375943,
           16.917140610343,
           16.822450543666783,
           16.72803999634727,
           16.633908968384482,
           16.5400574597784,
           16.44648547052904,
           16.353193000636395,
           16.260180050100466
          ],
          [
           21.174063245496576,
           21.06758464764852,
           20.961385569157187,
           20.85546601002256,
           20.749825970244657,
           20.644465449823464,
           20.53938444875899,
           20.434582967051224,
           20.330061004700184,
           20.22581856170585,
           20.121855638068237,
           20.018172233787336,
           19.914768348863152,
           19.811643983295685,
           19.708799137084934,
           19.606233810230897,
           19.503948002733573,
           19.40194171459297,
           19.300214945809078,
           19.1987676963819,
           19.097599966311446,
           18.996711755597698,
           18.896103064240666,
           18.795773892240355,
           18.695724239596757,
           18.595954106309872,
           18.49646349237971,
           18.397252397806255,
           18.298320822589517,
           18.199668766729502,
           18.101296230226197,
           18.0032032130796,
           17.90538971528973,
           17.80785573685657,
           17.71060127778013,
           17.6136263380604,
           17.516930917697383,
           17.420515016691088,
           17.32437863504151,
           17.22852177274864,
           17.132944429812486,
           17.037646606233054,
           16.942628302010334,
           16.84788951714433,
           16.753430251635038,
           16.659250505482465,
           16.56535027868661,
           16.471729571247465,
           16.37838838316504,
           16.285326714439325
          ],
          [
           21.201535846259485,
           21.09500864108427,
           20.98876095526577,
           20.882792788803986,
           20.77710414169892,
           20.671695013950565,
           20.56656540555893,
           20.461715316524007,
           20.3571447468458,
           20.252853696524312,
           20.148842165559532,
           20.045110153951473,
           19.941657661700127,
           19.838484688805497,
           19.735591235267584,
           19.632977301086385,
           19.53064288626191,
           19.42858799079414,
           19.326812614683085,
           19.225316757928745,
           19.12410042053113,
           19.023163602490225,
           18.922506303806035,
           18.822128524478558,
           18.7220302645078,
           18.62221152389376,
           18.522672302636426,
           18.423412600735816,
           18.32443241819192,
           18.225731755004738,
           18.127310611174266,
           18.02916898670052,
           17.931306881583478,
           17.833724295823163,
           17.736421229419555,
           17.639397682372667,
           17.542653654682496,
           17.446189146349038,
           17.350004157372297,
           17.254098687752265,
           17.158472737488957,
           17.063126306582358,
           16.968059395032476,
           16.873272002839315,
           16.778764130002862,
           16.684535776523127,
           16.59058694240011,
           16.496917627633806,
           16.40352783222422,
           16.31041755617134
          ],
          [
           21.228936778758133,
           21.122361096935983,
           21.01606493447055,
           20.91004829136184,
           20.804311167609836,
           20.69885356321455,
           20.593675478175978,
           20.488776912494128,
           20.38415786616899,
           20.279818339200567,
           20.17575833158886,
           20.07197784333387,
           19.968476874435595,
           19.86525542489403,
           19.762313494709186,
           19.659651083881055,
           19.557268192409637,
           19.45516482029494,
           19.353340967536955,
           19.251796634135687,
           19.150531820091135,
           19.049546525403297,
           18.948840750072176,
           18.848414494097767,
           18.748267757480075,
           18.648400540219104,
           18.54881284231484,
           18.4495046637673,
           18.350476004576468,
           18.251726864742352,
           18.153257244264957,
           18.055067143144274,
           17.957156561380305,
           17.859525498973053,
           17.762173955922517,
           17.665101932228694,
           17.56830942789159,
           17.4717964429112,
           17.375562977287526,
           17.279609031020563,
           17.18393460411032,
           17.08853969655679,
           16.993424308359977,
           16.89858843951988,
           16.8040320900365,
           16.709755259909834,
           16.615757949139883,
           16.522040157726646,
           16.428601885670126,
           16.335443132970322
          ],
          [
           21.256255681724962,
           21.1496316736541,
           21.043287184939953,
           20.93722221558252,
           20.831436765581802,
           20.725930834937802,
           20.62070442365052,
           20.51575753171995,
           20.41109015914609,
           20.306702305928958,
           20.20259397206853,
           20.09876515756482,
           19.995215862417833,
           19.891946086627552,
           19.78895583019399,
           19.686245093117144,
           19.583813875397013,
           19.4816621770336,
           19.3797899980269,
           19.27819733837691,
           19.17688419808365,
           19.07585057714709,
           18.975096475567256,
           18.87462189334413,
           18.774426830477722,
           18.67451128696803,
           18.57487526281506,
           18.47551875801879,
           18.37644177257925,
           18.277644306496416,
           18.179126359770304,
           18.080887932400906,
           17.982929024388223,
           17.885249635732258,
           17.787849766433002,
           17.69072941649046,
           17.593888585904644,
           17.497327274675534,
           17.401045482803145,
           17.30504321028747,
           17.209320457128506,
           17.113877223326266,
           17.018713508880737,
           16.92382931379192,
           16.829224638059824,
           16.734899481684444,
           16.64085384466577,
           16.547087727003817,
           16.453601128698587,
           16.360394049750063
          ],
          [
           21.283482251160628,
           21.176810086849823,
           21.07041744189573,
           20.964304316298353,
           20.858470710057695,
           20.75291662317375,
           20.647642055646514,
           20.542647007476003,
           20.437931478662207,
           20.333495469205122,
           20.229338979104753,
           20.1254620083611,
           20.021864556974165,
           19.918546624943943,
           19.81550821227044,
           19.712749318953648,
           19.610269944993576,
           19.50807009039021,
           19.406149755143574,
           19.30450893925364,
           19.203147642720428,
           19.10206586554393,
           19.001263607724148,
           18.90074086926108,
           18.80049765015473,
           18.70053395040509,
           18.60084977001217,
           18.501445108975968,
           18.402319967296478,
           18.303474344973697,
           18.204908242007644,
           18.1066216583983,
           18.008614594145673,
           17.91088704924976,
           17.81343902371056,
           17.716270517528084,
           17.619381530702316,
           17.522772063233266,
           17.426442115120928,
           17.33039168636531,
           17.23462077696641,
           17.139129386924214,
           17.043917516238743,
           16.948985164909985,
           16.854332332937943,
           16.759959020322615,
           16.665865227064003,
           16.57205095316211,
           16.478516198616926,
           16.385260963428465
          ],
          [
           21.31060624544367,
           21.20388611439707,
           21.097445502707178,
           20.99128441037401,
           20.885402837397553,
           20.77980078377781,
           20.674478249514785,
           20.569435234608477,
           20.46467173905888,
           20.360187762866,
           20.25598330602984,
           20.15205836855039,
           20.048412950427657,
           19.94504705166164,
           19.841960672252338,
           19.73915381219975,
           19.636626471503877,
           19.534378650164722,
           19.432410348182287,
           19.33072156555656,
           19.22931230228755,
           19.128182558375258,
           19.02733233381968,
           18.92676162862082,
           18.82647044277867,
           18.726458776293235,
           18.62672662916452,
           18.52727400139252,
           18.428100892977238,
           18.329207303918665,
           18.23059323421681,
           18.132258683871676,
           18.03420365288325,
           17.93642814125154,
           17.838932148976546,
           17.74171567605827,
           17.64477872249671,
           17.548121288291863,
           17.451743373443726,
           17.355644977952313,
           17.259826101817616,
           17.16428674503963,
           17.069026907618362,
           16.974046589553808,
           16.87934579084597,
           16.784924511494847,
           16.69078275150044,
           16.596920510862745,
           16.50333778958177,
           16.410034587657506
          ],
          [
           21.33761749039909,
           21.23084960149336,
           21.12436123194433,
           21.018152381752024,
           20.912223050916435,
           20.80657323943756,
           20.701202947315394,
           20.596112174549955,
           20.491300921141224,
           20.38676918708921,
           20.282516972393914,
           20.178544277055327,
           20.074851101073463,
           19.971437444448313,
           19.868303307179872,
           19.76544868926815,
           19.662873590713147,
           19.560578011514853,
           19.45856195167328,
           19.35682541118842,
           19.25536839006028,
           19.154190888288845,
           19.053292905874134,
           18.95267444281614,
           18.852335499114854,
           18.75227607477029,
           18.652496169782438,
           18.5529957841513,
           18.453774917876885,
           18.354833570959176,
           18.256171743398188,
           18.157789435193912,
           18.05968664634635,
           17.961863376855508,
           17.864319626721382,
           17.767055395943967,
           17.67007068452327,
           17.57336549245929,
           17.476939819752022,
           17.380793666401473,
           17.284927032407637,
           17.189339917770518,
           17.09403232249012,
           16.99900424656643,
           16.904255689999456,
           16.809786652789196,
           16.715597134935653,
           16.62168713643883,
           16.528056657298716,
           16.43470569751532
          ],
          [
           21.36450588432194,
           21.257690465675758,
           21.151154566386296,
           21.044898186453544,
           20.9389213258775,
           20.83322398465819,
           20.72780616279558,
           20.622667860289695,
           20.51780907714052,
           20.41322981334806,
           20.30893006891232,
           20.20490984383329,
           20.101169138110983,
           19.997707951745383,
           19.894526284736507,
           19.79162413708434,
           19.689001508788884,
           19.586658399850155,
           19.484594810268135,
           19.382810740042828,
           19.281306189174245,
           19.18008115766237,
           19.07913564550721,
           18.97846965270877,
           18.878083179267044,
           18.777976225182034,
           18.678148790453736,
           18.57860087508216,
           18.479332479067295,
           18.380343602409145,
           18.281634245107714,
           18.183204407162993,
           18.085054088574996,
           17.9871832893437,
           17.88959200946913,
           17.792280248951275,
           17.695248007790134,
           17.598495285985713,
           17.502022083538,
           17.405828400447003,
           17.309914236712725,
           17.214279592335163,
           17.11892446731432,
           17.023848861650183,
           16.929052775342765,
           16.834536208392066,
           16.740299160798074,
           16.646341632560805,
           16.55266362368025,
           16.45926513415641
          ],
          [
           21.391261402951834,
           21.284398701787897,
           21.17781551998068,
           21.071511857530172,
           20.965487714436385,
           20.85974309069931,
           20.754277986318957,
           20.649092401295313,
           20.544186335628385,
           20.439559789318174,
           20.33521276236468,
           20.2311452547679,
           20.127357266527834,
           20.023848797644483,
           19.92061984811785,
           19.817670417947927,
           19.71500050713473,
           19.612610115678237,
           19.510499243578465,
           19.40866789083541,
           19.30711605744906,
           19.20584374341944,
           19.104850948746527,
           19.00413767343033,
           18.903703917470853,
           18.803549680868088,
           18.70367496362204,
           18.604079765732706,
           18.504764087200087,
           18.405727928024184,
           18.306971288205,
           18.208494167742526,
           18.11029656663677,
           18.01237848488773,
           17.914739922495404,
           17.817380879459794,
           17.7203013557809,
           17.62350135145872,
           17.526980866493258,
           17.430739900884507,
           17.334778454632474,
           17.23909652773716,
           17.143694120198553,
           17.04857123201667,
           16.9537278631915,
           16.859164013723046,
           16.7648796836113,
           16.67087487285628,
           16.577149581457967,
           16.483703809416376
          ],
          [
           21.417874104394688,
           21.31096438689418,
           21.204334188750387,
           21.09798350996331,
           20.991912350532953,
           20.886120710459316,
           20.780608589742382,
           20.675375988382164,
           20.570422906378667,
           20.46574934373189,
           20.361355300441822,
           20.257240776508468,
           20.153405771931837,
           20.049850286711916,
           19.94657432084871,
           19.843577874342216,
           19.740860947192445,
           19.638423539399387,
           19.536265650963042,
           19.43438728188341,
           19.3327884321605,
           19.231469101794307,
           19.130429290784825,
           19.029668999132056,
           18.929188226836008,
           18.828986973896672,
           18.72906524031405,
           18.629423026088148,
           18.530060331218955,
           18.430977155706483,
           18.332173499550727,
           18.233649362751684,
           18.13540474530936,
           18.037439647223746,
           17.939754068494853,
           17.84234800912267,
           17.745221469107204,
           17.648374448448454,
           17.551806947146417,
           17.4555189652011,
           17.359510502612498,
           17.26378155938061,
           17.16833213550544,
           17.07316223098698,
           16.97827184582524,
           16.883660980020213,
           16.7893296335719,
           16.695277806480306,
           16.60150549874543,
           16.508012710367264
          ],
          [
           21.44433413398768,
           21.33737768513737,
           21.230700755643774,
           21.1243033455069,
           21.018185454726737,
           20.912347083303292,
           20.80678823123656,
           20.70150889852654,
           20.596509085173242,
           20.49178879117666,
           20.387348016536787,
           20.283186761253635,
           20.179305025327196,
           20.075702808757477,
           19.972380111544464,
           19.869336933688174,
           19.766573275188595,
           19.66408913604574,
           19.561884516259585,
           19.45995941583016,
           19.358313834757446,
           19.256947773041446,
           19.15586123068216,
           19.055054207679593,
           18.95452670403374,
           18.854278719744602,
           18.754310254812182,
           18.654621309236475,
           18.55521188301748,
           18.456081976155204,
           18.357231588649647,
           18.2586607205008,
           18.160369371708672,
           18.062357542273258,
           17.964625232194557,
           17.867172441472576,
           17.769999170107308,
           17.673105418098753,
           17.576491185446923,
           17.4801564721518,
           17.384101278213397,
           17.2883256036317,
           17.192829448406727,
           17.09761281253847,
           17.002675696026927,
           16.908018098872095,
           16.813640021073983,
           16.719541462632588,
           16.625722423547902,
           16.532182903819937
          ],
          [
           21.47063172910382,
           21.36362885253583,
           21.25690549532456,
           21.15046165747,
           21.04429733897216,
           20.938412539831038,
           20.832807260046625,
           20.727481499618932,
           20.622435258547952,
           20.517668536833686,
           20.41318133447614,
           20.308973651475306,
           20.20504548783119,
           20.10139684354378,
           19.998027718613102,
           19.894938113039128,
           19.792128026821874,
           19.689597459961337,
           19.587346412457507,
           19.4853748843104,
           19.38368287552001,
           19.282270386086328,
           19.181137416009367,
           19.08028396528912,
           18.979710033925585,
           18.87941562191877,
           18.779400729268673,
           18.679665355975278,
           18.580209502038613,
           18.48103316745866,
           18.382136352235417,
           18.283519056368895,
           18.185181279859087,
           18.087123022705992,
           17.989344284909613,
           17.891845066469955,
           17.794625367387006,
           17.697685187660777,
           17.60102452729126,
           17.504643386278463,
           17.408541764622374,
           17.312719662323005,
           17.21717707938035,
           17.121914015794413,
           17.026930471565194,
           16.932226446692685,
           16.837801941176888,
           16.743656955017812,
           16.649791488215453,
           16.556205540769806
          ],
          [
           21.496757223892292,
           21.38970824171663,
           21.282938778897684,
           21.17644883543546,
           21.070238411329942,
           20.96430750658115,
           20.858656121189068,
           20.7532842551537,
           20.64819190847505,
           20.543379081153113,
           20.438845773187897,
           20.334591984579394,
           20.2306177153276,
           20.12692296543253,
           20.023507734894174,
           19.920372023712527,
           19.8175158318876,
           19.71493915941939,
           19.612642006307894,
           19.510624372553114,
           19.408886258155047,
           19.307427663113696,
           19.206248587429062,
           19.10534903110115,
           19.00472899412994,
           18.90438847651545,
           18.80432747825768,
           18.704545999356622,
           18.605044039812284,
           18.505821599624657,
           18.406878678793742,
           18.308215277319547,
           18.209831395202066,
           18.111727032441305,
           18.01390218903726,
           17.916356864989925,
           17.819091060299307,
           17.722104774965405,
           17.625398008988213,
           17.52897076236774,
           17.432823035103986,
           17.336954827196948,
           17.24136613864662,
           17.146056969453014,
           17.051027319616114,
           16.956277189135943,
           16.861806578012473,
           16.767615486245724,
           16.673703913835695,
           16.580071860782372
          ],
          [
           21.522701053951007,
           21.41560630658094,
           21.308791078567587,
           21.202255369910944,
           21.09599918061102,
           20.990022510667817,
           20.884325360081327,
           20.77890772885155,
           20.673769616978493,
           20.568911024462142,
           20.464331951302515,
           20.360032397499598,
           20.2560123630534,
           20.152271847963924,
           20.048810852231153,
           19.945629375855102,
           19.842727418835764,
           19.740104981173143,
           19.637762062867235,
           19.535698663918048,
           19.43391478432557,
           19.33241042408981,
           19.231185583210767,
           19.130240261688446,
           19.029574459522827,
           18.92918817671393,
           18.82908141326175,
           18.729254169166282,
           18.629706444427534,
           18.530438239045495,
           18.431449553020173,
           18.33274038635157,
           18.234310739039678,
           18.136160611084506,
           18.038290002486047,
           17.940698913244304,
           17.843387343359275,
           17.746355292830966,
           17.649602761659366,
           17.553129749844487,
           17.45693625738632,
           17.361022284284868,
           17.265387830540135,
           17.17003289615211,
           17.074957481120812,
           16.980161585446222,
           16.88564520912835,
           16.79140835216719,
           16.69745101456275,
           16.603773196315025
          ],
          [
           21.548453760927785,
           21.441313606898124,
           21.33445297222518,
           21.227871856908944,
           21.12157026094943,
           21.015548184346628,
           20.90980562710054,
           20.804342589211174,
           20.69915907067852,
           20.594255071502577,
           20.489630591683355,
           20.385285631220846,
           20.281220190115054,
           20.177434268365978,
           20.07392786597362,
           19.970700982937974,
           19.867753619259037,
           19.765085774936825,
           19.66269744997133,
           19.560588644362543,
           19.45875935811047,
           19.357209591215124,
           19.25593934367648,
           19.154948615494558,
           19.05423740666935,
           18.95380571720086,
           18.85365354708908,
           18.75378089633402,
           18.654187764935674,
           18.554874152894048,
           18.455840060209134,
           18.357085486880933,
           18.25861043290945,
           18.160414898294682,
           18.06249888303663,
           17.964862387135295,
           17.86750541059067,
           17.770427953402766,
           17.673630015571575,
           17.577111597097097,
           17.48087269797934,
           17.384913318218295,
           17.289233457813964,
           17.193833116766353,
           17.098712295075458,
           17.003870992741273,
           16.909309209763805,
           16.815026946143057,
           16.721024201879022,
           16.627300976971696
          ],
          [
           21.574005997046648,
           21.466820812825077,
           21.359915147960226,
           21.253289002452085,
           21.146942376300657,
           21.040875269505953,
           20.93508768206796,
           20.829579613986684,
           20.72435106526212,
           20.61940203589427,
           20.514732525883144,
           20.410342535228725,
           20.306232063931027,
           20.20240111199004,
           20.09884967940577,
           19.99557776617822,
           19.89258537230738,
           19.789872497793255,
           19.68743914263585,
           19.58528530683515,
           19.483410990391178,
           19.38181619330392,
           19.280500915573374,
           19.17946515719954,
           19.078708918182425,
           18.978232198522026,
           18.878034998218343,
           18.77811731727137,
           18.67847915568112,
           18.579120513447585,
           18.48004139057076,
           18.381241787050662,
           18.282721702887265,
           18.18448113808059,
           18.08652009263063,
           17.988838566537382,
           17.89143655980085,
           17.794314072421038,
           17.697471104397945,
           17.600907655731557,
           17.504623726421894,
           17.40861931646894,
           17.312894425872702,
           17.21744905463318,
           17.122283202750378,
           17.027396870224287,
           16.932790057054913,
           16.838462763242255,
           16.744414988786307,
           16.650646733687076
          ],
          [
           21.599348529555822,
           21.492118709347334,
           21.385168408495552,
           21.278497627000487,
           21.17210636486213,
           21.065994622080506,
           20.96016239865558,
           20.85460969458738,
           20.7493365098759,
           20.644342844521123,
           20.539628698523064,
           20.435194071881728,
           20.331038964597102,
           20.22716337666919,
           20.123567308098,
           20.020250758883517,
           19.917213729025757,
           19.814456218524708,
           19.711978227380374,
           19.60977975559276,
           19.507860803161858,
           19.40622137008767,
           19.3048614563702,
           19.203781062009444,
           19.102980187005404,
           19.00245883135808,
           18.902216995067473,
           18.80225467813358,
           18.702571880556402,
           18.603168602335938,
           18.50404484347219,
           18.40520060396516,
           18.30663588381484,
           18.20835068302124,
           18.110345001584356,
           18.01261883950419,
           17.915172196780734,
           17.818005073413993,
           17.72111746940397,
           17.624509384750663,
           17.52818081945407,
           17.432131773514193,
           17.336362246931035,
           17.240872239704583,
           17.145661751834858,
           17.05073078332184,
           16.95607933416554,
           16.86170740436595,
           16.767614993923083,
           16.67380210283693
          ],
          [
           21.624472245094168,
           21.517198200638656,
           21.41020367553986,
           21.303488669797783,
           21.197053183412415,
           21.090897216383766,
           20.98502076871183,
           20.879423840396612,
           20.77410643143811,
           20.669068541836324,
           20.564310171591252,
           20.459831320702897,
           20.35563198917125,
           20.251712176996328,
           20.14807188417812,
           20.044711110716623,
           19.941629856611844,
           19.83882812186378,
           19.73630590647243,
           19.634063210437798,
           19.532100033759882,
           19.430416376438682,
           19.329012238474192,
           19.227887619866422,
           19.12704252061537,
           19.02647694072103,
           18.926190880183402,
           18.826184339002495,
           18.726457317178298,
           18.627009814710824,
           18.52784183160006,
           18.42895336784601,
           18.33034442344868,
           18.23201499840806,
           18.13396509272416,
           18.036194706396973,
           17.93870383942651,
           17.84149249181275,
           17.74456066355571,
           17.647908354655385,
           17.551535565111777,
           17.455442294924886,
           17.359628544094708,
           17.26409431262125,
           17.1688396005045,
           17.07386440774447,
           16.979168734341155,
           16.884752580294553,
           16.790615945604667,
           16.696758830271502
          ],
          [
           21.649368153972688,
           21.542050314335928,
           21.43501199405588,
           21.328253193132554,
           21.221773911565936,
           21.11557414935604,
           21.009653906502855,
           20.904013183006384,
           20.79865197886663,
           20.693570294083596,
           20.58876812865727,
           20.484245482587667,
           20.380002355874772,
           20.276038748518598,
           20.17235466051914,
           20.068950091876392,
           19.965825042590364,
           19.862979512661052,
           19.760413502088454,
           19.65812701087257,
           19.556120039013404,
           19.45439258651095,
           19.352944653365213,
           19.25177623957619,
           19.150887345143886,
           19.050277970068297,
           18.94994811434942,
           18.849897777987263,
           18.750126960981817,
           18.650635663333087,
           18.551423885041075,
           18.45249162610578,
           18.353838886527196,
           18.25546566630533,
           18.15737196544018,
           18.05955778393174,
           17.962023121780025,
           17.864767978985014,
           17.767792355546728,
           17.67109625146516,
           17.574679666740295,
           17.478542601372148,
           17.382685055360724,
           17.287107028706014,
           17.191808521408017,
           17.096789533466737,
           17.00205006488217,
           16.90759011565432,
           16.813409685783185,
           16.719508775268764
          ],
          [
           21.67402739436814,
           21.566666205726083,
           21.459584536440733,
           21.352782386512104,
           21.24625975594019,
           21.140016644724994,
           21.03405305286651,
           20.928368980364745,
           20.822964427219695,
           20.717839393431362,
           20.61299387899974,
           20.50842788392483,
           20.404141408206645,
           20.30013445184517,
           20.196407014840414,
           20.092959097192374,
           19.989790698901043,
           19.88690181996643,
           19.78429246038853,
           19.681962620167347,
           19.579912299302887,
           19.478141497795136,
           19.3766502156441,
           19.27543845284978,
           19.174506209412183,
           19.073853485331288,
           18.973480280607117,
           18.873386595239655,
           18.773572429228913,
           18.67403778257489,
           18.574782655277577,
           18.47580704733698,
           18.377110958753104,
           18.278694389525935,
           18.180557339655486,
           18.082699809141754,
           17.985121797984732,
           17.88782330618443,
           17.790804333740844,
           17.69406488065397,
           17.597604946923813,
           17.501424532550374,
           17.405523637533644,
           17.309902261873635,
           17.214560405570342,
           17.119498068623763,
           17.024715251033896,
           16.930211952800747,
           16.835988173924314,
           16.742043914404597
          ],
          [
           21.698441236425474,
           21.591037161842088,
           21.48391260661541,
           21.377067570745453,
           21.27050205423221,
           21.164216057075684,
           21.05820957927587,
           20.952482620832775,
           20.847035181746403,
           20.741867262016733,
           20.636978861643783,
           20.53236998062755,
           20.42804061896803,
           20.323990776665234,
           20.22022045371914,
           20.11672965012977,
           20.013518365897113,
           19.910586601021176,
           19.80793435550195,
           19.705561629339435,
           19.60346842253364,
           19.501654735084564,
           19.400120566992204,
           19.29886591825655,
           19.19789078887762,
           19.0971951788554,
           18.996779088189896,
           18.896642516881116,
           18.796785464929048,
           18.69720793233369,
           18.597909919095045,
           18.49889142521312,
           18.400152450687916,
           18.301692995519417,
           18.203513059707642,
           18.105612643252577,
           18.00799174615423,
           17.910650368412597,
           17.813588510027678,
           17.71680617099948,
           17.62030335132799,
           17.524080051013225,
           17.428136270055166,
           17.33247200845383,
           17.23708726620921,
           17.141982043321303,
           17.047156339790103,
           16.952610155615627,
           16.858343490797868,
           16.764356345336818
          ],
          [
           21.722601086266387,
           21.615154605465094,
           21.507987644020517,
           21.401100201932653,
           21.294492279201506,
           21.188163875827073,
           21.08211499180936,
           20.97634562714836,
           20.870855781844075,
           20.765645455896507,
           20.660714649305653,
           20.556063362071516,
           20.451691594194088,
           20.347599345673384,
           20.243786616509386,
           20.14025340670211,
           20.03699971625155,
           19.934025545157706,
           19.83133089342057,
           19.72891576104016,
           19.62678014801646,
           19.524924054349473,
           19.423347480039205,
           19.322050425085653,
           19.221032889488814,
           19.120294873248696,
           19.019836376365287,
           18.919657398838595,
           18.819757940668616,
           18.720138001855357,
           18.620797582398815,
           18.521736682298986,
           18.422955301555866,
           18.324453440169474,
           18.226231098139788,
           18.128288275466822,
           18.03062497215057,
           17.93324118819103,
           17.836136923588207,
           17.739312178342104,
           17.64276695245271,
           17.546501245920037,
           17.450515058744077,
           17.354808390924834,
           17.2593812424623,
           17.164233613356487,
           17.069365503607397,
           16.97477691321501,
           16.880467842179346,
           16.786438290500396
          ],
          [
           21.74649848990094,
           21.639010099029765,
           21.53180122751531,
           21.424871875357574,
           21.31822204255655,
           21.211851729112233,
           21.105760935024644,
           20.99994966029377,
           20.894417904919603,
           20.789165668902157,
           20.68419295224143,
           20.57949975493741,
           20.475086076990106,
           20.37095191839952,
           20.26709727916565,
           20.1635221592885,
           20.060226558768065,
           19.957210477604338,
           19.85447391579733,
           19.75201687334704,
           19.649839350253462,
           19.5479413465166,
           19.44632286213645,
           19.34498389711302,
           19.243924451446308,
           19.143144525136304,
           19.042644118183023,
           18.942423230586453,
           18.8424818623466,
           18.742820013463465,
           18.64343768393704,
           18.544334873767337,
           18.445511582954342,
           18.346967811498065,
           18.248703559398503,
           18.15071882665566,
           18.05301361326953,
           17.955587919240116,
           17.858441744567415,
           17.761575089251433,
           17.664987953292165,
           17.568680336689614,
           17.47265223944378,
           17.376903661554653,
           17.28143460302225,
           17.186245063846556,
           17.091335044027584,
           16.99670454356532,
           16.90235356245978,
           16.80828210071095
          ],
          [
           21.77012513703959,
           21.662595348430138,
           21.555345079177407,
           21.448374329281396,
           21.34168309874209,
           21.235271387559507,
           21.12913919573364,
           21.02328652326449,
           20.91771337015205,
           20.812419736396322,
           20.707405621997317,
           20.602671026955026,
           20.498215951269447,
           20.39404039494059,
           20.290144357968444,
           20.18652784035301,
           20.083190842094293,
           19.980133363192294,
           19.877355403647012,
           19.774856963458447,
           19.67263804262659,
           19.570698641151456,
           19.46903875903303,
           19.367658396271327,
           19.266557552866335,
           19.16573622881806,
           19.065194424126496,
           18.964932138791653,
           18.864949372813523,
           18.765246126192107,
           18.665822398927407,
           18.566678191019427,
           18.46781350246816,
           18.369228333273607,
           18.27092268343577,
           18.17289655295465,
           18.075149941830244,
           17.977682850062553,
           17.880495277651576,
           17.783587224597323,
           17.686958690899775,
           17.590609676558945,
           17.494540181574834,
           17.398750205947437,
           17.303239749676756,
           17.208008812762788,
           17.113057395205534,
           17.018385497005003,
           16.923993118161178,
           16.829880258674073
          ],
          [
           21.79347286480305,
           21.685902206723405,
           21.57861106800047,
           21.47159944863426,
           21.364867348624756,
           21.258414767971978,
           21.15224170667591,
           21.046348164736557,
           20.940734142153918,
           20.835399638928,
           20.73034465505879,
           20.6255691905463,
           20.521073245390525,
           20.416856819591462,
           20.31291991314912,
           20.20926252606349,
           20.10588465833458,
           20.00278630996238,
           19.899967480946902,
           19.797428171288132,
           19.695168380986082,
           19.593188110040742,
           19.491487358452122,
           19.39006612622022,
           19.288924413345025,
           19.188062219826552,
           19.087479545664795,
           18.98717639085975,
           18.887152755411424,
           18.787408639319814,
           18.687944042584917,
           18.588758965206733,
           18.489853407185265,
           18.391227368520514,
           18.29288084921248,
           18.19481384926116,
           18.09702636866656,
           17.999518407428663,
           17.902289965547492,
           17.805341043023034,
           17.708671639855293,
           17.61228175604427,
           17.516171391589953,
           17.420340546492355,
           17.32478922075148,
           17.22951741436731,
           17.134525127339856,
           17.039812359669128,
           16.945379111355113,
           16.851225382397807
          ],
          [
           21.8165336613273,
           21.70892267772895,
           21.60159121348733,
           21.494539268602413,
           21.38776684307422,
           21.28127393690274,
           21.175060550087974,
           21.06912668262992,
           20.963472334528586,
           20.85809750578397,
           20.753002196396068,
           20.64818640636488,
           20.543650135690406,
           20.43939338437265,
           20.335416152411607,
           20.23171843980728,
           20.12830024655967,
           20.02516157266877,
           19.9223024181346,
           19.819722782957133,
           19.717422667136383,
           19.61540207067235,
           19.513660993565033,
           19.41219943581443,
           19.31101739742054,
           19.210114878383376,
           19.109491878702915,
           19.009148398379175,
           18.909084437412147,
           18.80929999580184,
           18.70979507354825,
           18.610569670651365,
           18.5116237871112,
           18.412957422927754,
           18.314570578101023,
           18.216463252631005,
           18.118635446517704,
           18.02108715976112,
           17.923818392361245,
           17.82682914431809,
           17.730119415631652,
           17.633689206301927,
           17.537538516328915,
           17.441667345712627,
           17.34607569445305,
           17.250763562550183,
           17.155730950004035,
           17.060977856814606,
           16.96650428298189,
           16.872310228505892
          ],
          [
           21.83929966926148,
           21.73164891952047,
           21.62427768913618,
           21.517185978108607,
           21.410373786437745,
           21.303841114123607,
           21.197587961166178,
           21.091614327565463,
           20.985920213321467,
           20.88050561843419,
           20.77537054290362,
           20.670514986729764,
           20.565938949912628,
           20.46164243245221,
           20.357625434348503,
           20.25388795560152,
           20.15042999621124,
           20.047251556177685,
           19.94435263550084,
           19.84173323418071,
           19.739393352217302,
           19.637332989610606,
           19.535552146360622,
           19.434050822467363,
           19.33282901793081,
           19.231886732750972,
           19.13122396692786,
           19.03084072046145,
           18.93073699335176,
           18.830912785598795,
           18.731368097202534,
           18.63210292816299,
           18.533117278480162,
           18.43441114815405,
           18.33598453718466,
           18.23783744557198,
           18.139969873316012,
           18.042381820416765,
           17.945073286874226,
           17.84804427268841,
           17.75129477785931,
           17.65482480238692,
           17.558634346271248,
           17.462723409512293,
           17.36709199211005,
           17.27174009406453,
           17.176667715375714,
           17.08187485604362,
           16.987361516068244,
           16.89312769544958
          ],
          [
           21.86176318915633,
           21.754073247808616,
           21.646662825817618,
           21.539531923183333,
           21.432680539905764,
           21.326108675984912,
           21.219816331420773,
           21.113803506213355,
           21.00807020036265,
           20.902616413868653,
           20.797442146731385,
           20.692547398950822,
           20.587932170526976,
           20.483596461459843,
           20.37954027174943,
           20.27576360139573,
           20.17226645039875,
           20.069048818758482,
           19.966110706474932,
           19.863452113548096,
           19.761073039977976,
           19.65897348576457,
           19.55715345090788,
           19.455612935407906,
           19.354351939264646,
           19.253370462478106,
           19.152668505048275,
           19.05224606697516,
           18.952103148258765,
           18.852239748899084,
           18.752655868896113,
           18.653351508249866,
           18.554326666960325,
           18.455581345027507,
           18.357115542451403,
           18.258929259232016,
           18.161022495369338,
           18.063395250863383,
           17.966047525714142,
           17.86897931992161,
           17.7721906334858,
           17.675681466406708,
           17.579451818684323,
           17.483501690318658,
           17.387831081309706,
           17.292439991657474,
           17.197328421361952,
           17.102496370423147,
           17.00794383884106,
           16.91367082661569
          ],
          [
           21.883916682740978,
           21.77618813921221,
           21.66873911504016,
           21.561569610224826,
           21.454679624766214,
           21.34806915866431,
           21.24173821191912,
           21.13568678453065,
           21.029914876498896,
           20.924422487823854,
           20.819209618505532,
           20.71427626854392,
           20.609622437939027,
           20.505248126690844,
           20.401153334799385,
           20.297338062264636,
           20.193802309086603,
           20.09054607526529,
           19.987569360800688,
           19.8848721656928,
           19.78245448994163,
           19.68031633354718,
           19.57845769650944,
           19.476878578828416,
           19.375578980504105,
           19.274558901536512,
           19.173818341925635,
           19.073357301671475,
           18.973175780774024,
           18.873273779233294,
           18.77365129704928,
           18.674308334221976,
           18.575244890751396,
           18.476460966637525,
           18.37795656188037,
           18.279731676479933,
           18.18178631043621,
           18.0841204637492,
           17.98673413641891,
           17.889627328445332,
           17.792800039828467,
           17.696252270568323,
           17.599984020664895,
           17.503995290118183,
           17.408286078928178,
           17.312856387094897,
           17.217706214618328,
           17.122835561498473,
           17.028244427735334,
           16.933932813328912
          ]
         ]
        }
       ],
       "layout": {
        "autosize": true,
        "height": 700,
        "scene": {
         "aspectmode": "manual",
         "aspectratio": {
          "x": 1,
          "y": 1,
          "z": 0.7
         },
         "camera": {
          "eye": {
           "x": -1.7428,
           "y": 1.0707,
           "z": 0.71
          },
          "up": {
           "x": 0,
           "y": 0,
           "z": 1
          }
         },
         "xaxis": {
          "gridcolor": "rgb(255, 255, 255)",
          "showbackground": true,
          "type": "linear",
          "zerolinecolor": "rgb(255, 255, 255)"
         },
         "yaxis": {
          "gridcolor": "rgb(255, 255, 255)",
          "showbackground": true,
          "type": "linear",
          "zerolinecolor": "rgb(255, 255, 255)"
         },
         "zaxis": {
          "gridcolor": "rgb(255, 255, 255)",
          "showbackground": true,
          "type": "linear",
          "zerolinecolor": "rgb(255, 255, 255)"
         }
        },
        "template": {
         "data": {
          "bar": [
           {
            "error_x": {
             "color": "#2a3f5f"
            },
            "error_y": {
             "color": "#2a3f5f"
            },
            "marker": {
             "line": {
              "color": "#E5ECF6",
              "width": 0.5
             },
             "pattern": {
              "fillmode": "overlay",
              "size": 10,
              "solidity": 0.2
             }
            },
            "type": "bar"
           }
          ],
          "barpolar": [
           {
            "marker": {
             "line": {
              "color": "#E5ECF6",
              "width": 0.5
             },
             "pattern": {
              "fillmode": "overlay",
              "size": 10,
              "solidity": 0.2
             }
            },
            "type": "barpolar"
           }
          ],
          "carpet": [
           {
            "aaxis": {
             "endlinecolor": "#2a3f5f",
             "gridcolor": "white",
             "linecolor": "white",
             "minorgridcolor": "white",
             "startlinecolor": "#2a3f5f"
            },
            "baxis": {
             "endlinecolor": "#2a3f5f",
             "gridcolor": "white",
             "linecolor": "white",
             "minorgridcolor": "white",
             "startlinecolor": "#2a3f5f"
            },
            "type": "carpet"
           }
          ],
          "choropleth": [
           {
            "colorbar": {
             "outlinewidth": 0,
             "ticks": ""
            },
            "type": "choropleth"
           }
          ],
          "contour": [
           {
            "colorbar": {
             "outlinewidth": 0,
             "ticks": ""
            },
            "colorscale": [
             [
              0,
              "#0d0887"
             ],
             [
              0.1111111111111111,
              "#46039f"
             ],
             [
              0.2222222222222222,
              "#7201a8"
             ],
             [
              0.3333333333333333,
              "#9c179e"
             ],
             [
              0.4444444444444444,
              "#bd3786"
             ],
             [
              0.5555555555555556,
              "#d8576b"
             ],
             [
              0.6666666666666666,
              "#ed7953"
             ],
             [
              0.7777777777777778,
              "#fb9f3a"
             ],
             [
              0.8888888888888888,
              "#fdca26"
             ],
             [
              1,
              "#f0f921"
             ]
            ],
            "type": "contour"
           }
          ],
          "contourcarpet": [
           {
            "colorbar": {
             "outlinewidth": 0,
             "ticks": ""
            },
            "type": "contourcarpet"
           }
          ],
          "heatmap": [
           {
            "colorbar": {
             "outlinewidth": 0,
             "ticks": ""
            },
            "colorscale": [
             [
              0,
              "#0d0887"
             ],
             [
              0.1111111111111111,
              "#46039f"
             ],
             [
              0.2222222222222222,
              "#7201a8"
             ],
             [
              0.3333333333333333,
              "#9c179e"
             ],
             [
              0.4444444444444444,
              "#bd3786"
             ],
             [
              0.5555555555555556,
              "#d8576b"
             ],
             [
              0.6666666666666666,
              "#ed7953"
             ],
             [
              0.7777777777777778,
              "#fb9f3a"
             ],
             [
              0.8888888888888888,
              "#fdca26"
             ],
             [
              1,
              "#f0f921"
             ]
            ],
            "type": "heatmap"
           }
          ],
          "heatmapgl": [
           {
            "colorbar": {
             "outlinewidth": 0,
             "ticks": ""
            },
            "colorscale": [
             [
              0,
              "#0d0887"
             ],
             [
              0.1111111111111111,
              "#46039f"
             ],
             [
              0.2222222222222222,
              "#7201a8"
             ],
             [
              0.3333333333333333,
              "#9c179e"
             ],
             [
              0.4444444444444444,
              "#bd3786"
             ],
             [
              0.5555555555555556,
              "#d8576b"
             ],
             [
              0.6666666666666666,
              "#ed7953"
             ],
             [
              0.7777777777777778,
              "#fb9f3a"
             ],
             [
              0.8888888888888888,
              "#fdca26"
             ],
             [
              1,
              "#f0f921"
             ]
            ],
            "type": "heatmapgl"
           }
          ],
          "histogram": [
           {
            "marker": {
             "pattern": {
              "fillmode": "overlay",
              "size": 10,
              "solidity": 0.2
             }
            },
            "type": "histogram"
           }
          ],
          "histogram2d": [
           {
            "colorbar": {
             "outlinewidth": 0,
             "ticks": ""
            },
            "colorscale": [
             [
              0,
              "#0d0887"
             ],
             [
              0.1111111111111111,
              "#46039f"
             ],
             [
              0.2222222222222222,
              "#7201a8"
             ],
             [
              0.3333333333333333,
              "#9c179e"
             ],
             [
              0.4444444444444444,
              "#bd3786"
             ],
             [
              0.5555555555555556,
              "#d8576b"
             ],
             [
              0.6666666666666666,
              "#ed7953"
             ],
             [
              0.7777777777777778,
              "#fb9f3a"
             ],
             [
              0.8888888888888888,
              "#fdca26"
             ],
             [
              1,
              "#f0f921"
             ]
            ],
            "type": "histogram2d"
           }
          ],
          "histogram2dcontour": [
           {
            "colorbar": {
             "outlinewidth": 0,
             "ticks": ""
            },
            "colorscale": [
             [
              0,
              "#0d0887"
             ],
             [
              0.1111111111111111,
              "#46039f"
             ],
             [
              0.2222222222222222,
              "#7201a8"
             ],
             [
              0.3333333333333333,
              "#9c179e"
             ],
             [
              0.4444444444444444,
              "#bd3786"
             ],
             [
              0.5555555555555556,
              "#d8576b"
             ],
             [
              0.6666666666666666,
              "#ed7953"
             ],
             [
              0.7777777777777778,
              "#fb9f3a"
             ],
             [
              0.8888888888888888,
              "#fdca26"
             ],
             [
              1,
              "#f0f921"
             ]
            ],
            "type": "histogram2dcontour"
           }
          ],
          "mesh3d": [
           {
            "colorbar": {
             "outlinewidth": 0,
             "ticks": ""
            },
            "type": "mesh3d"
           }
          ],
          "parcoords": [
           {
            "line": {
             "colorbar": {
              "outlinewidth": 0,
              "ticks": ""
             }
            },
            "type": "parcoords"
           }
          ],
          "pie": [
           {
            "automargin": true,
            "type": "pie"
           }
          ],
          "scatter": [
           {
            "fillpattern": {
             "fillmode": "overlay",
             "size": 10,
             "solidity": 0.2
            },
            "type": "scatter"
           }
          ],
          "scatter3d": [
           {
            "line": {
             "colorbar": {
              "outlinewidth": 0,
              "ticks": ""
             }
            },
            "marker": {
             "colorbar": {
              "outlinewidth": 0,
              "ticks": ""
             }
            },
            "type": "scatter3d"
           }
          ],
          "scattercarpet": [
           {
            "marker": {
             "colorbar": {
              "outlinewidth": 0,
              "ticks": ""
             }
            },
            "type": "scattercarpet"
           }
          ],
          "scattergeo": [
           {
            "marker": {
             "colorbar": {
              "outlinewidth": 0,
              "ticks": ""
             }
            },
            "type": "scattergeo"
           }
          ],
          "scattergl": [
           {
            "marker": {
             "colorbar": {
              "outlinewidth": 0,
              "ticks": ""
             }
            },
            "type": "scattergl"
           }
          ],
          "scattermapbox": [
           {
            "marker": {
             "colorbar": {
              "outlinewidth": 0,
              "ticks": ""
             }
            },
            "type": "scattermapbox"
           }
          ],
          "scatterpolar": [
           {
            "marker": {
             "colorbar": {
              "outlinewidth": 0,
              "ticks": ""
             }
            },
            "type": "scatterpolar"
           }
          ],
          "scatterpolargl": [
           {
            "marker": {
             "colorbar": {
              "outlinewidth": 0,
              "ticks": ""
             }
            },
            "type": "scatterpolargl"
           }
          ],
          "scatterternary": [
           {
            "marker": {
             "colorbar": {
              "outlinewidth": 0,
              "ticks": ""
             }
            },
            "type": "scatterternary"
           }
          ],
          "surface": [
           {
            "colorbar": {
             "outlinewidth": 0,
             "ticks": ""
            },
            "colorscale": [
             [
              0,
              "#0d0887"
             ],
             [
              0.1111111111111111,
              "#46039f"
             ],
             [
              0.2222222222222222,
              "#7201a8"
             ],
             [
              0.3333333333333333,
              "#9c179e"
             ],
             [
              0.4444444444444444,
              "#bd3786"
             ],
             [
              0.5555555555555556,
              "#d8576b"
             ],
             [
              0.6666666666666666,
              "#ed7953"
             ],
             [
              0.7777777777777778,
              "#fb9f3a"
             ],
             [
              0.8888888888888888,
              "#fdca26"
             ],
             [
              1,
              "#f0f921"
             ]
            ],
            "type": "surface"
           }
          ],
          "table": [
           {
            "cells": {
             "fill": {
              "color": "#EBF0F8"
             },
             "line": {
              "color": "white"
             }
            },
            "header": {
             "fill": {
              "color": "#C8D4E3"
             },
             "line": {
              "color": "white"
             }
            },
            "type": "table"
           }
          ]
         },
         "layout": {
          "annotationdefaults": {
           "arrowcolor": "#2a3f5f",
           "arrowhead": 0,
           "arrowwidth": 1
          },
          "autotypenumbers": "strict",
          "coloraxis": {
           "colorbar": {
            "outlinewidth": 0,
            "ticks": ""
           }
          },
          "colorscale": {
           "diverging": [
            [
             0,
             "#8e0152"
            ],
            [
             0.1,
             "#c51b7d"
            ],
            [
             0.2,
             "#de77ae"
            ],
            [
             0.3,
             "#f1b6da"
            ],
            [
             0.4,
             "#fde0ef"
            ],
            [
             0.5,
             "#f7f7f7"
            ],
            [
             0.6,
             "#e6f5d0"
            ],
            [
             0.7,
             "#b8e186"
            ],
            [
             0.8,
             "#7fbc41"
            ],
            [
             0.9,
             "#4d9221"
            ],
            [
             1,
             "#276419"
            ]
           ],
           "sequential": [
            [
             0,
             "#0d0887"
            ],
            [
             0.1111111111111111,
             "#46039f"
            ],
            [
             0.2222222222222222,
             "#7201a8"
            ],
            [
             0.3333333333333333,
             "#9c179e"
            ],
            [
             0.4444444444444444,
             "#bd3786"
            ],
            [
             0.5555555555555556,
             "#d8576b"
            ],
            [
             0.6666666666666666,
             "#ed7953"
            ],
            [
             0.7777777777777778,
             "#fb9f3a"
            ],
            [
             0.8888888888888888,
             "#fdca26"
            ],
            [
             1,
             "#f0f921"
            ]
           ],
           "sequentialminus": [
            [
             0,
             "#0d0887"
            ],
            [
             0.1111111111111111,
             "#46039f"
            ],
            [
             0.2222222222222222,
             "#7201a8"
            ],
            [
             0.3333333333333333,
             "#9c179e"
            ],
            [
             0.4444444444444444,
             "#bd3786"
            ],
            [
             0.5555555555555556,
             "#d8576b"
            ],
            [
             0.6666666666666666,
             "#ed7953"
            ],
            [
             0.7777777777777778,
             "#fb9f3a"
            ],
            [
             0.8888888888888888,
             "#fdca26"
            ],
            [
             1,
             "#f0f921"
            ]
           ]
          },
          "colorway": [
           "#636efa",
           "#EF553B",
           "#00cc96",
           "#ab63fa",
           "#FFA15A",
           "#19d3f3",
           "#FF6692",
           "#B6E880",
           "#FF97FF",
           "#FECB52"
          ],
          "font": {
           "color": "#2a3f5f"
          },
          "geo": {
           "bgcolor": "white",
           "lakecolor": "white",
           "landcolor": "#E5ECF6",
           "showlakes": true,
           "showland": true,
           "subunitcolor": "white"
          },
          "hoverlabel": {
           "align": "left"
          },
          "hovermode": "closest",
          "mapbox": {
           "style": "light"
          },
          "paper_bgcolor": "white",
          "plot_bgcolor": "#E5ECF6",
          "polar": {
           "angularaxis": {
            "gridcolor": "white",
            "linecolor": "white",
            "ticks": ""
           },
           "bgcolor": "#E5ECF6",
           "radialaxis": {
            "gridcolor": "white",
            "linecolor": "white",
            "ticks": ""
           }
          },
          "scene": {
           "xaxis": {
            "backgroundcolor": "#E5ECF6",
            "gridcolor": "white",
            "gridwidth": 2,
            "linecolor": "white",
            "showbackground": true,
            "ticks": "",
            "zerolinecolor": "white"
           },
           "yaxis": {
            "backgroundcolor": "#E5ECF6",
            "gridcolor": "white",
            "gridwidth": 2,
            "linecolor": "white",
            "showbackground": true,
            "ticks": "",
            "zerolinecolor": "white"
           },
           "zaxis": {
            "backgroundcolor": "#E5ECF6",
            "gridcolor": "white",
            "gridwidth": 2,
            "linecolor": "white",
            "showbackground": true,
            "ticks": "",
            "zerolinecolor": "white"
           }
          },
          "shapedefaults": {
           "line": {
            "color": "#2a3f5f"
           }
          },
          "ternary": {
           "aaxis": {
            "gridcolor": "white",
            "linecolor": "white",
            "ticks": ""
           },
           "baxis": {
            "gridcolor": "white",
            "linecolor": "white",
            "ticks": ""
           },
           "bgcolor": "#E5ECF6",
           "caxis": {
            "gridcolor": "white",
            "linecolor": "white",
            "ticks": ""
           }
          },
          "title": {
           "x": 0.05
          },
          "xaxis": {
           "automargin": true,
           "gridcolor": "white",
           "linecolor": "white",
           "ticks": "",
           "title": {
            "standoff": 15
           },
           "zerolinecolor": "white",
           "zerolinewidth": 2
          },
          "yaxis": {
           "automargin": true,
           "gridcolor": "white",
           "linecolor": "white",
           "ticks": "",
           "title": {
            "standoff": 15
           },
           "zerolinecolor": "white",
           "zerolinewidth": 2
          }
         }
        },
        "title": {
         "text": "Gradient Descent"
        },
        "width": 800
       }
      },
      "image/png": "[encoded data removed]",
      "text/html": [
       "<div>                            <div id=\"82527f3e-701f-4593-b4ab-a866026b743e\" class=\"plotly-graph-div\" style=\"height:700px; width:800px;\"></div>            <script type=\"text/javascript\">                require([\"plotly\"], function(Plotly) {                    window.PLOTLYENV=window.PLOTLYENV || {};                                    if (document.getElementById(\"82527f3e-701f-4593-b4ab-a866026b743e\")) {                    Plotly.newPlot(                        \"82527f3e-701f-4593-b4ab-a866026b743e\",                        [{\"line\":{\"color\":\"rgb(50,170, 140)\",\"width\":3},\"marker\":{\"color\":[-21.884955730509212,-19.74240664939738,-20.00685190171002,-20.849977965738823,-20.070961359993927,-20.714379546950934,-19.611465881574734,-20.37409883479723,-19.445490189252418,-20.126955301055915,-19.151089415082506,-19.832147752956683,-18.927531872645385,-19.56114444344511,-18.6765748061431,-19.28314060798665,-18.43928274289871,-19.009823008318353,-18.200299534299738,-18.73746912232362],\"colorscale\":[[0.0,\"#440154\"],[0.1111111111111111,\"#482878\"],[0.2222222222222222,\"#3e4989\"],[0.3333333333333333,\"#31688e\"],[0.4444444444444444,\"#26828e\"],[0.5555555555555556,\"#1f9e89\"],[0.6666666666666666,\"#35b779\"],[0.7777777777777778,\"#6ece58\"],[0.8888888888888888,\"#b5de2b\"],[1.0,\"#fde725\"]],\"size\":4},\"x\":[0.09322165999935324,0.09322165999935324,0.09322165999935324,0.09322165999935324,0.09322165999935324,0.09322165999935324,0.09322165999935324,0.09322165999935324,0.09322165999935324,0.09322165999935324,0.09322165999935324,0.09322165999935324,0.09322165999935324,0.09322165999935324,0.09322165999935324,0.09322165999935324,0.09322165999935324,0.09322165999935324,0.09322165999935324,0.09322165999935324],\"y\":[3.446008507857708,3.446008507857708,3.446008507857708,3.446008507857708,3.446008507857708,3.446008507857708,3.446008507857708,3.446008507857708,3.446008507857708,3.446008507857708,3.446008507857708,3.446008507857708,3.446008507857708,3.446008507857708,3.446008507857708,3.446008507857708,3.446008507857708,3.446008507857708,3.446008507857708,3.446008507857708],\"z\":[21.884955730509212,19.74240664939738,20.00685190171002,20.849977965738823,20.070961359993927,20.714379546950934,19.611465881574734,20.37409883479723,19.445490189252418,20.126955301055915,19.151089415082506,19.832147752956683,18.927531872645385,19.56114444344511,18.6765748061431,19.28314060798665,18.43928274289871,19.009823008318353,18.200299534299738,18.73746912232362],\"type\":\"scatter3d\"},{\"x\":[-0.006778340000646768,-0.0026967073475855433,0.0013849253054756816,0.0054665579585369065,0.009548190611598131,0.013629823264659356,0.01771145591772058,0.021793088570781806,0.02587472122384303,0.029956353876904256,0.03403798652996548,0.038119619183026705,0.04220125183608793,0.046282884489149155,0.05036451714221038,0.054446149795271605,0.05852778244833283,0.06260941510139405,0.06669104775445528,0.07077268040751651,0.07485431306057773,0.07893594571363895,0.08301757836670018,0.08709921101976141,0.09118084367282263,0.09526247632588385,0.09934410897894508,0.10342574163200631,0.10750737428506753,0.11158900693812875,0.11567063959118998,0.11975227224425121,0.12383390489731243,0.12791553755037366,0.13199717020343488,0.1360788028564961,0.1401604355095573,0.14424206816261853,0.1483237008156798,0.15240533346874102,0.15648696612180224,0.16056859877486346,0.16465023142792468,0.1687318640809859,0.1728134967340471,0.17689512938710833,0.1809767620401696,0.18505839469323082,0.18914002734629204,0.19322165999935326],\"y\":[3.3460085078577078,3.350090140510769,3.3541717731638303,3.3582534058168916,3.362335038469953,3.3664166711230137,3.370498303776075,3.3745799364291362,3.3786615690821975,3.3827432017352588,3.38682483438832,3.3909064670413813,3.3949880996944426,3.399069732347504,3.403151365000565,3.407232997653626,3.4113146303066872,3.4153962629597485,3.41947789561281,3.423559528265871,3.4276411609189323,3.4317227935719936,3.435804426225055,3.439886058878116,3.4439676915311774,3.4480493241842383,3.4521309568372995,3.456212589490361,3.460294222143422,3.4643758547964834,3.4684574874495446,3.472539120102606,3.476620752755667,3.4807023854087284,3.4847840180617897,3.4888656507148506,3.492947283367912,3.497028916020973,3.5011105486740344,3.5051921813270956,3.509273813980157,3.513355446633218,3.5174370792862795,3.5215187119393407,3.5256003445924016,3.529681977245463,3.533763609898524,3.5378452425515854,3.5419268752046467,3.546008507857708],\"z\":[[20.599264280391253,20.49380098505531,20.38861720907608,20.283712952453563,20.17908821518776,20.074742997278676,19.970677298726308,19.866891119530653,19.763384459691718,19.660157319209496,19.55720969808399,19.4545415963152,19.352153013903123,19.25004395084776,19.14821440714912,19.046664382807187,18.945393877821974,18.84440289219347,18.743691425921693,18.643259479006623,18.54310705144827,18.443234143246634,18.34364075440171,18.24432688491351,18.145292534782016,18.046537704007243,17.948062392589183,17.84986660052784,17.751950327823206,17.654313574475292,17.556956340484096,17.459878625849615,17.363080430571852,17.266561754650795,17.170322598086457,17.07436296087884,16.978682843027936,16.88328224453375,16.788161165396268,16.693319605615514,16.59875756519147,16.504475044124142,16.41047204241353,16.316748560059636,16.223304597062448,16.130140153421987,16.037255229138232,15.944649824211199,15.852323938640875,15.760277572427272],[20.625802578829187,20.520292591983306,20.415062124494142,20.31011117636169,20.205439747585956,20.101047838166938,19.996935448104633,19.893102577399045,19.789549226050173,19.686275394058022,19.58328108142258,19.480566288143848,19.378131014221843,19.275975259656548,19.174099024447965,19.072502308596096,18.97118511210095,18.87014743496252,18.7693892771808,18.668910638755797,18.56871151968751,18.46879191997594,18.369151839621082,18.269791278622943,18.17071023698152,18.071908714696807,17.97338671176881,17.875144228197534,17.777181263982968,17.67949781912512,17.582093893623988,17.484969487479574,17.38812460069187,17.29155923326088,17.195273385186617,17.09926705646906,17.00354024710822,16.908092957104095,16.812925186456688,16.71803693516599,16.623428203232017,16.529098990654752,16.435049297434205,16.341279123570374,16.247788469063256,16.154577333912858,16.061645718119166,15.968993621682202,15.876621044601949,15.784527986878407],[20.652490755789913,20.546933783455813,20.441656330478423,20.336658396857754,20.231939982593794,20.127501087686554,20.023341712136027,19.919461855942213,19.815861519105123,19.712540701624743,19.60949940350108,19.50673762473413,19.4042553653239,19.302052625270385,19.20012940457358,19.098485703233493,18.99712152125012,18.896036858623464,18.795231715353523,18.6947060914403,18.594459986883788,18.494493401684,18.39480633584092,18.295398789354554,18.19627076222491,18.097422254451978,17.99885326603576,17.90056379697626,17.802553847273472,17.704823416927404,17.60737250593805,17.51020111430541,17.413309242029488,17.316696889110275,17.220364055547787,17.124310741342008,17.028536946492945,16.933042671000596,16.837827914864967,16.742892678086058,16.64823696066385,16.553860762598365,16.4597640838896,16.365946924537546,16.272409284542206,16.179151163903583,16.086172562621673,15.993473480696485,15.901053918128007,15.808913874916247],[20.679318457020962,20.57371422532458,20.46838951298491,20.36334432000196,20.25857864637572,20.154092492106198,20.04988585719339,19.945958741637302,19.842311145437932,19.738943068595272,19.63585451110933,19.533045472980096,19.430515954207586,19.328265954791792,19.22629547473271,19.12460451403034,19.02319307268469,18.922061150695754,18.821208748063533,18.72063586478803,18.620342500869242,18.52032865630716,18.420594331101807,18.321139525253166,18.22196423876124,18.12306847162603,18.02445222384753,17.926115495425748,17.828058286360687,17.73028059665233,17.632782426300697,17.535563775305782,17.438624643667577,17.341965031386085,17.245584938461317,17.149484364893258,17.053663310681912,16.958121775827287,16.86285976032938,16.767877264188183,16.6731742874037,16.578750829975938,16.484606891904885,16.390742473190553,16.297157573832934,16.20385219383203,16.110826333187845,16.018079991900375,15.925613169969614,15.833425867395574],[20.70627527598924,20.60062353122522,20.495251305817927,20.390158599767343,20.285345413073475,20.180811745736325,20.07655759775589,19.97258296913217,19.86888785986516,19.76547226995487,19.662336199401295,19.55947964820444,19.456902616364296,19.354605103880868,19.252587110754153,19.150848636984154,19.049389682570876,18.948210247514307,18.847310331814455,18.746689935471323,18.646349058484898,18.5462877008552,18.44650586258221,18.347003543665934,18.247780744106375,18.148837463903533,18.050173703057407,17.951789461567994,17.853684739435298,17.755859536659315,17.658313853240053,17.561047689177496,17.464061044471666,17.36735391912255,17.270926313130143,17.174778226494453,17.078909659215483,16.983320611293227,16.88801108272768,16.792981073518852,16.698230583666742,16.60375961317135,16.50956816203267,16.415656230250708,16.32202381782546,16.228670924756923,16.1355975510451,16.04280369669,15.950289361691611,15.85805454604994],[20.733350758910163,20.627651267598,20.522231295642545,20.417090843043805,20.312229909801786,20.207648495916477,20.103346601387887,19.99932422621601,19.89558137040085,19.792118033942405,19.68893421684067,19.586029919095658,19.483405140707365,19.381059881675778,19.278994142000908,19.17720792168276,19.075701220721324,18.9744740391166,18.873526376868593,18.772858233977306,18.67246961044273,18.572360506264868,18.472530921443724,18.372980855979293,18.273710309871582,18.174719283120584,18.076007775726307,17.977575787688735,17.879423319007888,17.781550369683757,17.683956939716328,17.586643029105623,17.489608637851635,17.39285376595436,17.296378413413805,17.20018258022996,17.104266266402835,17.00862947193242,16.91327219681872,16.818194441061742,16.723396204661476,16.628877487617924,16.534638289931088,16.44067861160097,16.346998452627563,16.253597813010874,16.1604766927509,16.06763509184764,15.9750730103011,15.882790448111276],[20.76053440982054,20.65478695875228,20.549319027040728,20.444130614685896,20.339221721687778,20.234592348046384,20.130242493761695,20.026172158833724,19.922381343262472,19.81887004704793,19.715638270190112,19.612686012689,19.510013274544608,19.40762005575693,19.305506356325967,19.203672176251725,19.102117515534196,19.000842374173377,18.89984675216928,18.799130649521896,18.698694066231226,18.59853700229727,18.498659457720034,18.39906143249951,18.299742926635705,18.200703940128616,18.101944472978243,18.00346452518458,17.905264096747633,17.807343187667406,17.70970179794389,17.61233992757709,17.515257576567006,17.41845474491364,17.32193143261699,17.225687639677048,17.129723366093828,17.03403861186732,16.938633376997533,16.843507661484455,16.748661465328095,16.654094788528454,16.559807631085523,16.465799992999308,16.372071874269814,16.27862327489703,16.18545419488096,16.09256463422161,15.999954592918975,15.907624070973052],[20.787815695691304,20.68202009197099,20.576504007607394,20.471267442600514,20.366310396950347,20.261632870656896,20.15723486372016,20.053116376140142,19.949277407916835,19.845717959050248,19.74243802954037,19.639437619387216,19.536716728590772,19.434275357151048,19.332113505068033,19.230231172341735,19.12862835897216,19.027305064959293,18.92626129030314,18.82549703500371,18.725012299060992,18.624807082474987,18.5248813852457,18.425235207373127,18.32586854885727,18.22678140969813,18.1279737898957,18.029445689449993,17.931197108361,17.83322804662871,17.735538504253153,17.6381284812343,17.54099797757217,17.444146993266752,17.347575528318046,17.25128358272606,17.15527115649079,17.059538249612235,16.964084862090395,16.86891099392527,16.77401664511686,16.679401815665162,16.585066505570186,16.491010714831926,16.397234443450376,16.303737691425546,16.210520458757426,16.117582745446022,16.02492455149134,15.93254587689337],[20.815184051576548,20.709340122651252,20.603775713082662,20.4984908228708,20.393485452015646,20.28875960051721,20.184313268375487,20.080146455590487,19.976259162162197,19.872651388090617,19.769323133375757,19.666274398017617,19.563505182016186,19.46101548537147,19.358805308083472,19.25687465015219,19.155223511577624,19.053851892359774,18.952759792498636,18.85194721199422,18.75141415084651,18.65116060905552,18.55118658662125,18.451492083543688,18.35207709982285,18.25294163545872,18.154085690451307,18.05550926480061,17.957212358506627,17.859194971569366,17.761457103988814,17.663998755764982,17.56681992689786,17.469920617387455,17.373300827233763,17.276960556436787,17.180899804996532,17.085118572912993,16.98961686018616,16.89439466681605,16.79945199280266,16.704788838145976,16.610405202846014,16.51630108690276,16.422476490316228,16.328931413086412,16.23566585521331,16.142679816696923,16.049973297537242,15.957546297734286],[20.84262888579475,20.736736479477234,20.63112359251643,20.52579022491235,20.42073637666498,20.315962047774324,20.211467238240388,20.107251948063166,20.003316177242656,19.89965992577887,19.796283193671787,19.69318598092143,19.59036828752778,19.487830113490855,19.385571458810638,19.28359232348714,19.18189270752036,19.080472610910288,18.979332033656938,18.878470975760294,18.777889437220377,18.67758741803717,18.577564918210676,18.4778219377409,18.37835847662784,18.2791745348715,18.18027011247187,18.081645209428956,17.983299825742755,17.885233961413274,17.787447616440506,17.689940790824455,17.59271348456512,17.4957656976625,17.399097430116594,17.302708681927403,17.20659945309493,17.110769743619166,17.015219553500124,16.9199488827378,16.824957731332184,16.730246099283285,16.635813986591106,16.54166139325564,16.44778831927689,16.354194764654856,16.26088072938953,16.167846213480928,16.07509121692904,15.982615739733864],[20.870139585138418,20.764198569621506,20.658537073461307,20.55315509665782,20.44805263921105,20.343229701121,20.23868628238766,20.134422383011035,20.03043800299113,19.926733142327937,19.82330780102146,19.7201619790717,19.617295676478655,19.514708893242325,19.412401629362716,19.310373884839816,19.20862565967363,19.10715695386416,19.00596776741141,18.90505810031537,18.80442795257605,18.70407732419344,18.604006215167555,18.50421462549838,18.40470255518592,18.30547000423017,18.206516972631146,18.107843460388835,18.009449467503234,17.911334993974354,17.813500039802182,17.71594460498673,17.618668689527997,17.521672293425976,17.42495541668067,17.32851805929208,17.232360221260205,17.136481902585047,17.040883103266605,16.945563823304877,16.850524062699865,16.755763821451566,16.661283099559988,16.567081897025123,16.473160213846967,16.37951805002553,16.286155405560816,16.19307228045281,16.10026867470152,16.00774458830695],[20.897705520108204,20.791715783970766,20.686005567190037,20.58057486976603,20.475423691698744,20.37055203298816,20.265959893634303,20.161647273637154,20.057614172996722,19.95386059171301,19.85038652978601,19.747191987215725,19.644276964002156,19.541641460145303,19.439285475645168,19.337209010501745,19.23541206471504,19.133894638285046,19.03265673121177,18.93169834349521,18.831019475135363,18.730620126132234,18.63050029648582,18.53065998619612,18.431099195263137,18.33181792368687,18.232816171467316,18.13409393860448,18.035651225098363,17.93748803094896,17.83960435615626,17.742000200720287,17.644675564641027,17.547630447918486,17.45086485055266,17.354378772543544,17.258172213891147,17.162245174595466,17.066597654656498,16.971229654074243,16.87614117284871,16.78133221097989,16.686802768467782,16.59255284531239,16.498582441513722,16.404891557071764,16.31148019198652,16.21834834625799,16.12549601988618,16.032923212871083],[20.925316050167392,20.81927750237206,20.713518473933444,20.60803896485155,20.50283897512637,20.3979185047579,20.293277553746144,20.18891612209111,20.08483420979279,19.98103181685119,19.877508943266296,19.774265589038123,19.671301754166663,19.56861743865192,19.466212642493897,19.364087365692583,19.26224160824798,19.160675370160103,19.05938865142894,18.958381452054486,18.85765377203675,18.75720561137573,18.657036970071427,18.55714784812384,18.457538245532966,18.35820816229881,18.259157598421364,18.160386553900636,18.06189502873663,17.96368302292933,17.865750536478746,17.76809756938489,17.67072412164774,17.573630193267302,17.47681578424358,17.38028089457658,17.284025524266294,17.18804967331272,17.092353341715864,16.99693652947572,16.901799236592293,16.806941463065584,16.712363208895585,16.618064474082313,16.524045258625748,16.430305562525902,16.336845385782762,16.24366472839635,16.150763590366644,16.058141971693658],[20.95296052901286,20.84687309889543,20.74106518813472,20.635536796730726,20.530287924683446,20.425318571992886,20.320628738659035,20.2162184246819,20.112087630061488,20.008236354797784,19.904664598890797,19.801372362340526,19.698359645146976,19.59562644731013,19.493172768830007,19.3909986097066,19.289103969939905,19.187488849529927,19.086153248476663,18.98509716678012,18.884320604440287,18.783823561457172,18.68360603783077,18.583668033561086,18.484009548648114,18.384630583091862,18.28553113689232,18.186711210049495,18.08817080256339,17.989909914433998,17.891928545661322,17.794226696245357,17.69680436618611,17.599661555483582,17.502798264137763,17.406214492148663,17.30991023951628,17.21388550624061,17.11814029232166,17.02267459775942,16.9274884225539,16.832581766705093,16.737954630213,16.643607013077624,16.549538915298964,16.45575033687702,16.362241277811787,16.269011738103274,16.176061717751477,16.08339121675639],[20.98062830985833,20.87449194710889,20.768635103716168,20.663057779680166,20.557759975000874,20.452741689678298,20.34800292371244,20.243543677103293,20.139363949850864,20.035463741955148,19.931843053416152,19.828501884233866,19.7254402344083,19.622658103939447,19.520155492827314,19.417932401071894,19.315988828673188,19.214324775631198,19.11294024194592,19.011835227617365,18.911009732645518,18.810463757030394,18.71019730077198,18.610210363870284,18.510502946325303,18.41107504813703,18.311926669305485,18.213057809830648,18.114468469712527,18.016158648951127,17.918128347546432,17.820377565498458,17.722906302807203,17.62571455947266,17.52880233549483,17.43216963087372,17.335816445609325,17.239742779701647,17.143948633150675,17.048434005956427,16.95319889811889,16.858243309638073,16.763567240513968,16.66917069074658,16.57505366033591,16.481216149281956,16.387658157584706,16.294379685244184,16.201380732260372,16.108661298633276],[21.008308750725902,20.902123425361708,20.79621761935424,20.69059133270348,20.585244565409447,20.480177317472116,20.375389588891505,20.270881379667607,20.166652689800426,20.062703519289965,19.959033868136217,19.855643736339182,19.752533123898864,19.64970203081526,19.547150457088378,19.444878402718203,19.342885867704748,19.24117285204801,19.13973935574798,19.038585378804672,18.937710921218077,18.8371159829882,18.736800564115033,18.636764664598587,18.53700828443885,18.43753142363584,18.338334082189537,18.23941626009995,18.14077795736708,18.042419173990922,17.944339909971482,17.84654016530876,17.74901994000275,17.651779234053457,17.55481804746088,17.458136380225017,17.36173423234587,17.26561160382344,17.16976849465772,17.07420490484872,16.978920834396437,16.88391628330087,16.789191251562013,16.694745739179872,16.60057974615445,16.50669327248574,16.41308631817375,16.31975888321847,16.226710967619912,16.133942571378064],[21.035991219741693,20.929756922071864,20.823802143758748,20.71812688480235,20.612731145202662,20.50761492495969,20.40277822407344,20.2982210425439,20.193943380371078,20.08994523755497,19.986226614095575,19.8827875099929,19.77962792524694,19.676747859857695,19.57414731382516,19.471826287149344,19.369784779830244,19.26802279186786,19.16654032326219,19.06533737401324,18.964413944121,18.86377003358548,18.76340564240667,18.663320770584576,18.563515418119206,18.463989585010545,18.364743271258597,18.26577647686337,18.167089201824854,18.068681446143056,17.97055320981797,17.8727044928496,17.77513529523795,17.677845616983014,17.580835458084795,17.484104818543287,17.3876536983585,17.291482097530423,17.195590016059057,17.09997745394442,17.00464441118649,16.909590887785278,16.81481688374078,16.72032239905299,16.626107433721923,16.532171987747574,16.43851606112994,16.345139653869015,16.252042765964813,16.159225397417323],[21.06366510043152,20.957381841013486,20.851378100952157,20.745653880247556,20.640209178899664,20.535043996908485,20.430158334274033,20.325552190996284,20.221225567075255,20.117178462510942,20.013410877303347,19.90992281145246,19.806714264958295,19.703785237820842,19.60113573004011,19.498765741616083,19.396675272548784,19.29486432283819,19.193332892484317,19.092080981487157,18.991108589846714,18.890415717562984,18.79000236463597,18.689868531065677,18.59001421685209,18.490439421995227,18.391144146495076,18.29212839035164,18.193392153564915,18.094935436134914,17.996758238061627,17.89886055934505,17.801242399985192,17.70390375998205,17.606844639335627,17.510065038045912,17.41356495611292,17.317344393536636,17.22140335031707,17.12574182645422,17.030359821948082,16.935257336798664,16.840434371005962,16.745890924569977,16.651626997490702,16.557642589768143,16.463937701402305,16.370512332393176,16.277366482740767,16.18450015244507],[21.091319797012392,20.984987606600257,20.878934935544834,20.773161783846128,20.667668151504138,20.56245403851886,20.457519444890305,20.352864370618455,20.248488815703332,20.144392780144916,20.040576263943215,19.93703926709824,19.83378178960997,19.73080383147842,19.62810539270358,19.52568647328546,19.423547073224057,19.321687192519367,19.220106831171393,19.118805989180135,19.01778466654559,18.917042863267763,18.816580579346653,18.716397814782255,18.61649456957457,18.516870843723606,18.417526637229358,18.318461950091823,18.219676782310998,18.121171133886897,18.02294500481951,17.924998395108833,17.827331304754875,17.729943733757633,17.632835682117108,17.5360071498333,17.439458136906197,17.34318864333582,17.247198669122152,17.151488214265207,17.05605727876497,16.960905862621452,16.86603396583465,16.771441588404564,16.67712873033119,16.58309539161453,16.489341572254588,16.39586727225137,16.30267249160485,16.20975723031506],[21.118944739675783,21.01256366916055,20.90646211800203,20.800640086200225,20.695097573755138,20.589834580666764,20.484851106935107,20.380147152560166,20.275722717541942,20.17157780188043,20.067712405575634,19.964126528627556,19.86082017103619,19.757793332801544,19.65504601392361,19.552578214402388,19.45038993423789,19.348481173430102,19.24685193197903,19.145502209884675,19.04443200714703,18.943641323766105,18.843130159741897,18.742898515074405,18.642946389763623,18.54327378380956,18.443880697212215,18.344767129971583,18.245933082087664,18.147378553560465,18.049103544389975,17.951108054576203,17.85339208411915,17.755955633018807,17.658798701275185,17.56192128888828,17.465323395858082,17.369005022184606,17.272966167867843,17.177206832907796,17.081727017304463,16.986526721057846,16.891605944167942,16.796964686634762,16.702602948458292,16.60852072963854,16.5147180301755,16.421194850069174,16.327951189319563,16.234987047926673],[21.14652938985843,21.040099510200154,20.9339491498986,20.82807830895376,20.722486987365635,20.617175185134226,20.512142902259534,20.40739013874155,20.302916894580285,20.198723169775736,20.094808964327903,19.991174278236784,19.88781911150238,19.784743464124695,19.681947336103725,19.579430727439473,19.477193638131926,19.375236068181103,19.273558017586996,19.1721594863496,19.071040474468926,18.970200981944956,18.86964100877771,18.769360554967175,18.66935962051336,18.56963820541626,18.470196309675874,18.371033933292203,18.27215107626525,18.173547738595012,18.075223920281488,17.97717962132468,17.879414841724586,17.781929581481204,17.684723840594547,17.5877976190646,17.491150916891364,17.39478373407485,17.298696070615048,17.202887926511963,17.107359301765594,17.012110196375943,16.917140610343,16.822450543666783,16.72803999634727,16.633908968384482,16.5400574597784,16.44648547052904,16.353193000636395,16.260180050100466],[21.174063245496576,21.06758464764852,20.961385569157187,20.85546601002256,20.749825970244657,20.644465449823464,20.53938444875899,20.434582967051224,20.330061004700184,20.22581856170585,20.121855638068237,20.018172233787336,19.914768348863152,19.811643983295685,19.708799137084934,19.606233810230897,19.503948002733573,19.40194171459297,19.300214945809078,19.1987676963819,19.097599966311446,18.996711755597698,18.896103064240666,18.795773892240355,18.695724239596757,18.595954106309872,18.49646349237971,18.397252397806255,18.298320822589517,18.199668766729502,18.101296230226197,18.0032032130796,17.90538971528973,17.80785573685657,17.71060127778013,17.6136263380604,17.516930917697383,17.420515016691088,17.32437863504151,17.22852177274864,17.132944429812486,17.037646606233054,16.942628302010334,16.84788951714433,16.753430251635038,16.659250505482465,16.56535027868661,16.471729571247465,16.37838838316504,16.285326714439325],[21.201535846259485,21.09500864108427,20.98876095526577,20.882792788803986,20.77710414169892,20.671695013950565,20.56656540555893,20.461715316524007,20.3571447468458,20.252853696524312,20.148842165559532,20.045110153951473,19.941657661700127,19.838484688805497,19.735591235267584,19.632977301086385,19.53064288626191,19.42858799079414,19.326812614683085,19.225316757928745,19.12410042053113,19.023163602490225,18.922506303806035,18.822128524478558,18.7220302645078,18.62221152389376,18.522672302636426,18.423412600735816,18.32443241819192,18.225731755004738,18.127310611174266,18.02916898670052,17.931306881583478,17.833724295823163,17.736421229419555,17.639397682372667,17.542653654682496,17.446189146349038,17.350004157372297,17.254098687752265,17.158472737488957,17.063126306582358,16.968059395032476,16.873272002839315,16.778764130002862,16.684535776523127,16.59058694240011,16.496917627633806,16.40352783222422,16.31041755617134],[21.228936778758133,21.122361096935983,21.01606493447055,20.91004829136184,20.804311167609836,20.69885356321455,20.593675478175978,20.488776912494128,20.38415786616899,20.279818339200567,20.17575833158886,20.07197784333387,19.968476874435595,19.86525542489403,19.762313494709186,19.659651083881055,19.557268192409637,19.45516482029494,19.353340967536955,19.251796634135687,19.150531820091135,19.049546525403297,18.948840750072176,18.848414494097767,18.748267757480075,18.648400540219104,18.54881284231484,18.4495046637673,18.350476004576468,18.251726864742352,18.153257244264957,18.055067143144274,17.957156561380305,17.859525498973053,17.762173955922517,17.665101932228694,17.56830942789159,17.4717964429112,17.375562977287526,17.279609031020563,17.18393460411032,17.08853969655679,16.993424308359977,16.89858843951988,16.8040320900365,16.709755259909834,16.615757949139883,16.522040157726646,16.428601885670126,16.335443132970322],[21.256255681724962,21.1496316736541,21.043287184939953,20.93722221558252,20.831436765581802,20.725930834937802,20.62070442365052,20.51575753171995,20.41109015914609,20.306702305928958,20.20259397206853,20.09876515756482,19.995215862417833,19.891946086627552,19.78895583019399,19.686245093117144,19.583813875397013,19.4816621770336,19.3797899980269,19.27819733837691,19.17688419808365,19.07585057714709,18.975096475567256,18.87462189334413,18.774426830477722,18.67451128696803,18.57487526281506,18.47551875801879,18.37644177257925,18.277644306496416,18.179126359770304,18.080887932400906,17.982929024388223,17.885249635732258,17.787849766433002,17.69072941649046,17.593888585904644,17.497327274675534,17.401045482803145,17.30504321028747,17.209320457128506,17.113877223326266,17.018713508880737,16.92382931379192,16.829224638059824,16.734899481684444,16.64085384466577,16.547087727003817,16.453601128698587,16.360394049750063],[21.283482251160628,21.176810086849823,21.07041744189573,20.964304316298353,20.858470710057695,20.75291662317375,20.647642055646514,20.542647007476003,20.437931478662207,20.333495469205122,20.229338979104753,20.1254620083611,20.021864556974165,19.918546624943943,19.81550821227044,19.712749318953648,19.610269944993576,19.50807009039021,19.406149755143574,19.30450893925364,19.203147642720428,19.10206586554393,19.001263607724148,18.90074086926108,18.80049765015473,18.70053395040509,18.60084977001217,18.501445108975968,18.402319967296478,18.303474344973697,18.204908242007644,18.1066216583983,18.008614594145673,17.91088704924976,17.81343902371056,17.716270517528084,17.619381530702316,17.522772063233266,17.426442115120928,17.33039168636531,17.23462077696641,17.139129386924214,17.043917516238743,16.948985164909985,16.854332332937943,16.759959020322615,16.665865227064003,16.57205095316211,16.478516198616926,16.385260963428465],[21.31060624544367,21.20388611439707,21.097445502707178,20.99128441037401,20.885402837397553,20.77980078377781,20.674478249514785,20.569435234608477,20.46467173905888,20.360187762866,20.25598330602984,20.15205836855039,20.048412950427657,19.94504705166164,19.841960672252338,19.73915381219975,19.636626471503877,19.534378650164722,19.432410348182287,19.33072156555656,19.22931230228755,19.128182558375258,19.02733233381968,18.92676162862082,18.82647044277867,18.726458776293235,18.62672662916452,18.52727400139252,18.428100892977238,18.329207303918665,18.23059323421681,18.132258683871676,18.03420365288325,17.93642814125154,17.838932148976546,17.74171567605827,17.64477872249671,17.548121288291863,17.451743373443726,17.355644977952313,17.259826101817616,17.16428674503963,17.069026907618362,16.974046589553808,16.87934579084597,16.784924511494847,16.69078275150044,16.596920510862745,16.50333778958177,16.410034587657506],[21.33761749039909,21.23084960149336,21.12436123194433,21.018152381752024,20.912223050916435,20.80657323943756,20.701202947315394,20.596112174549955,20.491300921141224,20.38676918708921,20.282516972393914,20.178544277055327,20.074851101073463,19.971437444448313,19.868303307179872,19.76544868926815,19.662873590713147,19.560578011514853,19.45856195167328,19.35682541118842,19.25536839006028,19.154190888288845,19.053292905874134,18.95267444281614,18.852335499114854,18.75227607477029,18.652496169782438,18.5529957841513,18.453774917876885,18.354833570959176,18.256171743398188,18.157789435193912,18.05968664634635,17.961863376855508,17.864319626721382,17.767055395943967,17.67007068452327,17.57336549245929,17.476939819752022,17.380793666401473,17.284927032407637,17.189339917770518,17.09403232249012,16.99900424656643,16.904255689999456,16.809786652789196,16.715597134935653,16.62168713643883,16.528056657298716,16.43470569751532],[21.36450588432194,21.257690465675758,21.151154566386296,21.044898186453544,20.9389213258775,20.83322398465819,20.72780616279558,20.622667860289695,20.51780907714052,20.41322981334806,20.30893006891232,20.20490984383329,20.101169138110983,19.997707951745383,19.894526284736507,19.79162413708434,19.689001508788884,19.586658399850155,19.484594810268135,19.382810740042828,19.281306189174245,19.18008115766237,19.07913564550721,18.97846965270877,18.878083179267044,18.777976225182034,18.678148790453736,18.57860087508216,18.479332479067295,18.380343602409145,18.281634245107714,18.183204407162993,18.085054088574996,17.9871832893437,17.88959200946913,17.792280248951275,17.695248007790134,17.598495285985713,17.502022083538,17.405828400447003,17.309914236712725,17.214279592335163,17.11892446731432,17.023848861650183,16.929052775342765,16.834536208392066,16.740299160798074,16.646341632560805,16.55266362368025,16.45926513415641],[21.391261402951834,21.284398701787897,21.17781551998068,21.071511857530172,20.965487714436385,20.85974309069931,20.754277986318957,20.649092401295313,20.544186335628385,20.439559789318174,20.33521276236468,20.2311452547679,20.127357266527834,20.023848797644483,19.92061984811785,19.817670417947927,19.71500050713473,19.612610115678237,19.510499243578465,19.40866789083541,19.30711605744906,19.20584374341944,19.104850948746527,19.00413767343033,18.903703917470853,18.803549680868088,18.70367496362204,18.604079765732706,18.504764087200087,18.405727928024184,18.306971288205,18.208494167742526,18.11029656663677,18.01237848488773,17.914739922495404,17.817380879459794,17.7203013557809,17.62350135145872,17.526980866493258,17.430739900884507,17.334778454632474,17.23909652773716,17.143694120198553,17.04857123201667,16.9537278631915,16.859164013723046,16.7648796836113,16.67087487285628,16.577149581457967,16.483703809416376],[21.417874104394688,21.31096438689418,21.204334188750387,21.09798350996331,20.991912350532953,20.886120710459316,20.780608589742382,20.675375988382164,20.570422906378667,20.46574934373189,20.361355300441822,20.257240776508468,20.153405771931837,20.049850286711916,19.94657432084871,19.843577874342216,19.740860947192445,19.638423539399387,19.536265650963042,19.43438728188341,19.3327884321605,19.231469101794307,19.130429290784825,19.029668999132056,18.929188226836008,18.828986973896672,18.72906524031405,18.629423026088148,18.530060331218955,18.430977155706483,18.332173499550727,18.233649362751684,18.13540474530936,18.037439647223746,17.939754068494853,17.84234800912267,17.745221469107204,17.648374448448454,17.551806947146417,17.4555189652011,17.359510502612498,17.26378155938061,17.16833213550544,17.07316223098698,16.97827184582524,16.883660980020213,16.7893296335719,16.695277806480306,16.60150549874543,16.508012710367264],[21.44433413398768,21.33737768513737,21.230700755643774,21.1243033455069,21.018185454726737,20.912347083303292,20.80678823123656,20.70150889852654,20.596509085173242,20.49178879117666,20.387348016536787,20.283186761253635,20.179305025327196,20.075702808757477,19.972380111544464,19.869336933688174,19.766573275188595,19.66408913604574,19.561884516259585,19.45995941583016,19.358313834757446,19.256947773041446,19.15586123068216,19.055054207679593,18.95452670403374,18.854278719744602,18.754310254812182,18.654621309236475,18.55521188301748,18.456081976155204,18.357231588649647,18.2586607205008,18.160369371708672,18.062357542273258,17.964625232194557,17.867172441472576,17.769999170107308,17.673105418098753,17.576491185446923,17.4801564721518,17.384101278213397,17.2883256036317,17.192829448406727,17.09761281253847,17.002675696026927,16.908018098872095,16.813640021073983,16.719541462632588,16.625722423547902,16.532182903819937],[21.47063172910382,21.36362885253583,21.25690549532456,21.15046165747,21.04429733897216,20.938412539831038,20.832807260046625,20.727481499618932,20.622435258547952,20.517668536833686,20.41318133447614,20.308973651475306,20.20504548783119,20.10139684354378,19.998027718613102,19.894938113039128,19.792128026821874,19.689597459961337,19.587346412457507,19.4853748843104,19.38368287552001,19.282270386086328,19.181137416009367,19.08028396528912,18.979710033925585,18.87941562191877,18.779400729268673,18.679665355975278,18.580209502038613,18.48103316745866,18.382136352235417,18.283519056368895,18.185181279859087,18.087123022705992,17.989344284909613,17.891845066469955,17.794625367387006,17.697685187660777,17.60102452729126,17.504643386278463,17.408541764622374,17.312719662323005,17.21717707938035,17.121914015794413,17.026930471565194,16.932226446692685,16.837801941176888,16.743656955017812,16.649791488215453,16.556205540769806],[21.496757223892292,21.38970824171663,21.282938778897684,21.17644883543546,21.070238411329942,20.96430750658115,20.858656121189068,20.7532842551537,20.64819190847505,20.543379081153113,20.438845773187897,20.334591984579394,20.2306177153276,20.12692296543253,20.023507734894174,19.920372023712527,19.8175158318876,19.71493915941939,19.612642006307894,19.510624372553114,19.408886258155047,19.307427663113696,19.206248587429062,19.10534903110115,19.00472899412994,18.90438847651545,18.80432747825768,18.704545999356622,18.605044039812284,18.505821599624657,18.406878678793742,18.308215277319547,18.209831395202066,18.111727032441305,18.01390218903726,17.916356864989925,17.819091060299307,17.722104774965405,17.625398008988213,17.52897076236774,17.432823035103986,17.336954827196948,17.24136613864662,17.146056969453014,17.051027319616114,16.956277189135943,16.861806578012473,16.767615486245724,16.673703913835695,16.580071860782372],[21.522701053951007,21.41560630658094,21.308791078567587,21.202255369910944,21.09599918061102,20.990022510667817,20.884325360081327,20.77890772885155,20.673769616978493,20.568911024462142,20.464331951302515,20.360032397499598,20.2560123630534,20.152271847963924,20.048810852231153,19.945629375855102,19.842727418835764,19.740104981173143,19.637762062867235,19.535698663918048,19.43391478432557,19.33241042408981,19.231185583210767,19.130240261688446,19.029574459522827,18.92918817671393,18.82908141326175,18.729254169166282,18.629706444427534,18.530438239045495,18.431449553020173,18.33274038635157,18.234310739039678,18.136160611084506,18.038290002486047,17.940698913244304,17.843387343359275,17.746355292830966,17.649602761659366,17.553129749844487,17.45693625738632,17.361022284284868,17.265387830540135,17.17003289615211,17.074957481120812,16.980161585446222,16.88564520912835,16.79140835216719,16.69745101456275,16.603773196315025],[21.548453760927785,21.441313606898124,21.33445297222518,21.227871856908944,21.12157026094943,21.015548184346628,20.90980562710054,20.804342589211174,20.69915907067852,20.594255071502577,20.489630591683355,20.385285631220846,20.281220190115054,20.177434268365978,20.07392786597362,19.970700982937974,19.867753619259037,19.765085774936825,19.66269744997133,19.560588644362543,19.45875935811047,19.357209591215124,19.25593934367648,19.154948615494558,19.05423740666935,18.95380571720086,18.85365354708908,18.75378089633402,18.654187764935674,18.554874152894048,18.455840060209134,18.357085486880933,18.25861043290945,18.160414898294682,18.06249888303663,17.964862387135295,17.86750541059067,17.770427953402766,17.673630015571575,17.577111597097097,17.48087269797934,17.384913318218295,17.289233457813964,17.193833116766353,17.098712295075458,17.003870992741273,16.909309209763805,16.815026946143057,16.721024201879022,16.627300976971696],[21.574005997046648,21.466820812825077,21.359915147960226,21.253289002452085,21.146942376300657,21.040875269505953,20.93508768206796,20.829579613986684,20.72435106526212,20.61940203589427,20.514732525883144,20.410342535228725,20.306232063931027,20.20240111199004,20.09884967940577,19.99557776617822,19.89258537230738,19.789872497793255,19.68743914263585,19.58528530683515,19.483410990391178,19.38181619330392,19.280500915573374,19.17946515719954,19.078708918182425,18.978232198522026,18.878034998218343,18.77811731727137,18.67847915568112,18.579120513447585,18.48004139057076,18.381241787050662,18.282721702887265,18.18448113808059,18.08652009263063,17.988838566537382,17.89143655980085,17.794314072421038,17.697471104397945,17.600907655731557,17.504623726421894,17.40861931646894,17.312894425872702,17.21744905463318,17.122283202750378,17.027396870224287,16.932790057054913,16.838462763242255,16.744414988786307,16.650646733687076],[21.599348529555822,21.492118709347334,21.385168408495552,21.278497627000487,21.17210636486213,21.065994622080506,20.96016239865558,20.85460969458738,20.7493365098759,20.644342844521123,20.539628698523064,20.435194071881728,20.331038964597102,20.22716337666919,20.123567308098,20.020250758883517,19.917213729025757,19.814456218524708,19.711978227380374,19.60977975559276,19.507860803161858,19.40622137008767,19.3048614563702,19.203781062009444,19.102980187005404,19.00245883135808,18.902216995067473,18.80225467813358,18.702571880556402,18.603168602335938,18.50404484347219,18.40520060396516,18.30663588381484,18.20835068302124,18.110345001584356,18.01261883950419,17.915172196780734,17.818005073413993,17.72111746940397,17.624509384750663,17.52818081945407,17.432131773514193,17.336362246931035,17.240872239704583,17.145661751834858,17.05073078332184,16.95607933416554,16.86170740436595,16.767614993923083,16.67380210283693],[21.624472245094168,21.517198200638656,21.41020367553986,21.303488669797783,21.197053183412415,21.090897216383766,20.98502076871183,20.879423840396612,20.77410643143811,20.669068541836324,20.564310171591252,20.459831320702897,20.35563198917125,20.251712176996328,20.14807188417812,20.044711110716623,19.941629856611844,19.83882812186378,19.73630590647243,19.634063210437798,19.532100033759882,19.430416376438682,19.329012238474192,19.227887619866422,19.12704252061537,19.02647694072103,18.926190880183402,18.826184339002495,18.726457317178298,18.627009814710824,18.52784183160006,18.42895336784601,18.33034442344868,18.23201499840806,18.13396509272416,18.036194706396973,17.93870383942651,17.84149249181275,17.74456066355571,17.647908354655385,17.551535565111777,17.455442294924886,17.359628544094708,17.26409431262125,17.1688396005045,17.07386440774447,16.979168734341155,16.884752580294553,16.790615945604667,16.696758830271502],[21.649368153972688,21.542050314335928,21.43501199405588,21.328253193132554,21.221773911565936,21.11557414935604,21.009653906502855,20.904013183006384,20.79865197886663,20.693570294083596,20.58876812865727,20.484245482587667,20.380002355874772,20.276038748518598,20.17235466051914,20.068950091876392,19.965825042590364,19.862979512661052,19.760413502088454,19.65812701087257,19.556120039013404,19.45439258651095,19.352944653365213,19.25177623957619,19.150887345143886,19.050277970068297,18.94994811434942,18.849897777987263,18.750126960981817,18.650635663333087,18.551423885041075,18.45249162610578,18.353838886527196,18.25546566630533,18.15737196544018,18.05955778393174,17.962023121780025,17.864767978985014,17.767792355546728,17.67109625146516,17.574679666740295,17.478542601372148,17.382685055360724,17.287107028706014,17.191808521408017,17.096789533466737,17.00205006488217,16.90759011565432,16.813409685783185,16.719508775268764],[21.67402739436814,21.566666205726083,21.459584536440733,21.352782386512104,21.24625975594019,21.140016644724994,21.03405305286651,20.928368980364745,20.822964427219695,20.717839393431362,20.61299387899974,20.50842788392483,20.404141408206645,20.30013445184517,20.196407014840414,20.092959097192374,19.989790698901043,19.88690181996643,19.78429246038853,19.681962620167347,19.579912299302887,19.478141497795136,19.3766502156441,19.27543845284978,19.174506209412183,19.073853485331288,18.973480280607117,18.873386595239655,18.773572429228913,18.67403778257489,18.574782655277577,18.47580704733698,18.377110958753104,18.278694389525935,18.180557339655486,18.082699809141754,17.985121797984732,17.88782330618443,17.790804333740844,17.69406488065397,17.597604946923813,17.501424532550374,17.405523637533644,17.309902261873635,17.214560405570342,17.119498068623763,17.024715251033896,16.930211952800747,16.835988173924314,16.742043914404597],[21.698441236425474,21.591037161842088,21.48391260661541,21.377067570745453,21.27050205423221,21.164216057075684,21.05820957927587,20.952482620832775,20.847035181746403,20.741867262016733,20.636978861643783,20.53236998062755,20.42804061896803,20.323990776665234,20.22022045371914,20.11672965012977,20.013518365897113,19.910586601021176,19.80793435550195,19.705561629339435,19.60346842253364,19.501654735084564,19.400120566992204,19.29886591825655,19.19789078887762,19.0971951788554,18.996779088189896,18.896642516881116,18.796785464929048,18.69720793233369,18.597909919095045,18.49889142521312,18.400152450687916,18.301692995519417,18.203513059707642,18.105612643252577,18.00799174615423,17.910650368412597,17.813588510027678,17.71680617099948,17.62030335132799,17.524080051013225,17.428136270055166,17.33247200845383,17.23708726620921,17.141982043321303,17.047156339790103,16.952610155615627,16.858343490797868,16.764356345336818],[21.722601086266387,21.615154605465094,21.507987644020517,21.401100201932653,21.294492279201506,21.188163875827073,21.08211499180936,20.97634562714836,20.870855781844075,20.765645455896507,20.660714649305653,20.556063362071516,20.451691594194088,20.347599345673384,20.243786616509386,20.14025340670211,20.03699971625155,19.934025545157706,19.83133089342057,19.72891576104016,19.62678014801646,19.524924054349473,19.423347480039205,19.322050425085653,19.221032889488814,19.120294873248696,19.019836376365287,18.919657398838595,18.819757940668616,18.720138001855357,18.620797582398815,18.521736682298986,18.422955301555866,18.324453440169474,18.226231098139788,18.128288275466822,18.03062497215057,17.93324118819103,17.836136923588207,17.739312178342104,17.64276695245271,17.546501245920037,17.450515058744077,17.354808390924834,17.2593812424623,17.164233613356487,17.069365503607397,16.97477691321501,16.880467842179346,16.786438290500396],[21.74649848990094,21.639010099029765,21.53180122751531,21.424871875357574,21.31822204255655,21.211851729112233,21.105760935024644,20.99994966029377,20.894417904919603,20.789165668902157,20.68419295224143,20.57949975493741,20.475086076990106,20.37095191839952,20.26709727916565,20.1635221592885,20.060226558768065,19.957210477604338,19.85447391579733,19.75201687334704,19.649839350253462,19.5479413465166,19.44632286213645,19.34498389711302,19.243924451446308,19.143144525136304,19.042644118183023,18.942423230586453,18.8424818623466,18.742820013463465,18.64343768393704,18.544334873767337,18.445511582954342,18.346967811498065,18.248703559398503,18.15071882665566,18.05301361326953,17.955587919240116,17.858441744567415,17.761575089251433,17.664987953292165,17.568680336689614,17.47265223944378,17.376903661554653,17.28143460302225,17.186245063846556,17.091335044027584,16.99670454356532,16.90235356245978,16.80828210071095],[21.77012513703959,21.662595348430138,21.555345079177407,21.448374329281396,21.34168309874209,21.235271387559507,21.12913919573364,21.02328652326449,20.91771337015205,20.812419736396322,20.707405621997317,20.602671026955026,20.498215951269447,20.39404039494059,20.290144357968444,20.18652784035301,20.083190842094293,19.980133363192294,19.877355403647012,19.774856963458447,19.67263804262659,19.570698641151456,19.46903875903303,19.367658396271327,19.266557552866335,19.16573622881806,19.065194424126496,18.964932138791653,18.864949372813523,18.765246126192107,18.665822398927407,18.566678191019427,18.46781350246816,18.369228333273607,18.27092268343577,18.17289655295465,18.075149941830244,17.977682850062553,17.880495277651576,17.783587224597323,17.686958690899775,17.590609676558945,17.494540181574834,17.398750205947437,17.303239749676756,17.208008812762788,17.113057395205534,17.018385497005003,16.923993118161178,16.829880258674073],[21.79347286480305,21.685902206723405,21.57861106800047,21.47159944863426,21.364867348624756,21.258414767971978,21.15224170667591,21.046348164736557,20.940734142153918,20.835399638928,20.73034465505879,20.6255691905463,20.521073245390525,20.416856819591462,20.31291991314912,20.20926252606349,20.10588465833458,20.00278630996238,19.899967480946902,19.797428171288132,19.695168380986082,19.593188110040742,19.491487358452122,19.39006612622022,19.288924413345025,19.188062219826552,19.087479545664795,18.98717639085975,18.887152755411424,18.787408639319814,18.687944042584917,18.588758965206733,18.489853407185265,18.391227368520514,18.29288084921248,18.19481384926116,18.09702636866656,17.999518407428663,17.902289965547492,17.805341043023034,17.708671639855293,17.61228175604427,17.516171391589953,17.420340546492355,17.32478922075148,17.22951741436731,17.134525127339856,17.039812359669128,16.945379111355113,16.851225382397807],[21.8165336613273,21.70892267772895,21.60159121348733,21.494539268602413,21.38776684307422,21.28127393690274,21.175060550087974,21.06912668262992,20.963472334528586,20.85809750578397,20.753002196396068,20.64818640636488,20.543650135690406,20.43939338437265,20.335416152411607,20.23171843980728,20.12830024655967,20.02516157266877,19.9223024181346,19.819722782957133,19.717422667136383,19.61540207067235,19.513660993565033,19.41219943581443,19.31101739742054,19.210114878383376,19.109491878702915,19.009148398379175,18.909084437412147,18.80929999580184,18.70979507354825,18.610569670651365,18.5116237871112,18.412957422927754,18.314570578101023,18.216463252631005,18.118635446517704,18.02108715976112,17.923818392361245,17.82682914431809,17.730119415631652,17.633689206301927,17.537538516328915,17.441667345712627,17.34607569445305,17.250763562550183,17.155730950004035,17.060977856814606,16.96650428298189,16.872310228505892],[21.83929966926148,21.73164891952047,21.62427768913618,21.517185978108607,21.410373786437745,21.303841114123607,21.197587961166178,21.091614327565463,20.985920213321467,20.88050561843419,20.77537054290362,20.670514986729764,20.565938949912628,20.46164243245221,20.357625434348503,20.25388795560152,20.15042999621124,20.047251556177685,19.94435263550084,19.84173323418071,19.739393352217302,19.637332989610606,19.535552146360622,19.434050822467363,19.33282901793081,19.231886732750972,19.13122396692786,19.03084072046145,18.93073699335176,18.830912785598795,18.731368097202534,18.63210292816299,18.533117278480162,18.43441114815405,18.33598453718466,18.23783744557198,18.139969873316012,18.042381820416765,17.945073286874226,17.84804427268841,17.75129477785931,17.65482480238692,17.558634346271248,17.462723409512293,17.36709199211005,17.27174009406453,17.176667715375714,17.08187485604362,16.987361516068244,16.89312769544958],[21.86176318915633,21.754073247808616,21.646662825817618,21.539531923183333,21.432680539905764,21.326108675984912,21.219816331420773,21.113803506213355,21.00807020036265,20.902616413868653,20.797442146731385,20.692547398950822,20.587932170526976,20.483596461459843,20.37954027174943,20.27576360139573,20.17226645039875,20.069048818758482,19.966110706474932,19.863452113548096,19.761073039977976,19.65897348576457,19.55715345090788,19.455612935407906,19.354351939264646,19.253370462478106,19.152668505048275,19.05224606697516,18.952103148258765,18.852239748899084,18.752655868896113,18.653351508249866,18.554326666960325,18.455581345027507,18.357115542451403,18.258929259232016,18.161022495369338,18.063395250863383,17.966047525714142,17.86897931992161,17.7721906334858,17.675681466406708,17.579451818684323,17.483501690318658,17.387831081309706,17.292439991657474,17.197328421361952,17.102496370423147,17.00794383884106,16.91367082661569],[21.883916682740978,21.77618813921221,21.66873911504016,21.561569610224826,21.454679624766214,21.34806915866431,21.24173821191912,21.13568678453065,21.029914876498896,20.924422487823854,20.819209618505532,20.71427626854392,20.609622437939027,20.505248126690844,20.401153334799385,20.297338062264636,20.193802309086603,20.09054607526529,19.987569360800688,19.8848721656928,19.78245448994163,19.68031633354718,19.57845769650944,19.476878578828416,19.375578980504105,19.274558901536512,19.173818341925635,19.073357301671475,18.973175780774024,18.873273779233294,18.77365129704928,18.674308334221976,18.575244890751396,18.476460966637525,18.37795656188037,18.279731676479933,18.18178631043621,18.0841204637492,17.98673413641891,17.889627328445332,17.792800039828467,17.696252270568323,17.599984020664895,17.503995290118183,17.408286078928178,17.312856387094897,17.217706214618328,17.122835561498473,17.028244427735334,16.933932813328912]],\"type\":\"surface\"}],                        {\"autosize\":true,\"height\":700,\"scene\":{\"aspectmode\":\"manual\",\"aspectratio\":{\"x\":1,\"y\":1,\"z\":0.7},\"camera\":{\"eye\":{\"x\":-1.7428,\"y\":1.0707,\"z\":0.71},\"up\":{\"x\":0,\"y\":0,\"z\":1}},\"xaxis\":{\"gridcolor\":\"rgb(255, 255, 255)\",\"showbackground\":true,\"zerolinecolor\":\"rgb(255, 255, 255)\"},\"yaxis\":{\"gridcolor\":\"rgb(255, 255, 255)\",\"showbackground\":true,\"zerolinecolor\":\"rgb(255, 255, 255)\"},\"zaxis\":{\"gridcolor\":\"rgb(255, 255, 255)\",\"showbackground\":true,\"zerolinecolor\":\"rgb(255, 255, 255)\"}},\"template\":{\"data\":{\"barpolar\":[{\"marker\":{\"line\":{\"color\":\"#E5ECF6\",\"width\":0.5},\"pattern\":{\"fillmode\":\"overlay\",\"size\":10,\"solidity\":0.2}},\"type\":\"barpolar\"}],\"bar\":[{\"error_x\":{\"color\":\"#2a3f5f\"},\"error_y\":{\"color\":\"#2a3f5f\"},\"marker\":{\"line\":{\"color\":\"#E5ECF6\",\"width\":0.5},\"pattern\":{\"fillmode\":\"overlay\",\"size\":10,\"solidity\":0.2}},\"type\":\"bar\"}],\"carpet\":[{\"aaxis\":{\"endlinecolor\":\"#2a3f5f\",\"gridcolor\":\"white\",\"linecolor\":\"white\",\"minorgridcolor\":\"white\",\"startlinecolor\":\"#2a3f5f\"},\"baxis\":{\"endlinecolor\":\"#2a3f5f\",\"gridcolor\":\"white\",\"linecolor\":\"white\",\"minorgridcolor\":\"white\",\"startlinecolor\":\"#2a3f5f\"},\"type\":\"carpet\"}],\"choropleth\":[{\"colorbar\":{\"outlinewidth\":0,\"ticks\":\"\"},\"type\":\"choropleth\"}],\"contourcarpet\":[{\"colorbar\":{\"outlinewidth\":0,\"ticks\":\"\"},\"type\":\"contourcarpet\"}],\"contour\":[{\"colorbar\":{\"outlinewidth\":0,\"ticks\":\"\"},\"colorscale\":[[0.0,\"#0d0887\"],[0.1111111111111111,\"#46039f\"],[0.2222222222222222,\"#7201a8\"],[0.3333333333333333,\"#9c179e\"],[0.4444444444444444,\"#bd3786\"],[0.5555555555555556,\"#d8576b\"],[0.6666666666666666,\"#ed7953\"],[0.7777777777777778,\"#fb9f3a\"],[0.8888888888888888,\"#fdca26\"],[1.0,\"#f0f921\"]],\"type\":\"contour\"}],\"heatmapgl\":[{\"colorbar\":{\"outlinewidth\":0,\"ticks\":\"\"},\"colorscale\":[[0.0,\"#0d0887\"],[0.1111111111111111,\"#46039f\"],[0.2222222222222222,\"#7201a8\"],[0.3333333333333333,\"#9c179e\"],[0.4444444444444444,\"#bd3786\"],[0.5555555555555556,\"#d8576b\"],[0.6666666666666666,\"#ed7953\"],[0.7777777777777778,\"#fb9f3a\"],[0.8888888888888888,\"#fdca26\"],[1.0,\"#f0f921\"]],\"type\":\"heatmapgl\"}],\"heatmap\":[{\"colorbar\":{\"outlinewidth\":0,\"ticks\":\"\"},\"colorscale\":[[0.0,\"#0d0887\"],[0.1111111111111111,\"#46039f\"],[0.2222222222222222,\"#7201a8\"],[0.3333333333333333,\"#9c179e\"],[0.4444444444444444,\"#bd3786\"],[0.5555555555555556,\"#d8576b\"],[0.6666666666666666,\"#ed7953\"],[0.7777777777777778,\"#fb9f3a\"],[0.8888888888888888,\"#fdca26\"],[1.0,\"#f0f921\"]],\"type\":\"heatmap\"}],\"histogram2dcontour\":[{\"colorbar\":{\"outlinewidth\":0,\"ticks\":\"\"},\"colorscale\":[[0.0,\"#0d0887\"],[0.1111111111111111,\"#46039f\"],[0.2222222222222222,\"#7201a8\"],[0.3333333333333333,\"#9c179e\"],[0.4444444444444444,\"#bd3786\"],[0.5555555555555556,\"#d8576b\"],[0.6666666666666666,\"#ed7953\"],[0.7777777777777778,\"#fb9f3a\"],[0.8888888888888888,\"#fdca26\"],[1.0,\"#f0f921\"]],\"type\":\"histogram2dcontour\"}],\"histogram2d\":[{\"colorbar\":{\"outlinewidth\":0,\"ticks\":\"\"},\"colorscale\":[[0.0,\"#0d0887\"],[0.1111111111111111,\"#46039f\"],[0.2222222222222222,\"#7201a8\"],[0.3333333333333333,\"#9c179e\"],[0.4444444444444444,\"#bd3786\"],[0.5555555555555556,\"#d8576b\"],[0.6666666666666666,\"#ed7953\"],[0.7777777777777778,\"#fb9f3a\"],[0.8888888888888888,\"#fdca26\"],[1.0,\"#f0f921\"]],\"type\":\"histogram2d\"}],\"histogram\":[{\"marker\":{\"pattern\":{\"fillmode\":\"overlay\",\"size\":10,\"solidity\":0.2}},\"type\":\"histogram\"}],\"mesh3d\":[{\"colorbar\":{\"outlinewidth\":0,\"ticks\":\"\"},\"type\":\"mesh3d\"}],\"parcoords\":[{\"line\":{\"colorbar\":{\"outlinewidth\":0,\"ticks\":\"\"}},\"type\":\"parcoords\"}],\"pie\":[{\"automargin\":true,\"type\":\"pie\"}],\"scatter3d\":[{\"line\":{\"colorbar\":{\"outlinewidth\":0,\"ticks\":\"\"}},\"marker\":{\"colorbar\":{\"outlinewidth\":0,\"ticks\":\"\"}},\"type\":\"scatter3d\"}],\"scattercarpet\":[{\"marker\":{\"colorbar\":{\"outlinewidth\":0,\"ticks\":\"\"}},\"type\":\"scattercarpet\"}],\"scattergeo\":[{\"marker\":{\"colorbar\":{\"outlinewidth\":0,\"ticks\":\"\"}},\"type\":\"scattergeo\"}],\"scattergl\":[{\"marker\":{\"colorbar\":{\"outlinewidth\":0,\"ticks\":\"\"}},\"type\":\"scattergl\"}],\"scattermapbox\":[{\"marker\":{\"colorbar\":{\"outlinewidth\":0,\"ticks\":\"\"}},\"type\":\"scattermapbox\"}],\"scatterpolargl\":[{\"marker\":{\"colorbar\":{\"outlinewidth\":0,\"ticks\":\"\"}},\"type\":\"scatterpolargl\"}],\"scatterpolar\":[{\"marker\":{\"colorbar\":{\"outlinewidth\":0,\"ticks\":\"\"}},\"type\":\"scatterpolar\"}],\"scatter\":[{\"fillpattern\":{\"fillmode\":\"overlay\",\"size\":10,\"solidity\":0.2},\"type\":\"scatter\"}],\"scatterternary\":[{\"marker\":{\"colorbar\":{\"outlinewidth\":0,\"ticks\":\"\"}},\"type\":\"scatterternary\"}],\"surface\":[{\"colorbar\":{\"outlinewidth\":0,\"ticks\":\"\"},\"colorscale\":[[0.0,\"#0d0887\"],[0.1111111111111111,\"#46039f\"],[0.2222222222222222,\"#7201a8\"],[0.3333333333333333,\"#9c179e\"],[0.4444444444444444,\"#bd3786\"],[0.5555555555555556,\"#d8576b\"],[0.6666666666666666,\"#ed7953\"],[0.7777777777777778,\"#fb9f3a\"],[0.8888888888888888,\"#fdca26\"],[1.0,\"#f0f921\"]],\"type\":\"surface\"}],\"table\":[{\"cells\":{\"fill\":{\"color\":\"#EBF0F8\"},\"line\":{\"color\":\"white\"}},\"header\":{\"fill\":{\"color\":\"#C8D4E3\"},\"line\":{\"color\":\"white\"}},\"type\":\"table\"}]},\"layout\":{\"annotationdefaults\":{\"arrowcolor\":\"#2a3f5f\",\"arrowhead\":0,\"arrowwidth\":1},\"autotypenumbers\":\"strict\",\"coloraxis\":{\"colorbar\":{\"outlinewidth\":0,\"ticks\":\"\"}},\"colorscale\":{\"diverging\":[[0,\"#8e0152\"],[0.1,\"#c51b7d\"],[0.2,\"#de77ae\"],[0.3,\"#f1b6da\"],[0.4,\"#fde0ef\"],[0.5,\"#f7f7f7\"],[0.6,\"#e6f5d0\"],[0.7,\"#b8e186\"],[0.8,\"#7fbc41\"],[0.9,\"#4d9221\"],[1,\"#276419\"]],\"sequential\":[[0.0,\"#0d0887\"],[0.1111111111111111,\"#46039f\"],[0.2222222222222222,\"#7201a8\"],[0.3333333333333333,\"#9c179e\"],[0.4444444444444444,\"#bd3786\"],[0.5555555555555556,\"#d8576b\"],[0.6666666666666666,\"#ed7953\"],[0.7777777777777778,\"#fb9f3a\"],[0.8888888888888888,\"#fdca26\"],[1.0,\"#f0f921\"]],\"sequentialminus\":[[0.0,\"#0d0887\"],[0.1111111111111111,\"#46039f\"],[0.2222222222222222,\"#7201a8\"],[0.3333333333333333,\"#9c179e\"],[0.4444444444444444,\"#bd3786\"],[0.5555555555555556,\"#d8576b\"],[0.6666666666666666,\"#ed7953\"],[0.7777777777777778,\"#fb9f3a\"],[0.8888888888888888,\"#fdca26\"],[1.0,\"#f0f921\"]]},\"colorway\":[\"#636efa\",\"#EF553B\",\"#00cc96\",\"#ab63fa\",\"#FFA15A\",\"#19d3f3\",\"#FF6692\",\"#B6E880\",\"#FF97FF\",\"#FECB52\"],\"font\":{\"color\":\"#2a3f5f\"},\"geo\":{\"bgcolor\":\"white\",\"lakecolor\":\"white\",\"landcolor\":\"#E5ECF6\",\"showlakes\":true,\"showland\":true,\"subunitcolor\":\"white\"},\"hoverlabel\":{\"align\":\"left\"},\"hovermode\":\"closest\",\"mapbox\":{\"style\":\"light\"},\"paper_bgcolor\":\"white\",\"plot_bgcolor\":\"#E5ECF6\",\"polar\":{\"angularaxis\":{\"gridcolor\":\"white\",\"linecolor\":\"white\",\"ticks\":\"\"},\"bgcolor\":\"#E5ECF6\",\"radialaxis\":{\"gridcolor\":\"white\",\"linecolor\":\"white\",\"ticks\":\"\"}},\"scene\":{\"xaxis\":{\"backgroundcolor\":\"#E5ECF6\",\"gridcolor\":\"white\",\"gridwidth\":2,\"linecolor\":\"white\",\"showbackground\":true,\"ticks\":\"\",\"zerolinecolor\":\"white\"},\"yaxis\":{\"backgroundcolor\":\"#E5ECF6\",\"gridcolor\":\"white\",\"gridwidth\":2,\"linecolor\":\"white\",\"showbackground\":true,\"ticks\":\"\",\"zerolinecolor\":\"white\"},\"zaxis\":{\"backgroundcolor\":\"#E5ECF6\",\"gridcolor\":\"white\",\"gridwidth\":2,\"linecolor\":\"white\",\"showbackground\":true,\"ticks\":\"\",\"zerolinecolor\":\"white\"}},\"shapedefaults\":{\"line\":{\"color\":\"#2a3f5f\"}},\"ternary\":{\"aaxis\":{\"gridcolor\":\"white\",\"linecolor\":\"white\",\"ticks\":\"\"},\"baxis\":{\"gridcolor\":\"white\",\"linecolor\":\"white\",\"ticks\":\"\"},\"bgcolor\":\"#E5ECF6\",\"caxis\":{\"gridcolor\":\"white\",\"linecolor\":\"white\",\"ticks\":\"\"}},\"title\":{\"x\":0.05},\"xaxis\":{\"automargin\":true,\"gridcolor\":\"white\",\"linecolor\":\"white\",\"ticks\":\"\",\"title\":{\"standoff\":15},\"zerolinecolor\":\"white\",\"zerolinewidth\":2},\"yaxis\":{\"automargin\":true,\"gridcolor\":\"white\",\"linecolor\":\"white\",\"ticks\":\"\",\"title\":{\"standoff\":15},\"zerolinecolor\":\"white\",\"zerolinewidth\":2}}},\"title\":{\"text\":\"Gradient Descent\"},\"width\":800},                        {\"responsive\": true}                    ).then(function(){\n",
       "                            \n",
       "var gd = document.getElementById('82527f3e-701f-4593-b4ab-a866026b743e');\n",
       "var x = new MutationObserver(function (mutations, observer) {{\n",
       "        var display = window.getComputedStyle(gd).display;\n",
       "        if (!display || display === 'none') {{\n",
       "            console.log([gd, 'removed!']);\n",
       "            Plotly.purge(gd);\n",
       "            observer.disconnect();\n",
       "        }}\n",
       "}});\n",
       "\n",
       "// Listen for the removal of the full notebook cells\n",
       "var notebookContainer = gd.closest('#notebook-container');\n",
       "if (notebookContainer) {{\n",
       "    x.observe(notebookContainer, {childList: true});\n",
       "}}\n",
       "\n",
       "// Listen for the clearing of the current output cell\n",
       "var outputEl = gd.closest('.output');\n",
       "if (outputEl) {{\n",
       "    x.observe(outputEl, {childList: true});\n",
       "}}\n",
       "\n",
       "                        })                };                });            </script>        </div>"
      ]
     },
     "metadata": {},
     "output_type": "display_data"
    }
   ],
   "source": [
    "# Run this cell to see a 3D plot (gradient descent with static alpha).\n",
    "from lab7_utils import plot_3d\n",
    "plot_3d(thetas[:, 0], thetas[:, 1], loss, mean_squared_error, sin_model, X, Y)"
   ]
  },
  {
   "cell_type": "code",
   "execution_count": 34,
   "metadata": {},
   "outputs": [],
   "source": [
    "def contour_plot(title, theta_history, loss_function, model, X, Y):\n",
    "    \"\"\"\n",
    "    The function takes the following as argument:\n",
    "        theta_history: An (N, 2) array of theta history.\n",
    "        loss: A list or array of loss values.\n",
    "        loss_function: For example, l2_loss.\n",
    "        model: For example, sin_model.\n",
    "        X: The original X input.\n",
    "        Y: The original Y output.\n",
    "    \"\"\"\n",
    "    theta_1_series = theta_history[:,0] # A list or array of theta_1 value\n",
    "    theta_2_series = theta_history[:,1] # A list or array of theta_2 value\n",
    "\n",
    "    ## In the following block of code, we generate the z-value\n",
    "    ## across a 2D grid\n",
    "    theta1_s = np.linspace(np.min(theta_1_series) - 0.1, np.max(theta_1_series) + 0.1)\n",
    "    theta2_s = np.linspace(np.min(theta_2_series) - 0.1, np.max(theta_2_series) + 0.1)\n",
    "\n",
    "    x_s, y_s = np.meshgrid(theta1_s, theta2_s)\n",
    "    data = np.stack([x_s.flatten(), y_s.flatten()]).T\n",
    "    ls = []\n",
    "    for theta1, theta2 in data:\n",
    "        l = loss_function(model(X, np.array([theta1, theta2])), Y)\n",
    "        ls.append(l)\n",
    "    z = np.array(ls).reshape(50, 50)\n",
    "\n",
    "    fig1, ax = plt.subplots(figsize=(30, 10))\n",
    "    cs = ax.contourf(x_s, y_s, z, levels=20, cmap='viridis')\n",
    "    ax.scatter(theta_1_series, theta_2_series, c='w')\n",
    "    ax.plot(theta_1_series, theta_2_series, c='w')\n",
    "\n",
    "    cbar = fig1.colorbar(cs)\n",
    "\n",
    "    plt.title(title)"
   ]
  },
  {
   "cell_type": "code",
   "execution_count": 35,
   "metadata": {},
   "outputs": [
    {
     "data": {
      "image/png": "[encoded data removed]",
      "text/plain": [
       "<Figure size 3000x1000 with 2 Axes>"
      ]
     },
     "metadata": {},
     "output_type": "display_data"
    }
   ],
   "source": [
    "contour_plot('Gradient Descent with Static Learning Rate', thetas, mean_squared_error, sin_model, df[\"x\"], df[\"y\"])"
   ]
  },
  {
   "cell_type": "markdown",
   "metadata": {},
   "source": [
    "As we can see, gradient descent is able to navigate even this fairly complex loss space and find a nice minimum."
   ]
  },
  {
   "cell_type": "markdown",
   "metadata": {},
   "source": [
    "### Bonus:\n",
    "To save some computational time, you will often see two modifications in the standard library:\n",
    "\n",
    "* Instead of always making some fixed number of iterations, we can terminate early if we determine that `theta` already converges. Convergence is usually defined by $\\theta_{t+1} - \\theta_{t}$ is less than some number, and you can specify this in the `tol` argument in `scipy.optimize.minimize` function. The maximum iteration can be set using the `maxiter` parameter as well.\n",
    "* Instead of calculating the risk by averaging over all data points, we estimate the risk by averaging over some subsample of data points. This is known as stochastic gradient descent and is usually denoted as SGD. See the relevant lecture slides for a more precise definition of SGD in the context of Data 100.\n"
   ]
  },
  {
   "cell_type": "markdown",
   "metadata": {},
   "source": [
    "<br/><br/>\n",
    "<hr style=\"border: 5px solid #003262;\" />\n",
    "<hr style=\"border: 1px solid #fdb515;\" />\n",
    "\n",
    "# Ruby congratulates you for finishing Lab 07!"
   ]
  },
  {
   "cell_type": "markdown",
   "metadata": {},
   "source": [
    "<img src='ruby.jpeg' width=\"400px\" />"
   ]
  },
  {
   "cell_type": "markdown",
   "metadata": {},
   "source": [
    "### Course Content Feedback\n",
    "\n",
    "If you have any feedback about this assignment or about any of our other weekly, weekly assignments, lectures, or discussions, please fill out the [Course Content Feedback Form](https://docs.google.com/forms/d/e/1FAIpQLSe0fBEJwt6aEfZxU3fh3llNk8rSWHj6Umq0km3wPqmFu0MlGA/viewform). Your input is valuable in helping us improve the quality and relevance of our content to better meet your needs and expectations!"
   ]
  },
  {
   "cell_type": "markdown",
   "metadata": {},
   "source": [
    "### Submission Instructions\n",
    "\n",
    "Below, you will see a cell. Running this cell will automatically generate a zip file with your autograded answers. Submit this file to the Lab 07 assignment on Gradescope. If you run into any issues when running this cell, feel free to check this [section](https://ds100.org/debugging-guide/autograder_gradescope/autograder_gradescope.html#why-does-grader.exportrun_teststrue-fail-if-all-previous-tests-passed) in the Data 100 Debugging Guide."
   ]
  },
  {
   "cell_type": "markdown",
   "metadata": {
    "deletable": false,
    "editable": false
   },
   "source": [
    "## Submission\n",
    "\n",
    "Make sure you have run all cells in your notebook in order before running the cell below, so that all images/graphs appear in the output. The cell below will generate a zip file for you to submit. **Please save before exporting!**"
   ]
  },
  {
   "cell_type": "code",
   "execution_count": 36,
   "metadata": {
    "deletable": false,
    "editable": false
   },
   "outputs": [
    {
     "name": "stdout",
     "output_type": "stream",
     "text": [
      "Running your submission against local test cases...\n",
      "\n",
      "\n",
      "Your submission received the following results when run against available test cases:\n",
      "\n",
      "    q1 results: All test cases passed!\n",
      "\n",
      "    q2a results: All test cases passed!\n",
      "\n",
      "    q2b results: All test cases passed!\n",
      "\n",
      "    q2c results: All test cases passed!\n",
      "\n",
      "    q3a results: All test cases passed!\n",
      "\n",
      "    q3c results: All test cases passed!\n",
      "\n",
      "    q4a results:\n",
      "        q4a - 1 result:\n",
      "            ✅ Test case passed\n",
      "\n",
      "        q4a - 2 result:\n",
      "            ✅ Test case passed\n",
      "\n",
      "        q4a - 3 result:\n",
      "            ❌ Test case failed\n",
      "            Trying:\n",
      "                X, Y = (df['x'], df['y'])\n",
      "            Expecting nothing\n",
      "            ok\n",
      "            Trying:\n",
      "                np.isclose(sin_MSE_dt1([0, np.pi], X, Y), -25.37666067092453)\n",
      "            Expecting:\n",
      "                True\n",
      "            **********************************************************************\n",
      "            Line 2, in q4a 2\n",
      "            Failed example:\n",
      "                np.isclose(sin_MSE_dt1([0, np.pi], X, Y), -25.37666067092453)\n",
      "            Expected:\n",
      "                True\n",
      "            Got:\n",
      "                False\n",
      "\n",
      "        q4a - 4 result:\n",
      "            ❌ Test case failed\n",
      "            Trying:\n",
      "                X, Y = (df['x'], df['y'])\n",
      "            Expecting nothing\n",
      "            ok\n",
      "            Trying:\n",
      "                np.isclose(sin_MSE_dt1([0, np.pi / 2], X, Y), -25.815630534245813)\n",
      "            Expecting:\n",
      "                True\n",
      "            **********************************************************************\n",
      "            Line 2, in q4a 3\n",
      "            Failed example:\n",
      "                np.isclose(sin_MSE_dt1([0, np.pi / 2], X, Y), -25.815630534245813)\n",
      "            Expected:\n",
      "                True\n",
      "            Got:\n",
      "                False\n",
      "\n",
      "        q4a - 5 result:\n",
      "            ✅ Test case passed\n",
      "\n",
      "        q4a - 6 result:\n",
      "            ✅ Test case passed\n",
      "\n",
      "    q4b results:\n",
      "        q4b - 1 result:\n",
      "            ❌ Test case failed\n",
      "            Trying:\n",
      "                np.isclose(np.round(theta_hat[0], 8), 1.51625373) and np.isclose(np.round(theta_hat[1], 8), 2.99448441)\n",
      "            Expecting:\n",
      "                True\n",
      "            **********************************************************************\n",
      "            Line 1, in q4b 0\n",
      "            Failed example:\n",
      "                np.isclose(np.round(theta_hat[0], 8), 1.51625373) and np.isclose(np.round(theta_hat[1], 8), 2.99448441)\n",
      "            Expected:\n",
      "                True\n",
      "            Got:\n",
      "                False\n",
      "\n",
      "        q4b - 2 result:\n",
      "            ❌ Test case failed\n",
      "            Trying:\n",
      "                np.isclose(np.round(thetas_used[1][0], 8), 2.60105745) and np.isclose(np.round(thetas_used[1][1], 8), 2.60105745)\n",
      "            Expecting:\n",
      "                True\n",
      "            **********************************************************************\n",
      "            Line 1, in q4b 1\n",
      "            Failed example:\n",
      "                np.isclose(np.round(thetas_used[1][0], 8), 2.60105745) and np.isclose(np.round(thetas_used[1][1], 8), 2.60105745)\n",
      "            Expected:\n",
      "                True\n",
      "            Got:\n",
      "                False\n",
      "\n",
      "        q4b - 3 result:\n",
      "            ❌ Test case failed\n",
      "            Trying:\n",
      "                np.isclose(np.round(thetas_used[3][0], 8), 2.05633644) and np.isclose(np.round(thetas_used[3][1], 7), 2.9631291)\n",
      "            Expecting:\n",
      "                True\n",
      "            **********************************************************************\n",
      "            Line 1, in q4b 2\n",
      "            Failed example:\n",
      "                np.isclose(np.round(thetas_used[3][0], 8), 2.05633644) and np.isclose(np.round(thetas_used[3][1], 7), 2.9631291)\n",
      "            Expected:\n",
      "                True\n",
      "            Got:\n",
      "                False\n",
      "\n",
      "        q4b - 4 result:\n",
      "            ❌ Test case failed\n",
      "            Trying:\n",
      "                np.isclose(np.round(losses_calculated[5], 8), 0.90732714) and np.isclose(np.round(losses_calculated[8], 8), 0.29697507)\n",
      "            Expecting:\n",
      "                True\n",
      "            **********************************************************************\n",
      "            Line 1, in q4b 3\n",
      "            Failed example:\n",
      "                np.isclose(np.round(losses_calculated[5], 8), 0.90732714) and np.isclose(np.round(losses_calculated[8], 8), 0.29697507)\n",
      "            Expected:\n",
      "                True\n",
      "            Got:\n",
      "                False\n"
     ]
    },
    {
     "data": {
      "text/html": [
       "\n",
       "                    <p>\n",
       "                        Your submission has been exported. Click\n",
       "                        <a href=\"lab07_2024_03_13T02_55_22_439815.zip\" download=\"lab07_2024_03_13T02_55_22_439815.zip\" target=\"_blank\">here</a> to download\n",
       "                        the zip file.\n",
       "                    </p>\n",
       "                "
      ],
      "text/plain": [
       "<IPython.core.display.HTML object>"
      ]
     },
     "metadata": {},
     "output_type": "display_data"
    }
   ],
   "source": [
    "# Save your notebook first, then run this cell to export your submission.\n",
    "grader.export(pdf=False, run_tests=True)"
   ]
  },
  {
   "cell_type": "markdown",
   "metadata": {},
   "source": [
    " "
   ]
  }
 ],
 "metadata": {
  "celltoolbar": "Create Assignment",
  "kernelspec": {
   "display_name": "Python 3 (ipykernel)",
   "language": "python",
   "name": "python3"
  },
  "language_info": {
   "codemirror_mode": {
    "name": "ipython",
    "version": 3
   },
   "file_extension": ".py",
   "mimetype": "text/x-python",
   "name": "python",
   "nbconvert_exporter": "python",
   "pygments_lexer": "ipython3",
   "version": "3.11.0"
  },
  "otter": {
   "OK_FORMAT": true,
   "tests": {
    "q1": {
     "name": "q1",
     "points": 2,
     "suites": [
      {
       "cases": [
        {
         "code": ">>> one_hot_X.shape == (244, 13)\nTrue",
         "hidden": false,
         "locked": false
        },
        {
         "code": ">>> np.all([np.issubdtype(one_hot_X[column].dtype, np.number) for column in one_hot_X])\nTrue",
         "hidden": false,
         "locked": false
        }
       ],
       "scored": true,
       "setup": "",
       "teardown": "",
       "type": "doctest"
      }
     ]
    },
    "q2a": {
     "name": "q2a",
     "points": null,
     "suites": [
      {
       "cases": [
        {
         "code": ">>> len(model._thetas) == 13\nTrue",
         "hidden": false,
         "locked": false
        },
        {
         "code": ">>> len(model_l1._thetas) == 13\nTrue",
         "hidden": false,
         "locked": false
        },
        {
         "code": ">>> test_model = MyScipyLinearModel()\n>>> test_model.fit(l1, one_hot_X, tips)\n>>> len(model_l1.predict(one_hot_X)) == 244\nTrue",
         "hidden": false,
         "locked": false
        },
        {
         "code": ">>> test_model = MyScipyLinearModel()\n>>> test_model.fit(l2, one_hot_X, tips)\n>>> len(test_model.predict(one_hot_X)) == 244\nTrue",
         "hidden": false,
         "locked": false
        }
       ],
       "scored": true,
       "setup": "",
       "teardown": "",
       "type": "doctest"
      }
     ]
    },
    "q2b": {
     "name": "q2b",
     "points": null,
     "suites": [
      {
       "cases": [
        {
         "code": ">>> isinstance(sklearn_model, LinearRegression)\nTrue",
         "hidden": false,
         "locked": false
        },
        {
         "code": ">>> len(sklearn_model.coef_) == 13\nTrue",
         "hidden": false,
         "locked": false
        },
        {
         "code": ">>> len(sklearn_model.predict(one_hot_X)) == 244\nTrue",
         "hidden": false,
         "locked": false
        }
       ],
       "scored": true,
       "setup": "",
       "teardown": "",
       "type": "doctest"
      }
     ]
    },
    "q2c": {
     "name": "q2c",
     "points": null,
     "suites": [
      {
       "cases": [
        {
         "code": ">>> len(sklearn_model_intercept.coef_) == 12\nTrue",
         "hidden": false,
         "locked": false
        },
        {
         "code": ">>> sklearn_model_intercept.intercept_ != 0\nTrue",
         "hidden": false,
         "locked": false
        }
       ],
       "scored": true,
       "setup": "",
       "teardown": "",
       "type": "doctest"
      }
     ]
    },
    "q3a": {
     "name": "q3a",
     "points": null,
     "suites": [
      {
       "cases": [
        {
         "code": ">>> X_test = np.array([[1, 2], [-1, -9]])\n>>> Y_test = np.array([1, 3])\n>>> model_test = MyAnalyticallyFitOLSModel()\n>>> model_test.fit(X_test, Y_test)\n>>> assert np.all(np.isclose(model_test._thetas, np.array([2.14285714, -0.57142857])))\n>>> assert len(model_test.predict(X_test)) == 2\n",
         "hidden": false,
         "locked": false
        },
        {
         "code": ">>> X_test = pd.DataFrame([[1, 2], [-1, -9]])\n>>> Y_test = pd.Series([1, 3])\n>>> model_test = MyAnalyticallyFitOLSModel()\n>>> model_test.fit(X_test, Y_test)\n>>> assert np.all(np.isclose(model_test._thetas, np.array([2.14285714, -0.57142857])))\n>>> assert len(model_test.predict(X_test)) == 2\n",
         "hidden": false,
         "locked": false
        }
       ],
       "scored": true,
       "setup": "",
       "teardown": "",
       "type": "doctest"
      }
     ]
    },
    "q3c": {
     "name": "q3c",
     "points": null,
     "suites": [
      {
       "cases": [
        {
         "code": ">>> one_hot_X_revised.shape == (244, 9)\nTrue",
         "hidden": false,
         "locked": false
        },
        {
         "code": ">>> np.isclose(mean_squared_error(scipy_model.predict(one_hot_X_revised), tips), 1.043942840612841, rtol=1)\nTrue",
         "hidden": false,
         "locked": false
        },
        {
         "code": ">>> np.isclose(mean_squared_error(analytical_model.predict(one_hot_X_revised), tips), 1.043942840612841, rtol=1)\nTrue",
         "hidden": false,
         "locked": false
        }
       ],
       "scored": true,
       "setup": "",
       "teardown": "",
       "type": "doctest"
      }
     ]
    },
    "q4a": {
     "name": "q4a",
     "points": null,
     "suites": [
      {
       "cases": [
        {
         "code": ">>> X, Y = (df['x'], df['y'])\n>>> np.isclose(sin_MSE([0, np.pi], X, Y), 19.49000412080223)\nTrue",
         "hidden": false,
         "locked": false
        },
        {
         "code": ">>> X, Y = (df['x'], df['y'])\n>>> np.isclose(sin_MSE([0, np.pi / 2], X, Y), 20.954427404991762)\nTrue",
         "hidden": false,
         "locked": false
        },
        {
         "code": ">>> X, Y = (df['x'], df['y'])\n>>> np.isclose(sin_MSE_dt1([0, np.pi], X, Y), -25.37666067092453)\nTrue",
         "hidden": false,
         "locked": false
        },
        {
         "code": ">>> X, Y = (df['x'], df['y'])\n>>> np.isclose(sin_MSE_dt1([0, np.pi / 2], X, Y), -25.815630534245813)\nTrue",
         "hidden": false,
         "locked": false
        },
        {
         "code": ">>> X, Y = (df['x'], df['y'])\n>>> np.isclose(sin_MSE_dt2([0, np.pi], X, Y), 1.9427210155296564)\nTrue",
         "hidden": false,
         "locked": false
        },
        {
         "code": ">>> X, Y = (df['x'], df['y'])\n>>> np.isclose(sin_MSE_dt2([0, np.pi / 2], X, Y), -8.680852400281287)\nTrue",
         "hidden": false,
         "locked": false
        }
       ],
       "scored": true,
       "setup": "",
       "teardown": "",
       "type": "doctest"
      }
     ]
    },
    "q4b": {
     "name": "q4b",
     "points": null,
     "suites": [
      {
       "cases": [
        {
         "code": ">>> np.isclose(np.round(theta_hat[0], 8), 1.51625373) and np.isclose(np.round(theta_hat[1], 8), 2.99448441)\nTrue",
         "hidden": false,
         "locked": false
        },
        {
         "code": ">>> np.isclose(np.round(thetas_used[1][0], 8), 2.60105745) and np.isclose(np.round(thetas_used[1][1], 8), 2.60105745)\nTrue",
         "hidden": false,
         "locked": false
        },
        {
         "code": ">>> np.isclose(np.round(thetas_used[3][0], 8), 2.05633644) and np.isclose(np.round(thetas_used[3][1], 7), 2.9631291)\nTrue",
         "hidden": false,
         "locked": false
        },
        {
         "code": ">>> np.isclose(np.round(losses_calculated[5], 8), 0.90732714) and np.isclose(np.round(losses_calculated[8], 8), 0.29697507)\nTrue",
         "hidden": false,
         "locked": false
        }
       ],
       "scored": true,
       "setup": "",
       "teardown": "",
       "type": "doctest"
      }
     ]
    }
   }
  }
 },
 "nbformat": 4,
 "nbformat_minor": 4
}
